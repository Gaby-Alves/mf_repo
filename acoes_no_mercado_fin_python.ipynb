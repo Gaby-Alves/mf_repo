{
  "nbformat": 4,
  "nbformat_minor": 0,
  "metadata": {
    "colab": {
      "name": "acoes_no_mercado_fin_python.ipynb",
      "provenance": [],
      "collapsed_sections": [
        "RQw36CxsuGoh",
        "KZ86OJWLAIxm",
        "VrZQVmYIHHsw",
        "E9c4AFwVYDw-"
      ],
      "toc_visible": true
    },
    "kernelspec": {
      "name": "python3",
      "display_name": "Python 3"
    },
    "language_info": {
      "name": "python"
    }
  },
  "cells": [
    {
      "cell_type": "markdown",
      "metadata": {
        "id": "E9oS3JC3sxSW"
      },
      "source": [
        "*Link do vídeo no Mineirando Dados*\n",
        "\n",
        "\n",
        "https://www.youtube.com/watch?v=28dG0gyXz80"
      ]
    },
    {
      "cell_type": "markdown",
      "metadata": {
        "id": "RQw36CxsuGoh"
      },
      "source": [
        "# Links das documentações das librarys\n",
        "\n",
        "\n",
        "\n",
        "*   yfinance: https://algotrading101.com/learn/yfinance-guide/\n",
        "*   investpy: https://investpy.readthedocs.io\n",
        "*   pybovespa: https://pypi.org/project/pybovespa/\n",
        "*   quandl: https://www.quandl.com\n",
        "*   pandas finance: https://pypi.org/project/pandas-finance/\n",
        "*   pandas reader: https://pandas-datareader.readthedocs.io/en/latest/\n",
        "\n"
      ]
    },
    {
      "cell_type": "code",
      "metadata": {
        "id": "QymKQLc4FW9L",
        "colab": {
          "base_uri": "https://localhost:8080/",
          "height": 1000
        },
        "outputId": "b64f3a4f-157d-4e27-c7a8-f6d88caadd5e"
      },
      "source": [
        "#instalando com pip\n",
        "!pip install pandas --upgrade --no-cache-dir\n",
        "!pip install yfinance --upgrade --no-cache-dir\n",
        "!pip install statsmodels --upgrade --no-cache-dir"
      ],
      "execution_count": null,
      "outputs": [
        {
          "output_type": "stream",
          "text": [
            "Collecting pandas\n",
            "\u001b[?25l  Downloading https://files.pythonhosted.org/packages/51/51/48f3fc47c4e2144da2806dfb6629c4dd1fa3d5a143f9652b141e979a8ca9/pandas-1.2.4-cp37-cp37m-manylinux1_x86_64.whl (9.9MB)\n",
            "\u001b[K     |████████████████████████████████| 9.9MB 6.5MB/s \n",
            "\u001b[?25hRequirement already satisfied, skipping upgrade: python-dateutil>=2.7.3 in /usr/local/lib/python3.7/dist-packages (from pandas) (2.8.1)\n",
            "Requirement already satisfied, skipping upgrade: pytz>=2017.3 in /usr/local/lib/python3.7/dist-packages (from pandas) (2018.9)\n",
            "Requirement already satisfied, skipping upgrade: numpy>=1.16.5 in /usr/local/lib/python3.7/dist-packages (from pandas) (1.19.5)\n",
            "Requirement already satisfied, skipping upgrade: six>=1.5 in /usr/local/lib/python3.7/dist-packages (from python-dateutil>=2.7.3->pandas) (1.15.0)\n",
            "\u001b[31mERROR: google-colab 1.0.0 has requirement pandas~=1.1.0; python_version >= \"3.0\", but you'll have pandas 1.2.4 which is incompatible.\u001b[0m\n",
            "Installing collected packages: pandas\n",
            "  Found existing installation: pandas 1.1.5\n",
            "    Uninstalling pandas-1.1.5:\n",
            "      Successfully uninstalled pandas-1.1.5\n",
            "Successfully installed pandas-1.2.4\n"
          ],
          "name": "stdout"
        },
        {
          "output_type": "display_data",
          "data": {
            "application/vnd.colab-display-data+json": {
              "pip_warning": {
                "packages": [
                  "pandas"
                ]
              }
            }
          },
          "metadata": {
            "tags": []
          }
        },
        {
          "output_type": "stream",
          "text": [
            "Collecting yfinance\n",
            "  Downloading https://files.pythonhosted.org/packages/a7/ee/315752b9ef281ba83c62aa7ec2e2074f85223da6e7e74efb4d3e11c0f510/yfinance-0.1.59.tar.gz\n",
            "Requirement already satisfied, skipping upgrade: pandas>=0.24 in /usr/local/lib/python3.7/dist-packages (from yfinance) (1.2.4)\n",
            "Requirement already satisfied, skipping upgrade: numpy>=1.15 in /usr/local/lib/python3.7/dist-packages (from yfinance) (1.19.5)\n",
            "Requirement already satisfied, skipping upgrade: requests>=2.20 in /usr/local/lib/python3.7/dist-packages (from yfinance) (2.23.0)\n",
            "Requirement already satisfied, skipping upgrade: multitasking>=0.0.7 in /usr/local/lib/python3.7/dist-packages (from yfinance) (0.0.9)\n",
            "Collecting lxml>=4.5.1\n",
            "\u001b[?25l  Downloading https://files.pythonhosted.org/packages/30/c0/d0526314971fc661b083ab135747dc68446a3022686da8c16d25fcf6ef07/lxml-4.6.3-cp37-cp37m-manylinux2014_x86_64.whl (6.3MB)\n",
            "\u001b[K     |████████████████████████████████| 6.3MB 8.5MB/s \n",
            "\u001b[?25hRequirement already satisfied, skipping upgrade: python-dateutil>=2.7.3 in /usr/local/lib/python3.7/dist-packages (from pandas>=0.24->yfinance) (2.8.1)\n",
            "Requirement already satisfied, skipping upgrade: pytz>=2017.3 in /usr/local/lib/python3.7/dist-packages (from pandas>=0.24->yfinance) (2018.9)\n",
            "Requirement already satisfied, skipping upgrade: certifi>=2017.4.17 in /usr/local/lib/python3.7/dist-packages (from requests>=2.20->yfinance) (2020.12.5)\n",
            "Requirement already satisfied, skipping upgrade: chardet<4,>=3.0.2 in /usr/local/lib/python3.7/dist-packages (from requests>=2.20->yfinance) (3.0.4)\n",
            "Requirement already satisfied, skipping upgrade: urllib3!=1.25.0,!=1.25.1,<1.26,>=1.21.1 in /usr/local/lib/python3.7/dist-packages (from requests>=2.20->yfinance) (1.24.3)\n",
            "Requirement already satisfied, skipping upgrade: idna<3,>=2.5 in /usr/local/lib/python3.7/dist-packages (from requests>=2.20->yfinance) (2.10)\n",
            "Requirement already satisfied, skipping upgrade: six>=1.5 in /usr/local/lib/python3.7/dist-packages (from python-dateutil>=2.7.3->pandas>=0.24->yfinance) (1.15.0)\n",
            "Building wheels for collected packages: yfinance\n",
            "  Building wheel for yfinance (setup.py) ... \u001b[?25l\u001b[?25hdone\n",
            "  Created wheel for yfinance: filename=yfinance-0.1.59-py2.py3-none-any.whl size=23442 sha256=690f9452f782d75bdec599d517e0a9a57674bf0318fea7192c655d20b0768753\n",
            "  Stored in directory: /tmp/pip-ephem-wheel-cache-zyqonwyp/wheels/f8/2a/0f/4b5a86e1d52e451757eb6bc17fd899629f0925c777741b6d04\n",
            "Successfully built yfinance\n",
            "Installing collected packages: lxml, yfinance\n",
            "  Found existing installation: lxml 4.2.6\n",
            "    Uninstalling lxml-4.2.6:\n",
            "      Successfully uninstalled lxml-4.2.6\n",
            "Successfully installed lxml-4.6.3 yfinance-0.1.59\n",
            "Collecting statsmodels\n",
            "\u001b[?25l  Downloading https://files.pythonhosted.org/packages/da/69/8eef30a6237c54f3c0b524140e2975f4b1eea3489b45eb3339574fc8acee/statsmodels-0.12.2-cp37-cp37m-manylinux1_x86_64.whl (9.5MB)\n",
            "\u001b[K     |████████████████████████████████| 9.5MB 5.1MB/s \n",
            "\u001b[?25hRequirement already satisfied, skipping upgrade: scipy>=1.1 in /usr/local/lib/python3.7/dist-packages (from statsmodels) (1.4.1)\n",
            "Requirement already satisfied, skipping upgrade: patsy>=0.5 in /usr/local/lib/python3.7/dist-packages (from statsmodels) (0.5.1)\n",
            "Requirement already satisfied, skipping upgrade: numpy>=1.15 in /usr/local/lib/python3.7/dist-packages (from statsmodels) (1.19.5)\n",
            "Requirement already satisfied, skipping upgrade: pandas>=0.21 in /usr/local/lib/python3.7/dist-packages (from statsmodels) (1.2.4)\n",
            "Requirement already satisfied, skipping upgrade: six in /usr/local/lib/python3.7/dist-packages (from patsy>=0.5->statsmodels) (1.15.0)\n",
            "Requirement already satisfied, skipping upgrade: python-dateutil>=2.7.3 in /usr/local/lib/python3.7/dist-packages (from pandas>=0.21->statsmodels) (2.8.1)\n",
            "Requirement already satisfied, skipping upgrade: pytz>=2017.3 in /usr/local/lib/python3.7/dist-packages (from pandas>=0.21->statsmodels) (2018.9)\n",
            "Installing collected packages: statsmodels\n",
            "  Found existing installation: statsmodels 0.10.2\n",
            "    Uninstalling statsmodels-0.10.2:\n",
            "      Successfully uninstalled statsmodels-0.10.2\n",
            "Successfully installed statsmodels-0.12.2\n"
          ],
          "name": "stdout"
        }
      ]
    },
    {
      "cell_type": "code",
      "metadata": {
        "id": "iLoLsrHNxFE0"
      },
      "source": [
        "# importando as bibliotecas\n",
        "\n",
        "import pandas as pd\n",
        "import matplotlib.pyplot as plt\n",
        "import yfinance as yf\n",
        "from statsmodels.tsa.seasonal import seasonal_decompose"
      ],
      "execution_count": null,
      "outputs": []
    },
    {
      "cell_type": "markdown",
      "metadata": {
        "id": "KZ86OJWLAIxm"
      },
      "source": [
        "# **1) Aquisição dos dados de ações**\n"
      ]
    },
    {
      "cell_type": "code",
      "metadata": {
        "id": "6yYNsYWOA04k"
      },
      "source": [
        "ticker = yf.Ticker('^BVSP') #ticker ibovespa\n",
        "\n",
        "# 1ª forma de trazer os dados\n",
        "#df = ticker.history(period = '3y', interval = '1mo')\n",
        "\n",
        "# 2 ª firna de trazer os dados\n",
        "df = ticker.history(interval = '1d', start = '2018-01-01', end = '2021-01-01')"
      ],
      "execution_count": null,
      "outputs": []
    },
    {
      "cell_type": "code",
      "metadata": {
        "colab": {
          "base_uri": "https://localhost:8080/"
        },
        "id": "Neb3qvLgGWkY",
        "outputId": "9b720b2d-1459-4b80-bf7f-e4cb334a44de"
      },
      "source": [
        "df # conferindo o dataframe\n"
      ],
      "execution_count": null,
      "outputs": [
        {
          "output_type": "execute_result",
          "data": {
            "text/html": [
              "<div>\n",
              "<style scoped>\n",
              "    .dataframe tbody tr th:only-of-type {\n",
              "        vertical-align: middle;\n",
              "    }\n",
              "\n",
              "    .dataframe tbody tr th {\n",
              "        vertical-align: top;\n",
              "    }\n",
              "\n",
              "    .dataframe thead th {\n",
              "        text-align: right;\n",
              "    }\n",
              "</style>\n",
              "<table border=\"1\" class=\"dataframe\">\n",
              "  <thead>\n",
              "    <tr style=\"text-align: right;\">\n",
              "      <th></th>\n",
              "      <th>Open</th>\n",
              "      <th>High</th>\n",
              "      <th>Low</th>\n",
              "      <th>Close</th>\n",
              "      <th>Volume</th>\n",
              "      <th>Dividends</th>\n",
              "      <th>Stock Splits</th>\n",
              "    </tr>\n",
              "    <tr>\n",
              "      <th>Date</th>\n",
              "      <th></th>\n",
              "      <th></th>\n",
              "      <th></th>\n",
              "      <th></th>\n",
              "      <th></th>\n",
              "      <th></th>\n",
              "      <th></th>\n",
              "    </tr>\n",
              "  </thead>\n",
              "  <tbody>\n",
              "    <tr>\n",
              "      <th>2018-01-02</th>\n",
              "      <td>76403.0</td>\n",
              "      <td>77909.0</td>\n",
              "      <td>76403.0</td>\n",
              "      <td>77891.0</td>\n",
              "      <td>2880300</td>\n",
              "      <td>0</td>\n",
              "      <td>0</td>\n",
              "    </tr>\n",
              "    <tr>\n",
              "      <th>2018-01-03</th>\n",
              "      <td>77889.0</td>\n",
              "      <td>78414.0</td>\n",
              "      <td>77602.0</td>\n",
              "      <td>77995.0</td>\n",
              "      <td>3142200</td>\n",
              "      <td>0</td>\n",
              "      <td>0</td>\n",
              "    </tr>\n",
              "    <tr>\n",
              "      <th>2018-01-04</th>\n",
              "      <td>77998.0</td>\n",
              "      <td>79135.0</td>\n",
              "      <td>77998.0</td>\n",
              "      <td>78647.0</td>\n",
              "      <td>3486100</td>\n",
              "      <td>0</td>\n",
              "      <td>0</td>\n",
              "    </tr>\n",
              "    <tr>\n",
              "      <th>2018-01-05</th>\n",
              "      <td>78644.0</td>\n",
              "      <td>79071.0</td>\n",
              "      <td>78218.0</td>\n",
              "      <td>79071.0</td>\n",
              "      <td>2747100</td>\n",
              "      <td>0</td>\n",
              "      <td>0</td>\n",
              "    </tr>\n",
              "    <tr>\n",
              "      <th>2018-01-08</th>\n",
              "      <td>79070.0</td>\n",
              "      <td>79395.0</td>\n",
              "      <td>78631.0</td>\n",
              "      <td>79379.0</td>\n",
              "      <td>2550800</td>\n",
              "      <td>0</td>\n",
              "      <td>0</td>\n",
              "    </tr>\n",
              "    <tr>\n",
              "      <th>...</th>\n",
              "      <td>...</td>\n",
              "      <td>...</td>\n",
              "      <td>...</td>\n",
              "      <td>...</td>\n",
              "      <td>...</td>\n",
              "      <td>...</td>\n",
              "      <td>...</td>\n",
              "    </tr>\n",
              "    <tr>\n",
              "      <th>2020-12-22</th>\n",
              "      <td>115825.0</td>\n",
              "      <td>116903.0</td>\n",
              "      <td>115648.0</td>\n",
              "      <td>116348.0</td>\n",
              "      <td>6947900</td>\n",
              "      <td>0</td>\n",
              "      <td>0</td>\n",
              "    </tr>\n",
              "    <tr>\n",
              "      <th>2020-12-23</th>\n",
              "      <td>116636.0</td>\n",
              "      <td>118311.0</td>\n",
              "      <td>116636.0</td>\n",
              "      <td>117857.0</td>\n",
              "      <td>6483300</td>\n",
              "      <td>0</td>\n",
              "      <td>0</td>\n",
              "    </tr>\n",
              "    <tr>\n",
              "      <th>2020-12-28</th>\n",
              "      <td>117806.0</td>\n",
              "      <td>119213.0</td>\n",
              "      <td>117805.0</td>\n",
              "      <td>119051.0</td>\n",
              "      <td>7171700</td>\n",
              "      <td>0</td>\n",
              "      <td>0</td>\n",
              "    </tr>\n",
              "    <tr>\n",
              "      <th>2020-12-29</th>\n",
              "      <td>119130.0</td>\n",
              "      <td>119861.0</td>\n",
              "      <td>118750.0</td>\n",
              "      <td>119475.0</td>\n",
              "      <td>6769700</td>\n",
              "      <td>0</td>\n",
              "      <td>0</td>\n",
              "    </tr>\n",
              "    <tr>\n",
              "      <th>2020-12-30</th>\n",
              "      <td>119410.0</td>\n",
              "      <td>120150.0</td>\n",
              "      <td>118919.0</td>\n",
              "      <td>119306.0</td>\n",
              "      <td>8235700</td>\n",
              "      <td>0</td>\n",
              "      <td>0</td>\n",
              "    </tr>\n",
              "  </tbody>\n",
              "</table>\n",
              "<p>739 rows × 7 columns</p>\n",
              "</div>"
            ],
            "text/plain": [
              "                Open      High       Low  ...   Volume  Dividends  Stock Splits\n",
              "Date                                      ...                                  \n",
              "2018-01-02   76403.0   77909.0   76403.0  ...  2880300          0             0\n",
              "2018-01-03   77889.0   78414.0   77602.0  ...  3142200          0             0\n",
              "2018-01-04   77998.0   79135.0   77998.0  ...  3486100          0             0\n",
              "2018-01-05   78644.0   79071.0   78218.0  ...  2747100          0             0\n",
              "2018-01-08   79070.0   79395.0   78631.0  ...  2550800          0             0\n",
              "...              ...       ...       ...  ...      ...        ...           ...\n",
              "2020-12-22  115825.0  116903.0  115648.0  ...  6947900          0             0\n",
              "2020-12-23  116636.0  118311.0  116636.0  ...  6483300          0             0\n",
              "2020-12-28  117806.0  119213.0  117805.0  ...  7171700          0             0\n",
              "2020-12-29  119130.0  119861.0  118750.0  ...  6769700          0             0\n",
              "2020-12-30  119410.0  120150.0  118919.0  ...  8235700          0             0\n",
              "\n",
              "[739 rows x 7 columns]"
            ]
          },
          "metadata": {
            "tags": []
          },
          "execution_count": 3
        }
      ]
    },
    {
      "cell_type": "code",
      "metadata": {
        "colab": {
          "base_uri": "https://localhost:8080/"
        },
        "id": "_tVnY1ZUYn1Z",
        "outputId": "d7699cd4-b6b9-4092-ba83-f3935e6b6cc2"
      },
      "source": [
        "df.info()"
      ],
      "execution_count": null,
      "outputs": [
        {
          "output_type": "stream",
          "text": [
            "<class 'pandas.core.frame.DataFrame'>\n",
            "DatetimeIndex: 739 entries, 2018-01-02 to 2020-12-30\n",
            "Data columns (total 7 columns):\n",
            " #   Column        Non-Null Count  Dtype  \n",
            "---  ------        --------------  -----  \n",
            " 0   Open          739 non-null    float64\n",
            " 1   High          739 non-null    float64\n",
            " 2   Low           739 non-null    float64\n",
            " 3   Close         739 non-null    float64\n",
            " 4   Volume        739 non-null    int64  \n",
            " 5   Dividends     739 non-null    int64  \n",
            " 6   Stock Splits  739 non-null    int64  \n",
            "dtypes: float64(4), int64(3)\n",
            "memory usage: 46.2 KB\n"
          ],
          "name": "stdout"
        }
      ]
    },
    {
      "cell_type": "code",
      "metadata": {
        "colab": {
          "base_uri": "https://localhost:8080/"
        },
        "id": "4r7KVtrqHBe5",
        "outputId": "b5370bf8-0028-4d6a-8eb0-f5268d731483"
      },
      "source": [
        "df.tail(10) # conferindo os últimos 10 rows pra ver se tudo rodou bonitin"
      ],
      "execution_count": null,
      "outputs": [
        {
          "output_type": "execute_result",
          "data": {
            "text/html": [
              "<div>\n",
              "<style scoped>\n",
              "    .dataframe tbody tr th:only-of-type {\n",
              "        vertical-align: middle;\n",
              "    }\n",
              "\n",
              "    .dataframe tbody tr th {\n",
              "        vertical-align: top;\n",
              "    }\n",
              "\n",
              "    .dataframe thead th {\n",
              "        text-align: right;\n",
              "    }\n",
              "</style>\n",
              "<table border=\"1\" class=\"dataframe\">\n",
              "  <thead>\n",
              "    <tr style=\"text-align: right;\">\n",
              "      <th></th>\n",
              "      <th>Open</th>\n",
              "      <th>High</th>\n",
              "      <th>Low</th>\n",
              "      <th>Close</th>\n",
              "      <th>Volume</th>\n",
              "      <th>Dividends</th>\n",
              "      <th>Stock Splits</th>\n",
              "    </tr>\n",
              "    <tr>\n",
              "      <th>Date</th>\n",
              "      <th></th>\n",
              "      <th></th>\n",
              "      <th></th>\n",
              "      <th></th>\n",
              "      <th></th>\n",
              "      <th></th>\n",
              "      <th></th>\n",
              "    </tr>\n",
              "  </thead>\n",
              "  <tbody>\n",
              "    <tr>\n",
              "      <th>2020-12-15</th>\n",
              "      <td>114613.0</td>\n",
              "      <td>116390.0</td>\n",
              "      <td>114613.0</td>\n",
              "      <td>116146.0</td>\n",
              "      <td>8195100</td>\n",
              "      <td>0</td>\n",
              "      <td>0</td>\n",
              "    </tr>\n",
              "    <tr>\n",
              "      <th>2020-12-16</th>\n",
              "      <td>116149.0</td>\n",
              "      <td>118178.0</td>\n",
              "      <td>115496.0</td>\n",
              "      <td>117947.0</td>\n",
              "      <td>9808100</td>\n",
              "      <td>0</td>\n",
              "      <td>0</td>\n",
              "    </tr>\n",
              "    <tr>\n",
              "      <th>2020-12-17</th>\n",
              "      <td>117864.0</td>\n",
              "      <td>119027.0</td>\n",
              "      <td>117856.0</td>\n",
              "      <td>118157.0</td>\n",
              "      <td>7701400</td>\n",
              "      <td>0</td>\n",
              "      <td>0</td>\n",
              "    </tr>\n",
              "    <tr>\n",
              "      <th>2020-12-18</th>\n",
              "      <td>118395.0</td>\n",
              "      <td>119370.0</td>\n",
              "      <td>117639.0</td>\n",
              "      <td>117679.0</td>\n",
              "      <td>8636000</td>\n",
              "      <td>0</td>\n",
              "      <td>0</td>\n",
              "    </tr>\n",
              "    <tr>\n",
              "      <th>2020-12-21</th>\n",
              "      <td>118021.0</td>\n",
              "      <td>118021.0</td>\n",
              "      <td>114730.0</td>\n",
              "      <td>116016.0</td>\n",
              "      <td>10347100</td>\n",
              "      <td>0</td>\n",
              "      <td>0</td>\n",
              "    </tr>\n",
              "    <tr>\n",
              "      <th>2020-12-22</th>\n",
              "      <td>115825.0</td>\n",
              "      <td>116903.0</td>\n",
              "      <td>115648.0</td>\n",
              "      <td>116348.0</td>\n",
              "      <td>6947900</td>\n",
              "      <td>0</td>\n",
              "      <td>0</td>\n",
              "    </tr>\n",
              "    <tr>\n",
              "      <th>2020-12-23</th>\n",
              "      <td>116636.0</td>\n",
              "      <td>118311.0</td>\n",
              "      <td>116636.0</td>\n",
              "      <td>117857.0</td>\n",
              "      <td>6483300</td>\n",
              "      <td>0</td>\n",
              "      <td>0</td>\n",
              "    </tr>\n",
              "    <tr>\n",
              "      <th>2020-12-28</th>\n",
              "      <td>117806.0</td>\n",
              "      <td>119213.0</td>\n",
              "      <td>117805.0</td>\n",
              "      <td>119051.0</td>\n",
              "      <td>7171700</td>\n",
              "      <td>0</td>\n",
              "      <td>0</td>\n",
              "    </tr>\n",
              "    <tr>\n",
              "      <th>2020-12-29</th>\n",
              "      <td>119130.0</td>\n",
              "      <td>119861.0</td>\n",
              "      <td>118750.0</td>\n",
              "      <td>119475.0</td>\n",
              "      <td>6769700</td>\n",
              "      <td>0</td>\n",
              "      <td>0</td>\n",
              "    </tr>\n",
              "    <tr>\n",
              "      <th>2020-12-30</th>\n",
              "      <td>119410.0</td>\n",
              "      <td>120150.0</td>\n",
              "      <td>118919.0</td>\n",
              "      <td>119306.0</td>\n",
              "      <td>8235700</td>\n",
              "      <td>0</td>\n",
              "      <td>0</td>\n",
              "    </tr>\n",
              "  </tbody>\n",
              "</table>\n",
              "</div>"
            ],
            "text/plain": [
              "                Open      High       Low  ...    Volume  Dividends  Stock Splits\n",
              "Date                                      ...                                   \n",
              "2020-12-15  114613.0  116390.0  114613.0  ...   8195100          0             0\n",
              "2020-12-16  116149.0  118178.0  115496.0  ...   9808100          0             0\n",
              "2020-12-17  117864.0  119027.0  117856.0  ...   7701400          0             0\n",
              "2020-12-18  118395.0  119370.0  117639.0  ...   8636000          0             0\n",
              "2020-12-21  118021.0  118021.0  114730.0  ...  10347100          0             0\n",
              "2020-12-22  115825.0  116903.0  115648.0  ...   6947900          0             0\n",
              "2020-12-23  116636.0  118311.0  116636.0  ...   6483300          0             0\n",
              "2020-12-28  117806.0  119213.0  117805.0  ...   7171700          0             0\n",
              "2020-12-29  119130.0  119861.0  118750.0  ...   6769700          0             0\n",
              "2020-12-30  119410.0  120150.0  118919.0  ...   8235700          0             0\n",
              "\n",
              "[10 rows x 7 columns]"
            ]
          },
          "metadata": {
            "tags": []
          },
          "execution_count": 7
        }
      ]
    },
    {
      "cell_type": "markdown",
      "metadata": {
        "id": "VrZQVmYIHHsw"
      },
      "source": [
        "# **2) Decomposição de uma série temporal**"
      ]
    },
    {
      "cell_type": "markdown",
      "metadata": {
        "id": "n7xi8G6hHPFu"
      },
      "source": [
        "**Modelos matemáticos**\n",
        "\n",
        "https://www.statsmodels.org/stable/generated/statsmodels.tsa.seasonal.seasonal_decompose.html\n",
        "\n",
        "\n",
        "*    Additive Model \n",
        "      y(t) = Trend_t + Seasonality_t + Noise_t   <- é mais sensível porque soma.\n",
        "      Da a própria série temporal \n",
        "  \n",
        "*    Multiplicative Model\n",
        "      y(t) = Trend_t * Seasonality_t * Noise_t <- é menos sensível porque multiplica, a variação é menor.\n",
        "      Da a própria série temporal\n",
        "\n",
        "      Para decompor primeiro é necessário pegar o valor e depois o intervalo de tempo\n",
        "      Da para usar um ou outro, ou os dois juntos.\n"
      ]
    },
    {
      "cell_type": "code",
      "metadata": {
        "colab": {
          "base_uri": "https://localhost:8080/"
        },
        "id": "4iQcJ0_5KtPP",
        "outputId": "914793cd-d65b-4b83-cec2-90caf3b6131a"
      },
      "source": [
        "type(df) # vendo qual o tipo de dado\n",
        " "
      ],
      "execution_count": null,
      "outputs": [
        {
          "output_type": "execute_result",
          "data": {
            "text/plain": [
              "pandas.core.frame.DataFrame"
            ]
          },
          "metadata": {
            "tags": []
          },
          "execution_count": 8
        }
      ]
    },
    {
      "cell_type": "code",
      "metadata": {
        "colab": {
          "base_uri": "https://localhost:8080/"
        },
        "id": "R-SjbOoUJD2w",
        "outputId": "6386c18f-f5af-4690-8f58-2259dcee8083"
      },
      "source": [
        "df[['Close']].info() # Para detalhar o tipo de dado"
      ],
      "execution_count": null,
      "outputs": [
        {
          "output_type": "stream",
          "text": [
            "<class 'pandas.core.frame.DataFrame'>\n",
            "DatetimeIndex: 739 entries, 2018-01-02 to 2020-12-30\n",
            "Data columns (total 1 columns):\n",
            " #   Column  Non-Null Count  Dtype  \n",
            "---  ------  --------------  -----  \n",
            " 0   Close   739 non-null    float64\n",
            "dtypes: float64(1)\n",
            "memory usage: 11.5 KB\n"
          ],
          "name": "stdout"
        }
      ]
    },
    {
      "cell_type": "code",
      "metadata": {
        "colab": {
          "base_uri": "https://localhost:8080/",
          "height": 450
        },
        "id": "VZYqyUJiLVUn",
        "outputId": "e8553b90-8b5d-43ac-ed2f-674dd7d41120"
      },
      "source": [
        "df[['Close']]"
      ],
      "execution_count": null,
      "outputs": [
        {
          "output_type": "execute_result",
          "data": {
            "text/html": [
              "<div>\n",
              "<style scoped>\n",
              "    .dataframe tbody tr th:only-of-type {\n",
              "        vertical-align: middle;\n",
              "    }\n",
              "\n",
              "    .dataframe tbody tr th {\n",
              "        vertical-align: top;\n",
              "    }\n",
              "\n",
              "    .dataframe thead th {\n",
              "        text-align: right;\n",
              "    }\n",
              "</style>\n",
              "<table border=\"1\" class=\"dataframe\">\n",
              "  <thead>\n",
              "    <tr style=\"text-align: right;\">\n",
              "      <th></th>\n",
              "      <th>Close</th>\n",
              "    </tr>\n",
              "    <tr>\n",
              "      <th>Date</th>\n",
              "      <th></th>\n",
              "    </tr>\n",
              "  </thead>\n",
              "  <tbody>\n",
              "    <tr>\n",
              "      <th>2018-01-02</th>\n",
              "      <td>77891.0</td>\n",
              "    </tr>\n",
              "    <tr>\n",
              "      <th>2018-01-03</th>\n",
              "      <td>77995.0</td>\n",
              "    </tr>\n",
              "    <tr>\n",
              "      <th>2018-01-04</th>\n",
              "      <td>78647.0</td>\n",
              "    </tr>\n",
              "    <tr>\n",
              "      <th>2018-01-05</th>\n",
              "      <td>79071.0</td>\n",
              "    </tr>\n",
              "    <tr>\n",
              "      <th>2018-01-08</th>\n",
              "      <td>79379.0</td>\n",
              "    </tr>\n",
              "    <tr>\n",
              "      <th>...</th>\n",
              "      <td>...</td>\n",
              "    </tr>\n",
              "    <tr>\n",
              "      <th>2020-12-22</th>\n",
              "      <td>116348.0</td>\n",
              "    </tr>\n",
              "    <tr>\n",
              "      <th>2020-12-23</th>\n",
              "      <td>117857.0</td>\n",
              "    </tr>\n",
              "    <tr>\n",
              "      <th>2020-12-28</th>\n",
              "      <td>119051.0</td>\n",
              "    </tr>\n",
              "    <tr>\n",
              "      <th>2020-12-29</th>\n",
              "      <td>119475.0</td>\n",
              "    </tr>\n",
              "    <tr>\n",
              "      <th>2020-12-30</th>\n",
              "      <td>119306.0</td>\n",
              "    </tr>\n",
              "  </tbody>\n",
              "</table>\n",
              "<p>739 rows × 1 columns</p>\n",
              "</div>"
            ],
            "text/plain": [
              "               Close\n",
              "Date                \n",
              "2018-01-02   77891.0\n",
              "2018-01-03   77995.0\n",
              "2018-01-04   78647.0\n",
              "2018-01-05   79071.0\n",
              "2018-01-08   79379.0\n",
              "...              ...\n",
              "2020-12-22  116348.0\n",
              "2020-12-23  117857.0\n",
              "2020-12-28  119051.0\n",
              "2020-12-29  119475.0\n",
              "2020-12-30  119306.0\n",
              "\n",
              "[739 rows x 1 columns]"
            ]
          },
          "metadata": {
            "tags": []
          },
          "execution_count": 10
        }
      ]
    },
    {
      "cell_type": "code",
      "metadata": {
        "id": "BElewVlhMVzy"
      },
      "source": [
        "# Primeiro passsa a série, depois o tipo de modelo, período baseado em 30 dias/dados média móvel, e extrapolate_trend pra n deixar nulo, preencha com o próprio dado?\n",
        "\n",
        "decomposicao = seasonal_decompose(df[['Close']], model='additive', period = 30, extrapolate_trend= 30)\n"
      ],
      "execution_count": null,
      "outputs": []
    },
    {
      "cell_type": "code",
      "metadata": {
        "colab": {
          "base_uri": "https://localhost:8080/",
          "height": 294
        },
        "id": "eUNgUmUoS-bu",
        "outputId": "6cdcd3f4-a625-4a2c-fa12-7f8b383ea086"
      },
      "source": [
        "df[['Close']].plot() #plotando o ibovespa"
      ],
      "execution_count": null,
      "outputs": [
        {
          "output_type": "execute_result",
          "data": {
            "text/plain": [
              "<matplotlib.axes._subplots.AxesSubplot at 0x7f144c8b0bd0>"
            ]
          },
          "metadata": {
            "tags": []
          },
          "execution_count": 13
        },
        {
          "output_type": "display_data",
          "data": {
            "image/png": "[encoded data removed]",
            "text/plain": [
              "<Figure size 432x288 with 1 Axes>"
            ]
          },
          "metadata": {
            "tags": [],
            "needs_background": "light"
          }
        }
      ]
    },
    {
      "cell_type": "code",
      "metadata": {
        "colab": {
          "base_uri": "https://localhost:8080/"
        },
        "id": "VVFS6NRMWxOX",
        "outputId": "2988bdba-f88f-4e43-f736-59bb1f4ce058"
      },
      "source": [
        "df['Close'].head() # observando a soma dos dados dar a própria série temporal"
      ],
      "execution_count": null,
      "outputs": [
        {
          "output_type": "execute_result",
          "data": {
            "text/plain": [
              "Date\n",
              "2018-01-02    77891.0\n",
              "2018-01-03    77995.0\n",
              "2018-01-04    78647.0\n",
              "2018-01-05    79071.0\n",
              "2018-01-08    79379.0\n",
              "Name: Close, dtype: float64"
            ]
          },
          "metadata": {
            "tags": []
          },
          "execution_count": 15
        }
      ]
    },
    {
      "cell_type": "code",
      "metadata": {
        "colab": {
          "base_uri": "https://localhost:8080/"
        },
        "id": "9AIArI4QW3mt",
        "outputId": "8ddc5702-c870-4b99-a083-ea1b53484cff"
      },
      "source": [
        "decomposicao.seasonal + decomposicao.resid + decomposicao.trend"
      ],
      "execution_count": null,
      "outputs": [
        {
          "output_type": "execute_result",
          "data": {
            "text/plain": [
              "Date\n",
              "2018-01-02     77891.0\n",
              "2018-01-03     77995.0\n",
              "2018-01-04     78647.0\n",
              "2018-01-05     79071.0\n",
              "2018-01-08     79379.0\n",
              "                ...   \n",
              "2020-12-22    116348.0\n",
              "2020-12-23    117857.0\n",
              "2020-12-28    119051.0\n",
              "2020-12-29    119475.0\n",
              "2020-12-30    119306.0\n",
              "Length: 739, dtype: float64"
            ]
          },
          "metadata": {
            "tags": []
          },
          "execution_count": 18
        }
      ]
    },
    {
      "cell_type": "code",
      "metadata": {
        "colab": {
          "base_uri": "https://localhost:8080/"
        },
        "id": "hjuh5PBJW-0q",
        "outputId": "3c53995a-c166-4614-aead-3c1eb6c804ff"
      },
      "source": [
        "decomposicao.trend.iloc[0:5]"
      ],
      "execution_count": null,
      "outputs": [
        {
          "output_type": "execute_result",
          "data": {
            "text/plain": [
              "Date\n",
              "2018-01-02    80608.120699\n",
              "2018-01-03    80729.378145\n",
              "2018-01-04    80850.635591\n",
              "2018-01-05    80971.893038\n",
              "2018-01-08    81093.150484\n",
              "Name: trend, dtype: float64"
            ]
          },
          "metadata": {
            "tags": []
          },
          "execution_count": 19
        }
      ]
    },
    {
      "cell_type": "code",
      "metadata": {
        "colab": {
          "base_uri": "https://localhost:8080/"
        },
        "id": "5nTuX5PnX9P0",
        "outputId": "67853155-b3fa-4612-ccb5-863c1f7cdddf"
      },
      "source": [
        "decomposicao_multi = seasonal_decompose(df[['Close']], model = 'multiplicative', period = 30, extrapolate_trend= 30)\n",
        "decomposicao_multi.seasonal #observando o output"
      ],
      "execution_count": null,
      "outputs": [
        {
          "output_type": "execute_result",
          "data": {
            "text/plain": [
              "Date\n",
              "2018-01-02    1.000411\n",
              "2018-01-03    0.995063\n",
              "2018-01-04    0.994163\n",
              "2018-01-05    0.992405\n",
              "2018-01-08    0.995267\n",
              "                ...   \n",
              "2020-12-22    0.999201\n",
              "2020-12-23    0.996152\n",
              "2020-12-28    1.001220\n",
              "2020-12-29    1.000271\n",
              "2020-12-30    1.005005\n",
              "Name: seasonal, Length: 739, dtype: float64"
            ]
          },
          "metadata": {
            "tags": []
          },
          "execution_count": 22
        }
      ]
    },
    {
      "cell_type": "code",
      "metadata": {
        "colab": {
          "base_uri": "https://localhost:8080/",
          "height": 297
        },
        "id": "at29qPmITXPB",
        "outputId": "abb69295-a072-4ae9-ca31-8641bea01f13"
      },
      "source": [
        "decomposicao.plot(); #Plotando o ibov separado por: tendencia, seasonalidade e resíduo\n"
      ],
      "execution_count": null,
      "outputs": [
        {
          "output_type": "display_data",
          "data": {
            "image/png": "[encoded data removed]",
            "text/plain": [
              "<Figure size 432x288 with 4 Axes>"
            ]
          },
          "metadata": {
            "tags": [],
            "needs_background": "light"
          }
        }
      ]
    },
    {
      "cell_type": "code",
      "metadata": {
        "colab": {
          "base_uri": "https://localhost:8080/",
          "height": 500
        },
        "id": "u97ylN02VTTM",
        "outputId": "bf02a83c-f7d5-4fd4-8e6c-f1d527697e1d"
      },
      "source": [
        "ax, fig = plt.subplots(figsize = (15,8))\n",
        "plt.plot(decomposicao.observed) # Azul\n",
        "plt.plot(decomposicao.trend) # Laranjinha"
      ],
      "execution_count": null,
      "outputs": [
        {
          "output_type": "execute_result",
          "data": {
            "text/plain": [
              "[<matplotlib.lines.Line2D at 0x7f143f180c50>]"
            ]
          },
          "metadata": {
            "tags": []
          },
          "execution_count": 24
        },
        {
          "output_type": "display_data",
          "data": {
            "image/png": "[encoded data removed]",
            "text/plain": [
              "<Figure size 1080x576 with 1 Axes>"
            ]
          },
          "metadata": {
            "tags": [],
            "needs_background": "light"
          }
        }
      ]
    },
    {
      "cell_type": "code",
      "metadata": {
        "colab": {
          "base_uri": "https://localhost:8080/",
          "height": 585
        },
        "id": "fQ1ENS2VWgGC",
        "outputId": "488d2ea7-74f9-48fb-baa9-abe50700fedb"
      },
      "source": [
        "fig,(ax1, ax2, ax3, ax4) = plt.subplots(4,1, figsize = (12,8))\n",
        "decomposicao.observed.plot(ax=ax1)\n",
        "decomposicao.trend.plot(ax=ax2)\n",
        "decomposicao.seasonal.plot(ax=ax3)\n",
        "decomposicao.resid.plot(ax=ax4)\n",
        "plt.tight_layout()"
      ],
      "execution_count": null,
      "outputs": [
        {
          "output_type": "display_data",
          "data": {
            "image/png": "[encoded data removed]",
            "text/plain": [
              "<Figure size 864x576 with 4 Axes>"
            ]
          },
          "metadata": {
            "tags": [],
            "needs_background": "light"
          }
        }
      ]
    },
    {
      "cell_type": "markdown",
      "metadata": {
        "id": "E9c4AFwVYDw-"
      },
      "source": [
        "# **3) Cáculo média móvel**"
      ]
    },
    {
      "cell_type": "code",
      "metadata": {
        "colab": {
          "base_uri": "https://localhost:8080/"
        },
        "id": "KZf95ryzXrQj",
        "outputId": "af137e71-91ab-4db9-d44e-1b0abb417709"
      },
      "source": [
        "df['Close'].rolling(7).mean() # calculando a media movel. Pega uma janela de 7, calcula média deles e define o próximo elemento"
      ],
      "execution_count": null,
      "outputs": [
        {
          "output_type": "execute_result",
          "data": {
            "text/plain": [
              "Date\n",
              "2018-01-02              NaN\n",
              "2018-01-03              NaN\n",
              "2018-01-04              NaN\n",
              "2018-01-05              NaN\n",
              "2018-01-08              NaN\n",
              "                  ...      \n",
              "2020-12-22    116752.571429\n",
              "2020-12-23    117164.285714\n",
              "2020-12-28    117579.285714\n",
              "2020-12-29    117797.571429\n",
              "2020-12-30    117961.714286\n",
              "Name: Close, Length: 739, dtype: float64"
            ]
          },
          "metadata": {
            "tags": []
          },
          "execution_count": 27
        }
      ]
    },
    {
      "cell_type": "code",
      "metadata": {
        "id": "DaNxIsZ_YQzp"
      },
      "source": [
        "media_movel7d = df['Close'].rolling(7).mean() # 7 dias de dados\n",
        "media_movel14d = df['Close'].rolling(14).mean() # '4 dias de dados\n",
        "media_model21d = df['Close'].rolling(21).mean() # 21 dias de dados"
      ],
      "execution_count": null,
      "outputs": []
    },
    {
      "cell_type": "code",
      "metadata": {
        "colab": {
          "base_uri": "https://localhost:8080/",
          "height": 337
        },
        "id": "gkK3-8alZ4D0",
        "outputId": "92d3342b-4569-41ff-def0-97ae988c2207"
      },
      "source": [
        "fig, ax = plt.subplots(figsize = (12,5))\n",
        "plt.plot(media_movel7d, 'orange')\n",
        "plt.plot(media_movel14d, 'red')\n",
        "plt.plot(media_model21d, 'black')\n",
        "plt.plot(df['Close'])"
      ],
      "execution_count": null,
      "outputs": [
        {
          "output_type": "execute_result",
          "data": {
            "text/plain": [
              "[<matplotlib.lines.Line2D at 0x7f143d7aebd0>]"
            ]
          },
          "metadata": {
            "tags": []
          },
          "execution_count": 29
        },
        {
          "output_type": "display_data",
          "data": {
            "image/png": "[encoded data removed]",
            "text/plain": [
              "<Figure size 864x360 with 1 Axes>"
            ]
          },
          "metadata": {
            "tags": [],
            "needs_background": "light"
          }
        }
      ]
    },
    {
      "cell_type": "markdown",
      "metadata": {
        "id": "x5PoqGkIcSln"
      },
      "source": [
        "# **4) Extração de Features**"
      ]
    },
    {
      "cell_type": "markdown",
      "metadata": {
        "id": "vE7c4z5uZwuj"
      },
      "source": [
        "Uma série temporal tem dados date e value, e variáveis que implicam nesses dados (eventos externos) e pode integrar ou extrair features desses dados."
      ]
    },
    {
      "cell_type": "code",
      "metadata": {
        "colab": {
          "base_uri": "https://localhost:8080/",
          "height": 235
        },
        "id": "tJmcLsQyeCdd",
        "outputId": "59a56b5a-5b03-4619-9872-aa52fc50e1af"
      },
      "source": [
        "df.head()"
      ],
      "execution_count": null,
      "outputs": [
        {
          "output_type": "execute_result",
          "data": {
            "text/html": [
              "<div>\n",
              "<style scoped>\n",
              "    .dataframe tbody tr th:only-of-type {\n",
              "        vertical-align: middle;\n",
              "    }\n",
              "\n",
              "    .dataframe tbody tr th {\n",
              "        vertical-align: top;\n",
              "    }\n",
              "\n",
              "    .dataframe thead th {\n",
              "        text-align: right;\n",
              "    }\n",
              "</style>\n",
              "<table border=\"1\" class=\"dataframe\">\n",
              "  <thead>\n",
              "    <tr style=\"text-align: right;\">\n",
              "      <th></th>\n",
              "      <th>Open</th>\n",
              "      <th>High</th>\n",
              "      <th>Low</th>\n",
              "      <th>Close</th>\n",
              "      <th>Volume</th>\n",
              "      <th>Dividends</th>\n",
              "      <th>Stock Splits</th>\n",
              "    </tr>\n",
              "    <tr>\n",
              "      <th>Date</th>\n",
              "      <th></th>\n",
              "      <th></th>\n",
              "      <th></th>\n",
              "      <th></th>\n",
              "      <th></th>\n",
              "      <th></th>\n",
              "      <th></th>\n",
              "    </tr>\n",
              "  </thead>\n",
              "  <tbody>\n",
              "    <tr>\n",
              "      <th>2018-01-02</th>\n",
              "      <td>76403.0</td>\n",
              "      <td>77909.0</td>\n",
              "      <td>76403.0</td>\n",
              "      <td>77891.0</td>\n",
              "      <td>2880300</td>\n",
              "      <td>0</td>\n",
              "      <td>0</td>\n",
              "    </tr>\n",
              "    <tr>\n",
              "      <th>2018-01-03</th>\n",
              "      <td>77889.0</td>\n",
              "      <td>78414.0</td>\n",
              "      <td>77602.0</td>\n",
              "      <td>77995.0</td>\n",
              "      <td>3142200</td>\n",
              "      <td>0</td>\n",
              "      <td>0</td>\n",
              "    </tr>\n",
              "    <tr>\n",
              "      <th>2018-01-04</th>\n",
              "      <td>77998.0</td>\n",
              "      <td>79135.0</td>\n",
              "      <td>77998.0</td>\n",
              "      <td>78647.0</td>\n",
              "      <td>3486100</td>\n",
              "      <td>0</td>\n",
              "      <td>0</td>\n",
              "    </tr>\n",
              "    <tr>\n",
              "      <th>2018-01-05</th>\n",
              "      <td>78644.0</td>\n",
              "      <td>79071.0</td>\n",
              "      <td>78218.0</td>\n",
              "      <td>79071.0</td>\n",
              "      <td>2747100</td>\n",
              "      <td>0</td>\n",
              "      <td>0</td>\n",
              "    </tr>\n",
              "    <tr>\n",
              "      <th>2018-01-08</th>\n",
              "      <td>79070.0</td>\n",
              "      <td>79395.0</td>\n",
              "      <td>78631.0</td>\n",
              "      <td>79379.0</td>\n",
              "      <td>2550800</td>\n",
              "      <td>0</td>\n",
              "      <td>0</td>\n",
              "    </tr>\n",
              "  </tbody>\n",
              "</table>\n",
              "</div>"
            ],
            "text/plain": [
              "               Open     High      Low  ...   Volume  Dividends  Stock Splits\n",
              "Date                                   ...                                  \n",
              "2018-01-02  76403.0  77909.0  76403.0  ...  2880300          0             0\n",
              "2018-01-03  77889.0  78414.0  77602.0  ...  3142200          0             0\n",
              "2018-01-04  77998.0  79135.0  77998.0  ...  3486100          0             0\n",
              "2018-01-05  78644.0  79071.0  78218.0  ...  2747100          0             0\n",
              "2018-01-08  79070.0  79395.0  78631.0  ...  2550800          0             0\n",
              "\n",
              "[5 rows x 7 columns]"
            ]
          },
          "metadata": {
            "tags": []
          },
          "execution_count": 30
        }
      ]
    },
    {
      "cell_type": "code",
      "metadata": {
        "id": "VdqQjCtILJfd"
      },
      "source": [
        "df.reset_index(inplace = True) # resetar o indice"
      ],
      "execution_count": null,
      "outputs": []
    },
    {
      "cell_type": "code",
      "metadata": {
        "colab": {
          "base_uri": "https://localhost:8080/",
          "height": 204
        },
        "id": "PcZyGM5tLQmf",
        "outputId": "3d14c734-46b3-4f87-bc37-b5bfaedba08a"
      },
      "source": [
        "df.head()"
      ],
      "execution_count": null,
      "outputs": [
        {
          "output_type": "execute_result",
          "data": {
            "text/html": [
              "<div>\n",
              "<style scoped>\n",
              "    .dataframe tbody tr th:only-of-type {\n",
              "        vertical-align: middle;\n",
              "    }\n",
              "\n",
              "    .dataframe tbody tr th {\n",
              "        vertical-align: top;\n",
              "    }\n",
              "\n",
              "    .dataframe thead th {\n",
              "        text-align: right;\n",
              "    }\n",
              "</style>\n",
              "<table border=\"1\" class=\"dataframe\">\n",
              "  <thead>\n",
              "    <tr style=\"text-align: right;\">\n",
              "      <th></th>\n",
              "      <th>Date</th>\n",
              "      <th>Open</th>\n",
              "      <th>High</th>\n",
              "      <th>Low</th>\n",
              "      <th>Close</th>\n",
              "      <th>Volume</th>\n",
              "      <th>Dividends</th>\n",
              "      <th>Stock Splits</th>\n",
              "    </tr>\n",
              "  </thead>\n",
              "  <tbody>\n",
              "    <tr>\n",
              "      <th>0</th>\n",
              "      <td>2018-01-02</td>\n",
              "      <td>76403.0</td>\n",
              "      <td>77909.0</td>\n",
              "      <td>76403.0</td>\n",
              "      <td>77891.0</td>\n",
              "      <td>2880300</td>\n",
              "      <td>0</td>\n",
              "      <td>0</td>\n",
              "    </tr>\n",
              "    <tr>\n",
              "      <th>1</th>\n",
              "      <td>2018-01-03</td>\n",
              "      <td>77889.0</td>\n",
              "      <td>78414.0</td>\n",
              "      <td>77602.0</td>\n",
              "      <td>77995.0</td>\n",
              "      <td>3142200</td>\n",
              "      <td>0</td>\n",
              "      <td>0</td>\n",
              "    </tr>\n",
              "    <tr>\n",
              "      <th>2</th>\n",
              "      <td>2018-01-04</td>\n",
              "      <td>77998.0</td>\n",
              "      <td>79135.0</td>\n",
              "      <td>77998.0</td>\n",
              "      <td>78647.0</td>\n",
              "      <td>3486100</td>\n",
              "      <td>0</td>\n",
              "      <td>0</td>\n",
              "    </tr>\n",
              "    <tr>\n",
              "      <th>3</th>\n",
              "      <td>2018-01-05</td>\n",
              "      <td>78644.0</td>\n",
              "      <td>79071.0</td>\n",
              "      <td>78218.0</td>\n",
              "      <td>79071.0</td>\n",
              "      <td>2747100</td>\n",
              "      <td>0</td>\n",
              "      <td>0</td>\n",
              "    </tr>\n",
              "    <tr>\n",
              "      <th>4</th>\n",
              "      <td>2018-01-08</td>\n",
              "      <td>79070.0</td>\n",
              "      <td>79395.0</td>\n",
              "      <td>78631.0</td>\n",
              "      <td>79379.0</td>\n",
              "      <td>2550800</td>\n",
              "      <td>0</td>\n",
              "      <td>0</td>\n",
              "    </tr>\n",
              "  </tbody>\n",
              "</table>\n",
              "</div>"
            ],
            "text/plain": [
              "        Date     Open     High  ...   Volume  Dividends  Stock Splits\n",
              "0 2018-01-02  76403.0  77909.0  ...  2880300          0             0\n",
              "1 2018-01-03  77889.0  78414.0  ...  3142200          0             0\n",
              "2 2018-01-04  77998.0  79135.0  ...  3486100          0             0\n",
              "3 2018-01-05  78644.0  79071.0  ...  2747100          0             0\n",
              "4 2018-01-08  79070.0  79395.0  ...  2550800          0             0\n",
              "\n",
              "[5 rows x 8 columns]"
            ]
          },
          "metadata": {
            "tags": []
          },
          "execution_count": 32
        }
      ]
    },
    {
      "cell_type": "code",
      "metadata": {
        "colab": {
          "base_uri": "https://localhost:8080/"
        },
        "id": "yjKeNOvllV35",
        "outputId": "a94d553c-fd92-457e-d9c8-db674309f35f"
      },
      "source": [
        "df['Date'].dt.year #ano\n",
        "\n"
      ],
      "execution_count": null,
      "outputs": [
        {
          "output_type": "execute_result",
          "data": {
            "text/plain": [
              "0      2018\n",
              "1      2018\n",
              "2      2018\n",
              "3      2018\n",
              "4      2018\n",
              "       ... \n",
              "734    2020\n",
              "735    2020\n",
              "736    2020\n",
              "737    2020\n",
              "738    2020\n",
              "Name: Date, Length: 739, dtype: int64"
            ]
          },
          "metadata": {
            "tags": []
          },
          "execution_count": 33
        }
      ]
    },
    {
      "cell_type": "code",
      "metadata": {
        "id": "tI8sklocc609"
      },
      "source": [
        "# Criando features para cada período\n",
        "df['year'] = df['Date'].dt.year\n",
        "df['month'] = df['Date'].dt.month\n",
        "df['day'] = df['Date'].dt.day"
      ],
      "execution_count": null,
      "outputs": []
    },
    {
      "cell_type": "code",
      "metadata": {
        "colab": {
          "base_uri": "https://localhost:8080/",
          "height": 204
        },
        "id": "qNzjvYPHaowb",
        "outputId": "4725e2a5-e18f-483d-f920-8252ee84ec5c"
      },
      "source": [
        "df.head()"
      ],
      "execution_count": null,
      "outputs": [
        {
          "output_type": "execute_result",
          "data": {
            "text/html": [
              "<div>\n",
              "<style scoped>\n",
              "    .dataframe tbody tr th:only-of-type {\n",
              "        vertical-align: middle;\n",
              "    }\n",
              "\n",
              "    .dataframe tbody tr th {\n",
              "        vertical-align: top;\n",
              "    }\n",
              "\n",
              "    .dataframe thead th {\n",
              "        text-align: right;\n",
              "    }\n",
              "</style>\n",
              "<table border=\"1\" class=\"dataframe\">\n",
              "  <thead>\n",
              "    <tr style=\"text-align: right;\">\n",
              "      <th></th>\n",
              "      <th>Date</th>\n",
              "      <th>Open</th>\n",
              "      <th>High</th>\n",
              "      <th>Low</th>\n",
              "      <th>Close</th>\n",
              "      <th>Volume</th>\n",
              "      <th>Dividends</th>\n",
              "      <th>Stock Splits</th>\n",
              "      <th>year</th>\n",
              "      <th>month</th>\n",
              "      <th>day</th>\n",
              "    </tr>\n",
              "  </thead>\n",
              "  <tbody>\n",
              "    <tr>\n",
              "      <th>0</th>\n",
              "      <td>2018-01-02</td>\n",
              "      <td>76403.0</td>\n",
              "      <td>77909.0</td>\n",
              "      <td>76403.0</td>\n",
              "      <td>77891.0</td>\n",
              "      <td>2880300</td>\n",
              "      <td>0</td>\n",
              "      <td>0</td>\n",
              "      <td>2018</td>\n",
              "      <td>1</td>\n",
              "      <td>2</td>\n",
              "    </tr>\n",
              "    <tr>\n",
              "      <th>1</th>\n",
              "      <td>2018-01-03</td>\n",
              "      <td>77889.0</td>\n",
              "      <td>78414.0</td>\n",
              "      <td>77602.0</td>\n",
              "      <td>77995.0</td>\n",
              "      <td>3142200</td>\n",
              "      <td>0</td>\n",
              "      <td>0</td>\n",
              "      <td>2018</td>\n",
              "      <td>1</td>\n",
              "      <td>3</td>\n",
              "    </tr>\n",
              "    <tr>\n",
              "      <th>2</th>\n",
              "      <td>2018-01-04</td>\n",
              "      <td>77998.0</td>\n",
              "      <td>79135.0</td>\n",
              "      <td>77998.0</td>\n",
              "      <td>78647.0</td>\n",
              "      <td>3486100</td>\n",
              "      <td>0</td>\n",
              "      <td>0</td>\n",
              "      <td>2018</td>\n",
              "      <td>1</td>\n",
              "      <td>4</td>\n",
              "    </tr>\n",
              "    <tr>\n",
              "      <th>3</th>\n",
              "      <td>2018-01-05</td>\n",
              "      <td>78644.0</td>\n",
              "      <td>79071.0</td>\n",
              "      <td>78218.0</td>\n",
              "      <td>79071.0</td>\n",
              "      <td>2747100</td>\n",
              "      <td>0</td>\n",
              "      <td>0</td>\n",
              "      <td>2018</td>\n",
              "      <td>1</td>\n",
              "      <td>5</td>\n",
              "    </tr>\n",
              "    <tr>\n",
              "      <th>4</th>\n",
              "      <td>2018-01-08</td>\n",
              "      <td>79070.0</td>\n",
              "      <td>79395.0</td>\n",
              "      <td>78631.0</td>\n",
              "      <td>79379.0</td>\n",
              "      <td>2550800</td>\n",
              "      <td>0</td>\n",
              "      <td>0</td>\n",
              "      <td>2018</td>\n",
              "      <td>1</td>\n",
              "      <td>8</td>\n",
              "    </tr>\n",
              "  </tbody>\n",
              "</table>\n",
              "</div>"
            ],
            "text/plain": [
              "        Date     Open     High      Low  ...  Stock Splits  year  month  day\n",
              "0 2018-01-02  76403.0  77909.0  76403.0  ...             0  2018      1    2\n",
              "1 2018-01-03  77889.0  78414.0  77602.0  ...             0  2018      1    3\n",
              "2 2018-01-04  77998.0  79135.0  77998.0  ...             0  2018      1    4\n",
              "3 2018-01-05  78644.0  79071.0  78218.0  ...             0  2018      1    5\n",
              "4 2018-01-08  79070.0  79395.0  78631.0  ...             0  2018      1    8\n",
              "\n",
              "[5 rows x 11 columns]"
            ]
          },
          "metadata": {
            "tags": []
          },
          "execution_count": 35
        }
      ]
    },
    {
      "cell_type": "code",
      "metadata": {
        "colab": {
          "base_uri": "https://localhost:8080/",
          "height": 419
        },
        "id": "YHsD4pFbbihw",
        "outputId": "eb781ccf-192b-44b5-81f9-676891323a97"
      },
      "source": [
        "# Calculando a rentabilidade \n",
        "#preço atual/preço anterior * 100 - 100\n",
        "df[['Close']]"
      ],
      "execution_count": null,
      "outputs": [
        {
          "output_type": "execute_result",
          "data": {
            "text/html": [
              "<div>\n",
              "<style scoped>\n",
              "    .dataframe tbody tr th:only-of-type {\n",
              "        vertical-align: middle;\n",
              "    }\n",
              "\n",
              "    .dataframe tbody tr th {\n",
              "        vertical-align: top;\n",
              "    }\n",
              "\n",
              "    .dataframe thead th {\n",
              "        text-align: right;\n",
              "    }\n",
              "</style>\n",
              "<table border=\"1\" class=\"dataframe\">\n",
              "  <thead>\n",
              "    <tr style=\"text-align: right;\">\n",
              "      <th></th>\n",
              "      <th>Close</th>\n",
              "    </tr>\n",
              "  </thead>\n",
              "  <tbody>\n",
              "    <tr>\n",
              "      <th>0</th>\n",
              "      <td>77891.0</td>\n",
              "    </tr>\n",
              "    <tr>\n",
              "      <th>1</th>\n",
              "      <td>77995.0</td>\n",
              "    </tr>\n",
              "    <tr>\n",
              "      <th>2</th>\n",
              "      <td>78647.0</td>\n",
              "    </tr>\n",
              "    <tr>\n",
              "      <th>3</th>\n",
              "      <td>79071.0</td>\n",
              "    </tr>\n",
              "    <tr>\n",
              "      <th>4</th>\n",
              "      <td>79379.0</td>\n",
              "    </tr>\n",
              "    <tr>\n",
              "      <th>...</th>\n",
              "      <td>...</td>\n",
              "    </tr>\n",
              "    <tr>\n",
              "      <th>734</th>\n",
              "      <td>116348.0</td>\n",
              "    </tr>\n",
              "    <tr>\n",
              "      <th>735</th>\n",
              "      <td>117857.0</td>\n",
              "    </tr>\n",
              "    <tr>\n",
              "      <th>736</th>\n",
              "      <td>119051.0</td>\n",
              "    </tr>\n",
              "    <tr>\n",
              "      <th>737</th>\n",
              "      <td>119475.0</td>\n",
              "    </tr>\n",
              "    <tr>\n",
              "      <th>738</th>\n",
              "      <td>119306.0</td>\n",
              "    </tr>\n",
              "  </tbody>\n",
              "</table>\n",
              "<p>739 rows × 1 columns</p>\n",
              "</div>"
            ],
            "text/plain": [
              "        Close\n",
              "0     77891.0\n",
              "1     77995.0\n",
              "2     78647.0\n",
              "3     79071.0\n",
              "4     79379.0\n",
              "..        ...\n",
              "734  116348.0\n",
              "735  117857.0\n",
              "736  119051.0\n",
              "737  119475.0\n",
              "738  119306.0\n",
              "\n",
              "[739 rows x 1 columns]"
            ]
          },
          "metadata": {
            "tags": []
          },
          "execution_count": 36
        }
      ]
    },
    {
      "cell_type": "code",
      "metadata": {
        "colab": {
          "base_uri": "https://localhost:8080/"
        },
        "id": "ofVwavXzbzxR",
        "outputId": "8cf9edfa-305a-49a2-cd67-96a562f70644"
      },
      "source": [
        "df['Close'].shift() # empurra o vetor pra frente"
      ],
      "execution_count": null,
      "outputs": [
        {
          "output_type": "execute_result",
          "data": {
            "text/plain": [
              "0           NaN\n",
              "1       77891.0\n",
              "2       77995.0\n",
              "3       78647.0\n",
              "4       79071.0\n",
              "         ...   \n",
              "734    116016.0\n",
              "735    116348.0\n",
              "736    117857.0\n",
              "737    119051.0\n",
              "738    119475.0\n",
              "Name: Close, Length: 739, dtype: float64"
            ]
          },
          "metadata": {
            "tags": []
          },
          "execution_count": 37
        }
      ]
    },
    {
      "cell_type": "code",
      "metadata": {
        "id": "R8S9dGOwdtut"
      },
      "source": [
        "df['rentabilidade'] = df['Close'] / df['Close'].shift() * 100 - 100"
      ],
      "execution_count": null,
      "outputs": []
    },
    {
      "cell_type": "code",
      "metadata": {
        "colab": {
          "base_uri": "https://localhost:8080/",
          "height": 204
        },
        "id": "5JOjM4BGeVEE",
        "outputId": "7a077b0f-b2b0-455c-e543-280dee7161bc"
      },
      "source": [
        "df.head()"
      ],
      "execution_count": null,
      "outputs": [
        {
          "output_type": "execute_result",
          "data": {
            "text/html": [
              "<div>\n",
              "<style scoped>\n",
              "    .dataframe tbody tr th:only-of-type {\n",
              "        vertical-align: middle;\n",
              "    }\n",
              "\n",
              "    .dataframe tbody tr th {\n",
              "        vertical-align: top;\n",
              "    }\n",
              "\n",
              "    .dataframe thead th {\n",
              "        text-align: right;\n",
              "    }\n",
              "</style>\n",
              "<table border=\"1\" class=\"dataframe\">\n",
              "  <thead>\n",
              "    <tr style=\"text-align: right;\">\n",
              "      <th></th>\n",
              "      <th>Date</th>\n",
              "      <th>Open</th>\n",
              "      <th>High</th>\n",
              "      <th>Low</th>\n",
              "      <th>Close</th>\n",
              "      <th>Volume</th>\n",
              "      <th>Dividends</th>\n",
              "      <th>Stock Splits</th>\n",
              "      <th>year</th>\n",
              "      <th>month</th>\n",
              "      <th>day</th>\n",
              "      <th>rentabilidade</th>\n",
              "    </tr>\n",
              "  </thead>\n",
              "  <tbody>\n",
              "    <tr>\n",
              "      <th>0</th>\n",
              "      <td>2018-01-02</td>\n",
              "      <td>76403.0</td>\n",
              "      <td>77909.0</td>\n",
              "      <td>76403.0</td>\n",
              "      <td>77891.0</td>\n",
              "      <td>2880300</td>\n",
              "      <td>0</td>\n",
              "      <td>0</td>\n",
              "      <td>2018</td>\n",
              "      <td>1</td>\n",
              "      <td>2</td>\n",
              "      <td>NaN</td>\n",
              "    </tr>\n",
              "    <tr>\n",
              "      <th>1</th>\n",
              "      <td>2018-01-03</td>\n",
              "      <td>77889.0</td>\n",
              "      <td>78414.0</td>\n",
              "      <td>77602.0</td>\n",
              "      <td>77995.0</td>\n",
              "      <td>3142200</td>\n",
              "      <td>0</td>\n",
              "      <td>0</td>\n",
              "      <td>2018</td>\n",
              "      <td>1</td>\n",
              "      <td>3</td>\n",
              "      <td>0.133520</td>\n",
              "    </tr>\n",
              "    <tr>\n",
              "      <th>2</th>\n",
              "      <td>2018-01-04</td>\n",
              "      <td>77998.0</td>\n",
              "      <td>79135.0</td>\n",
              "      <td>77998.0</td>\n",
              "      <td>78647.0</td>\n",
              "      <td>3486100</td>\n",
              "      <td>0</td>\n",
              "      <td>0</td>\n",
              "      <td>2018</td>\n",
              "      <td>1</td>\n",
              "      <td>4</td>\n",
              "      <td>0.835951</td>\n",
              "    </tr>\n",
              "    <tr>\n",
              "      <th>3</th>\n",
              "      <td>2018-01-05</td>\n",
              "      <td>78644.0</td>\n",
              "      <td>79071.0</td>\n",
              "      <td>78218.0</td>\n",
              "      <td>79071.0</td>\n",
              "      <td>2747100</td>\n",
              "      <td>0</td>\n",
              "      <td>0</td>\n",
              "      <td>2018</td>\n",
              "      <td>1</td>\n",
              "      <td>5</td>\n",
              "      <td>0.539118</td>\n",
              "    </tr>\n",
              "    <tr>\n",
              "      <th>4</th>\n",
              "      <td>2018-01-08</td>\n",
              "      <td>79070.0</td>\n",
              "      <td>79395.0</td>\n",
              "      <td>78631.0</td>\n",
              "      <td>79379.0</td>\n",
              "      <td>2550800</td>\n",
              "      <td>0</td>\n",
              "      <td>0</td>\n",
              "      <td>2018</td>\n",
              "      <td>1</td>\n",
              "      <td>8</td>\n",
              "      <td>0.389523</td>\n",
              "    </tr>\n",
              "  </tbody>\n",
              "</table>\n",
              "</div>"
            ],
            "text/plain": [
              "        Date     Open     High      Low  ...  year  month  day  rentabilidade\n",
              "0 2018-01-02  76403.0  77909.0  76403.0  ...  2018      1    2            NaN\n",
              "1 2018-01-03  77889.0  78414.0  77602.0  ...  2018      1    3       0.133520\n",
              "2 2018-01-04  77998.0  79135.0  77998.0  ...  2018      1    4       0.835951\n",
              "3 2018-01-05  78644.0  79071.0  78218.0  ...  2018      1    5       0.539118\n",
              "4 2018-01-08  79070.0  79395.0  78631.0  ...  2018      1    8       0.389523\n",
              "\n",
              "[5 rows x 12 columns]"
            ]
          },
          "metadata": {
            "tags": []
          },
          "execution_count": 42
        }
      ]
    },
    {
      "cell_type": "code",
      "metadata": {
        "id": "048_RS0Debjk"
      },
      "source": [
        "def features_extration(df_):\n",
        "  # criar as features para cada período\n",
        "  # Criando features para cada período\n",
        "  df_['year'] = df_['Date'].dt.year\n",
        "  df_['month'] = df_['Date'].dt.month\n",
        "  df_['day'] = df_['Date'].dt.day\n",
        "\n",
        "  df_['rentabilidade'] = df_['Close'] / df_['Close'].shift() * 100 - 100"
      ],
      "execution_count": null,
      "outputs": []
    },
    {
      "cell_type": "code",
      "metadata": {
        "id": "mv21x3TQe0AT"
      },
      "source": [
        "df.reset_index(inplace = True)"
      ],
      "execution_count": null,
      "outputs": []
    },
    {
      "cell_type": "code",
      "metadata": {
        "id": "VJkrZ54oe5Xm"
      },
      "source": [
        "features_extration(df)"
      ],
      "execution_count": null,
      "outputs": []
    },
    {
      "cell_type": "code",
      "metadata": {
        "colab": {
          "base_uri": "https://localhost:8080/",
          "height": 204
        },
        "id": "IMPvZdaBe5fe",
        "outputId": "0d425157-33ed-4ef1-decf-349bdb42b46b"
      },
      "source": [
        "df.head()"
      ],
      "execution_count": null,
      "outputs": [
        {
          "output_type": "execute_result",
          "data": {
            "text/html": [
              "<div>\n",
              "<style scoped>\n",
              "    .dataframe tbody tr th:only-of-type {\n",
              "        vertical-align: middle;\n",
              "    }\n",
              "\n",
              "    .dataframe tbody tr th {\n",
              "        vertical-align: top;\n",
              "    }\n",
              "\n",
              "    .dataframe thead th {\n",
              "        text-align: right;\n",
              "    }\n",
              "</style>\n",
              "<table border=\"1\" class=\"dataframe\">\n",
              "  <thead>\n",
              "    <tr style=\"text-align: right;\">\n",
              "      <th></th>\n",
              "      <th>index</th>\n",
              "      <th>Date</th>\n",
              "      <th>Open</th>\n",
              "      <th>High</th>\n",
              "      <th>Low</th>\n",
              "      <th>Close</th>\n",
              "      <th>Volume</th>\n",
              "      <th>Dividends</th>\n",
              "      <th>Stock Splits</th>\n",
              "      <th>year</th>\n",
              "      <th>month</th>\n",
              "      <th>day</th>\n",
              "      <th>rentabilidade</th>\n",
              "    </tr>\n",
              "  </thead>\n",
              "  <tbody>\n",
              "    <tr>\n",
              "      <th>0</th>\n",
              "      <td>0</td>\n",
              "      <td>2018-01-02</td>\n",
              "      <td>76403.0</td>\n",
              "      <td>77909.0</td>\n",
              "      <td>76403.0</td>\n",
              "      <td>77891.0</td>\n",
              "      <td>2880300</td>\n",
              "      <td>0</td>\n",
              "      <td>0</td>\n",
              "      <td>2018</td>\n",
              "      <td>1</td>\n",
              "      <td>2</td>\n",
              "      <td>NaN</td>\n",
              "    </tr>\n",
              "    <tr>\n",
              "      <th>1</th>\n",
              "      <td>1</td>\n",
              "      <td>2018-01-03</td>\n",
              "      <td>77889.0</td>\n",
              "      <td>78414.0</td>\n",
              "      <td>77602.0</td>\n",
              "      <td>77995.0</td>\n",
              "      <td>3142200</td>\n",
              "      <td>0</td>\n",
              "      <td>0</td>\n",
              "      <td>2018</td>\n",
              "      <td>1</td>\n",
              "      <td>3</td>\n",
              "      <td>0.133520</td>\n",
              "    </tr>\n",
              "    <tr>\n",
              "      <th>2</th>\n",
              "      <td>2</td>\n",
              "      <td>2018-01-04</td>\n",
              "      <td>77998.0</td>\n",
              "      <td>79135.0</td>\n",
              "      <td>77998.0</td>\n",
              "      <td>78647.0</td>\n",
              "      <td>3486100</td>\n",
              "      <td>0</td>\n",
              "      <td>0</td>\n",
              "      <td>2018</td>\n",
              "      <td>1</td>\n",
              "      <td>4</td>\n",
              "      <td>0.835951</td>\n",
              "    </tr>\n",
              "    <tr>\n",
              "      <th>3</th>\n",
              "      <td>3</td>\n",
              "      <td>2018-01-05</td>\n",
              "      <td>78644.0</td>\n",
              "      <td>79071.0</td>\n",
              "      <td>78218.0</td>\n",
              "      <td>79071.0</td>\n",
              "      <td>2747100</td>\n",
              "      <td>0</td>\n",
              "      <td>0</td>\n",
              "      <td>2018</td>\n",
              "      <td>1</td>\n",
              "      <td>5</td>\n",
              "      <td>0.539118</td>\n",
              "    </tr>\n",
              "    <tr>\n",
              "      <th>4</th>\n",
              "      <td>4</td>\n",
              "      <td>2018-01-08</td>\n",
              "      <td>79070.0</td>\n",
              "      <td>79395.0</td>\n",
              "      <td>78631.0</td>\n",
              "      <td>79379.0</td>\n",
              "      <td>2550800</td>\n",
              "      <td>0</td>\n",
              "      <td>0</td>\n",
              "      <td>2018</td>\n",
              "      <td>1</td>\n",
              "      <td>8</td>\n",
              "      <td>0.389523</td>\n",
              "    </tr>\n",
              "  </tbody>\n",
              "</table>\n",
              "</div>"
            ],
            "text/plain": [
              "   index       Date     Open     High  ...  year  month  day  rentabilidade\n",
              "0      0 2018-01-02  76403.0  77909.0  ...  2018      1    2            NaN\n",
              "1      1 2018-01-03  77889.0  78414.0  ...  2018      1    3       0.133520\n",
              "2      2 2018-01-04  77998.0  79135.0  ...  2018      1    4       0.835951\n",
              "3      3 2018-01-05  78644.0  79071.0  ...  2018      1    5       0.539118\n",
              "4      4 2018-01-08  79070.0  79395.0  ...  2018      1    8       0.389523\n",
              "\n",
              "[5 rows x 13 columns]"
            ]
          },
          "metadata": {
            "tags": []
          },
          "execution_count": 46
        }
      ]
    },
    {
      "cell_type": "markdown",
      "metadata": {
        "id": "r-25em58fXgM"
      },
      "source": [
        "# **Testando hipóteses**"
      ]
    },
    {
      "cell_type": "markdown",
      "metadata": {
        "id": "8_5n0CqcffHf"
      },
      "source": [
        "## Hipótese 1 - Existe um melhor mês para investir no ativo?\n",
        "\n",
        "\n",
        "*   Considerando 3 anos de dados de rentabilidade, o agrupamento mostra que os meses de janeiro, junho e setembro são os mais interessantes para investir.\n",
        "   \n",
        "\n"
      ]
    },
    {
      "cell_type": "code",
      "metadata": {
        "colab": {
          "base_uri": "https://localhost:8080/",
          "height": 299
        },
        "id": "9snCzua7e-T_",
        "outputId": "1ff91c43-e717-4501-ab28-2075bb474b31"
      },
      "source": [
        "df.groupby(\"month\").agg({'rentabilidade':'sum'}).plot(kind='bar') # agg recebe um dicionario\n",
        "# nesse gráfico tem ruído"
      ],
      "execution_count": null,
      "outputs": [
        {
          "output_type": "execute_result",
          "data": {
            "text/plain": [
              "<matplotlib.axes._subplots.AxesSubplot at 0x7f143d6719d0>"
            ]
          },
          "metadata": {
            "tags": []
          },
          "execution_count": 47
        },
        {
          "output_type": "display_data",
          "data": {
            "image/png": "[encoded data removed]",
            "text/plain": [
              "<Figure size 432x288 with 1 Axes>"
            ]
          },
          "metadata": {
            "tags": [],
            "needs_background": "light"
          }
        }
      ]
    },
    {
      "cell_type": "code",
      "metadata": {
        "id": "pPyyBz2ciJcc"
      },
      "source": [
        "df.set_index('Date', inplace = True)"
      ],
      "execution_count": null,
      "outputs": []
    },
    {
      "cell_type": "code",
      "metadata": {
        "colab": {
          "base_uri": "https://localhost:8080/",
          "height": 337
        },
        "id": "B50NE1WqiP4O",
        "outputId": "cf33001d-7258-45ae-cb64-fd5b9895751a"
      },
      "source": [
        "media_movel30d = df['Close'].rolling(30).mean() \n",
        "media_movel90d = df['Close'].rolling(90).mean()\n",
        "\n",
        "fig, ax = plt.subplots(figsize = (12,5))\n",
        "plt.plot(media_movel30d, 'orange')\n",
        "plt.plot(media_movel90d, 'red')\n",
        "plt.plot(df['Close'])"
      ],
      "execution_count": null,
      "outputs": [
        {
          "output_type": "execute_result",
          "data": {
            "text/plain": [
              "[<matplotlib.lines.Line2D at 0x7f143d46a350>]"
            ]
          },
          "metadata": {
            "tags": []
          },
          "execution_count": 51
        },
        {
          "output_type": "display_data",
          "data": {
            "image/png": "[encoded data removed]",
            "text/plain": [
              "<Figure size 864x360 with 1 Axes>"
            ]
          },
          "metadata": {
            "tags": [],
            "needs_background": "light"
          }
        }
      ]
    },
    {
      "cell_type": "markdown",
      "metadata": {
        "id": "he0S_9JZkEYx"
      },
      "source": [
        "## Hipóetese 2 - Existe um melhor dia para investir no ativo?\n"
      ]
    },
    {
      "cell_type": "code",
      "metadata": {
        "colab": {
          "base_uri": "https://localhost:8080/",
          "height": 299
        },
        "id": "wfwyTRNQi2D1",
        "outputId": "dc25ed67-8096-4cea-c135-d2a9b48fb2e1"
      },
      "source": [
        "df.groupby(\"day\").agg({'rentabilidade':\"sum\"}).plot(kind='bar')"
      ],
      "execution_count": null,
      "outputs": [
        {
          "output_type": "execute_result",
          "data": {
            "text/plain": [
              "<matplotlib.axes._subplots.AxesSubplot at 0x7f143d46a8d0>"
            ]
          },
          "metadata": {
            "tags": []
          },
          "execution_count": 52
        },
        {
          "output_type": "display_data",
          "data": {
            "image/png": "[encoded data removed]",
            "text/plain": [
              "<Figure size 432x288 with 1 Axes>"
            ]
          },
          "metadata": {
            "tags": [],
            "needs_background": "light"
          }
        }
      ]
    },
    {
      "cell_type": "code",
      "metadata": {
        "colab": {
          "base_uri": "https://localhost:8080/"
        },
        "id": "YOP0U0d1kXsj",
        "outputId": "f5c24e71-a205-4a94-efc0-a36580dd4985"
      },
      "source": [
        "df.iloc[0]"
      ],
      "execution_count": null,
      "outputs": [
        {
          "output_type": "execute_result",
          "data": {
            "text/plain": [
              "index                  0.0\n",
              "Open               76403.0\n",
              "High               77909.0\n",
              "Low                76403.0\n",
              "Close              77891.0\n",
              "Volume           2880300.0\n",
              "Dividends              0.0\n",
              "Stock Splits           0.0\n",
              "year                2018.0\n",
              "month                  1.0\n",
              "day                    2.0\n",
              "rentabilidade          NaN\n",
              "Name: 2018-01-02 00:00:00, dtype: float64"
            ]
          },
          "metadata": {
            "tags": []
          },
          "execution_count": 53
        }
      ]
    },
    {
      "cell_type": "code",
      "metadata": {
        "colab": {
          "base_uri": "https://localhost:8080/"
        },
        "id": "-MyowNlfkfFU",
        "outputId": "3d17d3d3-669e-49ac-91ad-3ddc3718a38d"
      },
      "source": [
        "df.iloc[-1]"
      ],
      "execution_count": null,
      "outputs": [
        {
          "output_type": "execute_result",
          "data": {
            "text/plain": [
              "index            7.380000e+02\n",
              "Open             1.194100e+05\n",
              "High             1.201500e+05\n",
              "Low              1.189190e+05\n",
              "Close            1.193060e+05\n",
              "Volume           8.235700e+06\n",
              "Dividends        0.000000e+00\n",
              "Stock Splits     0.000000e+00\n",
              "year             2.020000e+03\n",
              "month            1.200000e+01\n",
              "day              3.000000e+01\n",
              "rentabilidade   -1.414522e-01\n",
              "Name: 2020-12-30 00:00:00, dtype: float64"
            ]
          },
          "metadata": {
            "tags": []
          },
          "execution_count": 54
        }
      ]
    },
    {
      "cell_type": "code",
      "metadata": {
        "colab": {
          "base_uri": "https://localhost:8080/"
        },
        "id": "X-FG5WTgkh2P",
        "outputId": "90c9034d-9914-4f62-9299-639180189f34"
      },
      "source": [
        "df['Close'].iloc[-1] / df['Close'].iloc[0] * 100 - 100"
      ],
      "execution_count": null,
      "outputs": [
        {
          "output_type": "execute_result",
          "data": {
            "text/plain": [
              "53.17045615026126"
            ]
          },
          "metadata": {
            "tags": []
          },
          "execution_count": 55
        }
      ]
    },
    {
      "cell_type": "markdown",
      "metadata": {
        "id": "SnV7Ypjmksqf"
      },
      "source": [
        "# 5) Correlação de séries temporais"
      ]
    },
    {
      "cell_type": "code",
      "metadata": {
        "id": "saLN1-TmlyNi"
      },
      "source": [
        "tickers = ['VALE3.SA', 'ITUB4.SA', 'PETR4.SA', 'ABEV3.SA', 'BBDC4.SA', '^BVSP', 'USDBRL=X']"
      ],
      "execution_count": null,
      "outputs": []
    },
    {
      "cell_type": "code",
      "metadata": {
        "colab": {
          "base_uri": "https://localhost:8080/"
        },
        "id": "E1Itl4eume14",
        "outputId": "072e53a9-bc7e-4a39-cb25-3f0f0979c74d"
      },
      "source": [
        "dfs = []\n",
        "\n",
        "for t in tickers:\n",
        "  print('Reading ticker {} ...'.format(t))\n",
        "  ticker = yf.Ticker(t)\n",
        "  aux = ticker.history(interval='1d', start = '2018-01-01', end = '2021-01-01')\n",
        "  aux.reset_index(inplace = True)\n",
        "  aux['ticker'] = t\n",
        "  dfs.append(aux)"
      ],
      "execution_count": null,
      "outputs": [
        {
          "output_type": "stream",
          "text": [
            "Reading ticker VALE3.SA ...\n",
            "Reading ticker ITUB4.SA ...\n",
            "Reading ticker PETR4.SA ...\n",
            "Reading ticker ABEV3.SA ...\n",
            "Reading ticker BBDC4.SA ...\n",
            "Reading ticker ^BVSP ...\n",
            "Reading ticker USDBRL=X ...\n"
          ],
          "name": "stdout"
        }
      ]
    },
    {
      "cell_type": "code",
      "metadata": {
        "colab": {
          "base_uri": "https://localhost:8080/",
          "height": 419
        },
        "id": "dAHgc6ENnDQ3",
        "outputId": "c676c7cb-238c-4a86-9e47-0340d33c68ea"
      },
      "source": [
        "dfs[1]"
      ],
      "execution_count": null,
      "outputs": [
        {
          "output_type": "execute_result",
          "data": {
            "text/html": [
              "<div>\n",
              "<style scoped>\n",
              "    .dataframe tbody tr th:only-of-type {\n",
              "        vertical-align: middle;\n",
              "    }\n",
              "\n",
              "    .dataframe tbody tr th {\n",
              "        vertical-align: top;\n",
              "    }\n",
              "\n",
              "    .dataframe thead th {\n",
              "        text-align: right;\n",
              "    }\n",
              "</style>\n",
              "<table border=\"1\" class=\"dataframe\">\n",
              "  <thead>\n",
              "    <tr style=\"text-align: right;\">\n",
              "      <th></th>\n",
              "      <th>Date</th>\n",
              "      <th>Open</th>\n",
              "      <th>High</th>\n",
              "      <th>Low</th>\n",
              "      <th>Close</th>\n",
              "      <th>Volume</th>\n",
              "      <th>Dividends</th>\n",
              "      <th>Stock Splits</th>\n",
              "      <th>ticker</th>\n",
              "    </tr>\n",
              "  </thead>\n",
              "  <tbody>\n",
              "    <tr>\n",
              "      <th>0</th>\n",
              "      <td>2018-01-02</td>\n",
              "      <td>24.577457</td>\n",
              "      <td>25.197636</td>\n",
              "      <td>24.577457</td>\n",
              "      <td>25.197636</td>\n",
              "      <td>16650900</td>\n",
              "      <td>0.01</td>\n",
              "      <td>0.0</td>\n",
              "      <td>ITUB4.SA</td>\n",
              "    </tr>\n",
              "    <tr>\n",
              "      <th>1</th>\n",
              "      <td>2018-01-03</td>\n",
              "      <td>25.209130</td>\n",
              "      <td>25.461795</td>\n",
              "      <td>25.019630</td>\n",
              "      <td>25.369917</td>\n",
              "      <td>22295700</td>\n",
              "      <td>0.00</td>\n",
              "      <td>0.0</td>\n",
              "      <td>ITUB4.SA</td>\n",
              "    </tr>\n",
              "    <tr>\n",
              "      <th>2</th>\n",
              "      <td>2018-01-04</td>\n",
              "      <td>25.410110</td>\n",
              "      <td>26.013062</td>\n",
              "      <td>25.410110</td>\n",
              "      <td>25.898212</td>\n",
              "      <td>23222550</td>\n",
              "      <td>0.00</td>\n",
              "      <td>0.0</td>\n",
              "      <td>ITUB4.SA</td>\n",
              "    </tr>\n",
              "    <tr>\n",
              "      <th>3</th>\n",
              "      <td>2018-01-05</td>\n",
              "      <td>25.909690</td>\n",
              "      <td>26.024538</td>\n",
              "      <td>25.611086</td>\n",
              "      <td>25.972857</td>\n",
              "      <td>15717450</td>\n",
              "      <td>0.00</td>\n",
              "      <td>0.0</td>\n",
              "      <td>ITUB4.SA</td>\n",
              "    </tr>\n",
              "    <tr>\n",
              "      <th>4</th>\n",
              "      <td>2018-01-08</td>\n",
              "      <td>25.875252</td>\n",
              "      <td>26.024553</td>\n",
              "      <td>25.714463</td>\n",
              "      <td>25.886736</td>\n",
              "      <td>12708150</td>\n",
              "      <td>0.00</td>\n",
              "      <td>0.0</td>\n",
              "      <td>ITUB4.SA</td>\n",
              "    </tr>\n",
              "    <tr>\n",
              "      <th>...</th>\n",
              "      <td>...</td>\n",
              "      <td>...</td>\n",
              "      <td>...</td>\n",
              "      <td>...</td>\n",
              "      <td>...</td>\n",
              "      <td>...</td>\n",
              "      <td>...</td>\n",
              "      <td>...</td>\n",
              "      <td>...</td>\n",
              "    </tr>\n",
              "    <tr>\n",
              "      <th>734</th>\n",
              "      <td>2020-12-22</td>\n",
              "      <td>30.737427</td>\n",
              "      <td>31.210765</td>\n",
              "      <td>30.717704</td>\n",
              "      <td>30.816317</td>\n",
              "      <td>19659000</td>\n",
              "      <td>0.00</td>\n",
              "      <td>0.0</td>\n",
              "      <td>ITUB4.SA</td>\n",
              "    </tr>\n",
              "    <tr>\n",
              "      <th>735</th>\n",
              "      <td>2020-12-23</td>\n",
              "      <td>30.885346</td>\n",
              "      <td>31.605214</td>\n",
              "      <td>30.836040</td>\n",
              "      <td>31.496742</td>\n",
              "      <td>19959200</td>\n",
              "      <td>0.00</td>\n",
              "      <td>0.0</td>\n",
              "      <td>ITUB4.SA</td>\n",
              "    </tr>\n",
              "    <tr>\n",
              "      <th>736</th>\n",
              "      <td>2020-12-28</td>\n",
              "      <td>31.772858</td>\n",
              "      <td>31.979943</td>\n",
              "      <td>31.565769</td>\n",
              "      <td>31.723549</td>\n",
              "      <td>15444600</td>\n",
              "      <td>0.00</td>\n",
              "      <td>0.0</td>\n",
              "      <td>ITUB4.SA</td>\n",
              "    </tr>\n",
              "    <tr>\n",
              "      <th>737</th>\n",
              "      <td>2020-12-29</td>\n",
              "      <td>31.822163</td>\n",
              "      <td>31.940496</td>\n",
              "      <td>31.486881</td>\n",
              "      <td>31.654520</td>\n",
              "      <td>16384200</td>\n",
              "      <td>0.00</td>\n",
              "      <td>0.0</td>\n",
              "      <td>ITUB4.SA</td>\n",
              "    </tr>\n",
              "    <tr>\n",
              "      <th>738</th>\n",
              "      <td>2020-12-30</td>\n",
              "      <td>31.753133</td>\n",
              "      <td>31.881330</td>\n",
              "      <td>31.191042</td>\n",
              "      <td>31.191042</td>\n",
              "      <td>25644400</td>\n",
              "      <td>0.00</td>\n",
              "      <td>0.0</td>\n",
              "      <td>ITUB4.SA</td>\n",
              "    </tr>\n",
              "  </tbody>\n",
              "</table>\n",
              "<p>739 rows × 9 columns</p>\n",
              "</div>"
            ],
            "text/plain": [
              "          Date       Open       High  ...  Dividends  Stock Splits    ticker\n",
              "0   2018-01-02  24.577457  25.197636  ...       0.01           0.0  ITUB4.SA\n",
              "1   2018-01-03  25.209130  25.461795  ...       0.00           0.0  ITUB4.SA\n",
              "2   2018-01-04  25.410110  26.013062  ...       0.00           0.0  ITUB4.SA\n",
              "3   2018-01-05  25.909690  26.024538  ...       0.00           0.0  ITUB4.SA\n",
              "4   2018-01-08  25.875252  26.024553  ...       0.00           0.0  ITUB4.SA\n",
              "..         ...        ...        ...  ...        ...           ...       ...\n",
              "734 2020-12-22  30.737427  31.210765  ...       0.00           0.0  ITUB4.SA\n",
              "735 2020-12-23  30.885346  31.605214  ...       0.00           0.0  ITUB4.SA\n",
              "736 2020-12-28  31.772858  31.979943  ...       0.00           0.0  ITUB4.SA\n",
              "737 2020-12-29  31.822163  31.940496  ...       0.00           0.0  ITUB4.SA\n",
              "738 2020-12-30  31.753133  31.881330  ...       0.00           0.0  ITUB4.SA\n",
              "\n",
              "[739 rows x 9 columns]"
            ]
          },
          "metadata": {
            "tags": []
          },
          "execution_count": 88
        }
      ]
    },
    {
      "cell_type": "code",
      "metadata": {
        "id": "Qlqr09hknOh5"
      },
      "source": [
        "for d in dfs:\n",
        "  features_extration(d)"
      ],
      "execution_count": null,
      "outputs": []
    },
    {
      "cell_type": "code",
      "metadata": {
        "colab": {
          "base_uri": "https://localhost:8080/",
          "height": 419
        },
        "id": "jStp40AznRhe",
        "outputId": "c6a05a24-47ed-4843-c2fe-5a623a9ac852"
      },
      "source": [
        "dfs[1]"
      ],
      "execution_count": null,
      "outputs": [
        {
          "output_type": "execute_result",
          "data": {
            "text/html": [
              "<div>\n",
              "<style scoped>\n",
              "    .dataframe tbody tr th:only-of-type {\n",
              "        vertical-align: middle;\n",
              "    }\n",
              "\n",
              "    .dataframe tbody tr th {\n",
              "        vertical-align: top;\n",
              "    }\n",
              "\n",
              "    .dataframe thead th {\n",
              "        text-align: right;\n",
              "    }\n",
              "</style>\n",
              "<table border=\"1\" class=\"dataframe\">\n",
              "  <thead>\n",
              "    <tr style=\"text-align: right;\">\n",
              "      <th></th>\n",
              "      <th>Date</th>\n",
              "      <th>Open</th>\n",
              "      <th>High</th>\n",
              "      <th>Low</th>\n",
              "      <th>Close</th>\n",
              "      <th>Volume</th>\n",
              "      <th>Dividends</th>\n",
              "      <th>Stock Splits</th>\n",
              "      <th>ticker</th>\n",
              "      <th>year</th>\n",
              "      <th>month</th>\n",
              "      <th>day</th>\n",
              "      <th>rentabilidade</th>\n",
              "    </tr>\n",
              "  </thead>\n",
              "  <tbody>\n",
              "    <tr>\n",
              "      <th>0</th>\n",
              "      <td>2018-01-02</td>\n",
              "      <td>24.577457</td>\n",
              "      <td>25.197636</td>\n",
              "      <td>24.577457</td>\n",
              "      <td>25.197636</td>\n",
              "      <td>16650900</td>\n",
              "      <td>0.01</td>\n",
              "      <td>0.0</td>\n",
              "      <td>ITUB4.SA</td>\n",
              "      <td>2018</td>\n",
              "      <td>1</td>\n",
              "      <td>2</td>\n",
              "      <td>NaN</td>\n",
              "    </tr>\n",
              "    <tr>\n",
              "      <th>1</th>\n",
              "      <td>2018-01-03</td>\n",
              "      <td>25.209130</td>\n",
              "      <td>25.461795</td>\n",
              "      <td>25.019630</td>\n",
              "      <td>25.369917</td>\n",
              "      <td>22295700</td>\n",
              "      <td>0.00</td>\n",
              "      <td>0.0</td>\n",
              "      <td>ITUB4.SA</td>\n",
              "      <td>2018</td>\n",
              "      <td>1</td>\n",
              "      <td>3</td>\n",
              "      <td>0.683720</td>\n",
              "    </tr>\n",
              "    <tr>\n",
              "      <th>2</th>\n",
              "      <td>2018-01-04</td>\n",
              "      <td>25.410110</td>\n",
              "      <td>26.013062</td>\n",
              "      <td>25.410110</td>\n",
              "      <td>25.898212</td>\n",
              "      <td>23222550</td>\n",
              "      <td>0.00</td>\n",
              "      <td>0.0</td>\n",
              "      <td>ITUB4.SA</td>\n",
              "      <td>2018</td>\n",
              "      <td>1</td>\n",
              "      <td>4</td>\n",
              "      <td>2.082370</td>\n",
              "    </tr>\n",
              "    <tr>\n",
              "      <th>3</th>\n",
              "      <td>2018-01-05</td>\n",
              "      <td>25.909690</td>\n",
              "      <td>26.024538</td>\n",
              "      <td>25.611086</td>\n",
              "      <td>25.972857</td>\n",
              "      <td>15717450</td>\n",
              "      <td>0.00</td>\n",
              "      <td>0.0</td>\n",
              "      <td>ITUB4.SA</td>\n",
              "      <td>2018</td>\n",
              "      <td>1</td>\n",
              "      <td>5</td>\n",
              "      <td>0.288221</td>\n",
              "    </tr>\n",
              "    <tr>\n",
              "      <th>4</th>\n",
              "      <td>2018-01-08</td>\n",
              "      <td>25.875252</td>\n",
              "      <td>26.024553</td>\n",
              "      <td>25.714463</td>\n",
              "      <td>25.886736</td>\n",
              "      <td>12708150</td>\n",
              "      <td>0.00</td>\n",
              "      <td>0.0</td>\n",
              "      <td>ITUB4.SA</td>\n",
              "      <td>2018</td>\n",
              "      <td>1</td>\n",
              "      <td>8</td>\n",
              "      <td>-0.331579</td>\n",
              "    </tr>\n",
              "    <tr>\n",
              "      <th>...</th>\n",
              "      <td>...</td>\n",
              "      <td>...</td>\n",
              "      <td>...</td>\n",
              "      <td>...</td>\n",
              "      <td>...</td>\n",
              "      <td>...</td>\n",
              "      <td>...</td>\n",
              "      <td>...</td>\n",
              "      <td>...</td>\n",
              "      <td>...</td>\n",
              "      <td>...</td>\n",
              "      <td>...</td>\n",
              "      <td>...</td>\n",
              "    </tr>\n",
              "    <tr>\n",
              "      <th>734</th>\n",
              "      <td>2020-12-22</td>\n",
              "      <td>30.737427</td>\n",
              "      <td>31.210765</td>\n",
              "      <td>30.717704</td>\n",
              "      <td>30.816317</td>\n",
              "      <td>19659000</td>\n",
              "      <td>0.00</td>\n",
              "      <td>0.0</td>\n",
              "      <td>ITUB4.SA</td>\n",
              "      <td>2020</td>\n",
              "      <td>12</td>\n",
              "      <td>22</td>\n",
              "      <td>0.482310</td>\n",
              "    </tr>\n",
              "    <tr>\n",
              "      <th>735</th>\n",
              "      <td>2020-12-23</td>\n",
              "      <td>30.885346</td>\n",
              "      <td>31.605214</td>\n",
              "      <td>30.836040</td>\n",
              "      <td>31.496742</td>\n",
              "      <td>19959200</td>\n",
              "      <td>0.00</td>\n",
              "      <td>0.0</td>\n",
              "      <td>ITUB4.SA</td>\n",
              "      <td>2020</td>\n",
              "      <td>12</td>\n",
              "      <td>23</td>\n",
              "      <td>2.208004</td>\n",
              "    </tr>\n",
              "    <tr>\n",
              "      <th>736</th>\n",
              "      <td>2020-12-28</td>\n",
              "      <td>31.772858</td>\n",
              "      <td>31.979943</td>\n",
              "      <td>31.565769</td>\n",
              "      <td>31.723549</td>\n",
              "      <td>15444600</td>\n",
              "      <td>0.00</td>\n",
              "      <td>0.0</td>\n",
              "      <td>ITUB4.SA</td>\n",
              "      <td>2020</td>\n",
              "      <td>12</td>\n",
              "      <td>28</td>\n",
              "      <td>0.720096</td>\n",
              "    </tr>\n",
              "    <tr>\n",
              "      <th>737</th>\n",
              "      <td>2020-12-29</td>\n",
              "      <td>31.822163</td>\n",
              "      <td>31.940496</td>\n",
              "      <td>31.486881</td>\n",
              "      <td>31.654520</td>\n",
              "      <td>16384200</td>\n",
              "      <td>0.00</td>\n",
              "      <td>0.0</td>\n",
              "      <td>ITUB4.SA</td>\n",
              "      <td>2020</td>\n",
              "      <td>12</td>\n",
              "      <td>29</td>\n",
              "      <td>-0.217595</td>\n",
              "    </tr>\n",
              "    <tr>\n",
              "      <th>738</th>\n",
              "      <td>2020-12-30</td>\n",
              "      <td>31.753133</td>\n",
              "      <td>31.881330</td>\n",
              "      <td>31.191042</td>\n",
              "      <td>31.191042</td>\n",
              "      <td>25644400</td>\n",
              "      <td>0.00</td>\n",
              "      <td>0.0</td>\n",
              "      <td>ITUB4.SA</td>\n",
              "      <td>2020</td>\n",
              "      <td>12</td>\n",
              "      <td>30</td>\n",
              "      <td>-1.464177</td>\n",
              "    </tr>\n",
              "  </tbody>\n",
              "</table>\n",
              "<p>739 rows × 13 columns</p>\n",
              "</div>"
            ],
            "text/plain": [
              "          Date       Open       High  ...  month  day  rentabilidade\n",
              "0   2018-01-02  24.577457  25.197636  ...      1    2            NaN\n",
              "1   2018-01-03  25.209130  25.461795  ...      1    3       0.683720\n",
              "2   2018-01-04  25.410110  26.013062  ...      1    4       2.082370\n",
              "3   2018-01-05  25.909690  26.024538  ...      1    5       0.288221\n",
              "4   2018-01-08  25.875252  26.024553  ...      1    8      -0.331579\n",
              "..         ...        ...        ...  ...    ...  ...            ...\n",
              "734 2020-12-22  30.737427  31.210765  ...     12   22       0.482310\n",
              "735 2020-12-23  30.885346  31.605214  ...     12   23       2.208004\n",
              "736 2020-12-28  31.772858  31.979943  ...     12   28       0.720096\n",
              "737 2020-12-29  31.822163  31.940496  ...     12   29      -0.217595\n",
              "738 2020-12-30  31.753133  31.881330  ...     12   30      -1.464177\n",
              "\n",
              "[739 rows x 13 columns]"
            ]
          },
          "metadata": {
            "tags": []
          },
          "execution_count": 90
        }
      ]
    },
    {
      "cell_type": "code",
      "metadata": {
        "id": "G7ek6c8wnWa3"
      },
      "source": [
        "correlacao = pd.DataFrame()\n",
        "\n",
        "\n",
        "for d in dfs:\n",
        "  correlacao[d['ticker'].iloc[0]] = d['rentabilidade']"
      ],
      "execution_count": null,
      "outputs": []
    },
    {
      "cell_type": "code",
      "metadata": {
        "colab": {
          "base_uri": "https://localhost:8080/",
          "height": 204
        },
        "id": "PZCU2-gGpjL7",
        "outputId": "5b985f5b-7ac0-452f-ce5a-b3687f25a389"
      },
      "source": [
        "correlacao.head()"
      ],
      "execution_count": null,
      "outputs": [
        {
          "output_type": "execute_result",
          "data": {
            "text/html": [
              "<div>\n",
              "<style scoped>\n",
              "    .dataframe tbody tr th:only-of-type {\n",
              "        vertical-align: middle;\n",
              "    }\n",
              "\n",
              "    .dataframe tbody tr th {\n",
              "        vertical-align: top;\n",
              "    }\n",
              "\n",
              "    .dataframe thead th {\n",
              "        text-align: right;\n",
              "    }\n",
              "</style>\n",
              "<table border=\"1\" class=\"dataframe\">\n",
              "  <thead>\n",
              "    <tr style=\"text-align: right;\">\n",
              "      <th></th>\n",
              "      <th>VALE3.SA</th>\n",
              "      <th>ITUB4.SA</th>\n",
              "      <th>PETR4.SA</th>\n",
              "      <th>ABEV3.SA</th>\n",
              "      <th>BBDC4.SA</th>\n",
              "      <th>^BVSP</th>\n",
              "      <th>USDBRL=X</th>\n",
              "    </tr>\n",
              "  </thead>\n",
              "  <tbody>\n",
              "    <tr>\n",
              "      <th>0</th>\n",
              "      <td>NaN</td>\n",
              "      <td>NaN</td>\n",
              "      <td>NaN</td>\n",
              "      <td>NaN</td>\n",
              "      <td>NaN</td>\n",
              "      <td>NaN</td>\n",
              "      <td>NaN</td>\n",
              "    </tr>\n",
              "    <tr>\n",
              "      <th>1</th>\n",
              "      <td>-0.599216</td>\n",
              "      <td>0.683720</td>\n",
              "      <td>0.906364</td>\n",
              "      <td>0.230509</td>\n",
              "      <td>0.454705</td>\n",
              "      <td>0.133520</td>\n",
              "      <td>0.102796</td>\n",
              "    </tr>\n",
              "    <tr>\n",
              "      <th>2</th>\n",
              "      <td>0.409922</td>\n",
              "      <td>2.082370</td>\n",
              "      <td>0.179648</td>\n",
              "      <td>-0.551957</td>\n",
              "      <td>1.640698</td>\n",
              "      <td>0.835951</td>\n",
              "      <td>-1.606765</td>\n",
              "    </tr>\n",
              "    <tr>\n",
              "      <th>3</th>\n",
              "      <td>1.561012</td>\n",
              "      <td>0.288221</td>\n",
              "      <td>0.597707</td>\n",
              "      <td>0.370011</td>\n",
              "      <td>0.566457</td>\n",
              "      <td>0.539118</td>\n",
              "      <td>-0.684511</td>\n",
              "    </tr>\n",
              "    <tr>\n",
              "      <th>4</th>\n",
              "      <td>2.222742</td>\n",
              "      <td>-0.331579</td>\n",
              "      <td>1.188369</td>\n",
              "      <td>-0.184328</td>\n",
              "      <td>-0.028178</td>\n",
              "      <td>0.389523</td>\n",
              "      <td>-0.074182</td>\n",
              "    </tr>\n",
              "  </tbody>\n",
              "</table>\n",
              "</div>"
            ],
            "text/plain": [
              "   VALE3.SA  ITUB4.SA  PETR4.SA  ABEV3.SA  BBDC4.SA     ^BVSP  USDBRL=X\n",
              "0       NaN       NaN       NaN       NaN       NaN       NaN       NaN\n",
              "1 -0.599216  0.683720  0.906364  0.230509  0.454705  0.133520  0.102796\n",
              "2  0.409922  2.082370  0.179648 -0.551957  1.640698  0.835951 -1.606765\n",
              "3  1.561012  0.288221  0.597707  0.370011  0.566457  0.539118 -0.684511\n",
              "4  2.222742 -0.331579  1.188369 -0.184328 -0.028178  0.389523 -0.074182"
            ]
          },
          "metadata": {
            "tags": []
          },
          "execution_count": 97
        }
      ]
    },
    {
      "cell_type": "code",
      "metadata": {
        "colab": {
          "base_uri": "https://localhost:8080/",
          "height": 266
        },
        "id": "2WWdUrkQpn-E",
        "outputId": "12cb6c98-9f55-43fe-ca45-6a23c76bda67"
      },
      "source": [
        "correlacao.corr()"
      ],
      "execution_count": null,
      "outputs": [
        {
          "output_type": "execute_result",
          "data": {
            "text/html": [
              "<div>\n",
              "<style scoped>\n",
              "    .dataframe tbody tr th:only-of-type {\n",
              "        vertical-align: middle;\n",
              "    }\n",
              "\n",
              "    .dataframe tbody tr th {\n",
              "        vertical-align: top;\n",
              "    }\n",
              "\n",
              "    .dataframe thead th {\n",
              "        text-align: right;\n",
              "    }\n",
              "</style>\n",
              "<table border=\"1\" class=\"dataframe\">\n",
              "  <thead>\n",
              "    <tr style=\"text-align: right;\">\n",
              "      <th></th>\n",
              "      <th>VALE3.SA</th>\n",
              "      <th>ITUB4.SA</th>\n",
              "      <th>PETR4.SA</th>\n",
              "      <th>ABEV3.SA</th>\n",
              "      <th>BBDC4.SA</th>\n",
              "      <th>^BVSP</th>\n",
              "      <th>USDBRL=X</th>\n",
              "    </tr>\n",
              "  </thead>\n",
              "  <tbody>\n",
              "    <tr>\n",
              "      <th>VALE3.SA</th>\n",
              "      <td>1.000000</td>\n",
              "      <td>0.405102</td>\n",
              "      <td>0.521127</td>\n",
              "      <td>0.303406</td>\n",
              "      <td>-0.071688</td>\n",
              "      <td>0.659824</td>\n",
              "      <td>0.015217</td>\n",
              "    </tr>\n",
              "    <tr>\n",
              "      <th>ITUB4.SA</th>\n",
              "      <td>0.405102</td>\n",
              "      <td>1.000000</td>\n",
              "      <td>0.611530</td>\n",
              "      <td>0.526931</td>\n",
              "      <td>0.143871</td>\n",
              "      <td>0.821111</td>\n",
              "      <td>-0.068693</td>\n",
              "    </tr>\n",
              "    <tr>\n",
              "      <th>PETR4.SA</th>\n",
              "      <td>0.521127</td>\n",
              "      <td>0.611530</td>\n",
              "      <td>1.000000</td>\n",
              "      <td>0.441122</td>\n",
              "      <td>0.069685</td>\n",
              "      <td>0.815522</td>\n",
              "      <td>0.007941</td>\n",
              "    </tr>\n",
              "    <tr>\n",
              "      <th>ABEV3.SA</th>\n",
              "      <td>0.303406</td>\n",
              "      <td>0.526931</td>\n",
              "      <td>0.441122</td>\n",
              "      <td>1.000000</td>\n",
              "      <td>0.017143</td>\n",
              "      <td>0.625953</td>\n",
              "      <td>-0.016548</td>\n",
              "    </tr>\n",
              "    <tr>\n",
              "      <th>BBDC4.SA</th>\n",
              "      <td>-0.071688</td>\n",
              "      <td>0.143871</td>\n",
              "      <td>0.069685</td>\n",
              "      <td>0.017143</td>\n",
              "      <td>1.000000</td>\n",
              "      <td>0.056459</td>\n",
              "      <td>-0.024891</td>\n",
              "    </tr>\n",
              "    <tr>\n",
              "      <th>^BVSP</th>\n",
              "      <td>0.659824</td>\n",
              "      <td>0.821111</td>\n",
              "      <td>0.815522</td>\n",
              "      <td>0.625953</td>\n",
              "      <td>0.056459</td>\n",
              "      <td>1.000000</td>\n",
              "      <td>-0.008837</td>\n",
              "    </tr>\n",
              "    <tr>\n",
              "      <th>USDBRL=X</th>\n",
              "      <td>0.015217</td>\n",
              "      <td>-0.068693</td>\n",
              "      <td>0.007941</td>\n",
              "      <td>-0.016548</td>\n",
              "      <td>-0.024891</td>\n",
              "      <td>-0.008837</td>\n",
              "      <td>1.000000</td>\n",
              "    </tr>\n",
              "  </tbody>\n",
              "</table>\n",
              "</div>"
            ],
            "text/plain": [
              "          VALE3.SA  ITUB4.SA  PETR4.SA  ABEV3.SA  BBDC4.SA     ^BVSP  USDBRL=X\n",
              "VALE3.SA  1.000000  0.405102  0.521127  0.303406 -0.071688  0.659824  0.015217\n",
              "ITUB4.SA  0.405102  1.000000  0.611530  0.526931  0.143871  0.821111 -0.068693\n",
              "PETR4.SA  0.521127  0.611530  1.000000  0.441122  0.069685  0.815522  0.007941\n",
              "ABEV3.SA  0.303406  0.526931  0.441122  1.000000  0.017143  0.625953 -0.016548\n",
              "BBDC4.SA -0.071688  0.143871  0.069685  0.017143  1.000000  0.056459 -0.024891\n",
              "^BVSP     0.659824  0.821111  0.815522  0.625953  0.056459  1.000000 -0.008837\n",
              "USDBRL=X  0.015217 -0.068693  0.007941 -0.016548 -0.024891 -0.008837  1.000000"
            ]
          },
          "metadata": {
            "tags": []
          },
          "execution_count": 98
        }
      ]
    },
    {
      "cell_type": "markdown",
      "metadata": {
        "id": "ETgFdwlyqSBK"
      },
      "source": [
        "## Visualizando os dados com o Searborn\n"
      ]
    },
    {
      "cell_type": "code",
      "metadata": {
        "colab": {
          "base_uri": "https://localhost:8080/"
        },
        "id": "Q5EpdXvaqXHt",
        "outputId": "3c0f000c-1fee-4d83-c3ae-a265250adc22"
      },
      "source": [
        "!pip install seaborn --upgrade --no-cache-dir\n"
      ],
      "execution_count": null,
      "outputs": [
        {
          "output_type": "stream",
          "text": [
            "Requirement already up-to-date: seaborn in /usr/local/lib/python3.7/dist-packages (0.11.1)\n",
            "Requirement already satisfied, skipping upgrade: matplotlib>=2.2 in /usr/local/lib/python3.7/dist-packages (from seaborn) (3.2.2)\n",
            "Requirement already satisfied, skipping upgrade: pandas>=0.23 in /usr/local/lib/python3.7/dist-packages (from seaborn) (1.2.4)\n",
            "Requirement already satisfied, skipping upgrade: numpy>=1.15 in /usr/local/lib/python3.7/dist-packages (from seaborn) (1.19.5)\n",
            "Requirement already satisfied, skipping upgrade: scipy>=1.0 in /usr/local/lib/python3.7/dist-packages (from seaborn) (1.4.1)\n",
            "Requirement already satisfied, skipping upgrade: pyparsing!=2.0.4,!=2.1.2,!=2.1.6,>=2.0.1 in /usr/local/lib/python3.7/dist-packages (from matplotlib>=2.2->seaborn) (2.4.7)\n",
            "Requirement already satisfied, skipping upgrade: kiwisolver>=1.0.1 in /usr/local/lib/python3.7/dist-packages (from matplotlib>=2.2->seaborn) (1.3.1)\n",
            "Requirement already satisfied, skipping upgrade: python-dateutil>=2.1 in /usr/local/lib/python3.7/dist-packages (from matplotlib>=2.2->seaborn) (2.8.1)\n",
            "Requirement already satisfied, skipping upgrade: cycler>=0.10 in /usr/local/lib/python3.7/dist-packages (from matplotlib>=2.2->seaborn) (0.10.0)\n",
            "Requirement already satisfied, skipping upgrade: pytz>=2017.3 in /usr/local/lib/python3.7/dist-packages (from pandas>=0.23->seaborn) (2018.9)\n",
            "Requirement already satisfied, skipping upgrade: six>=1.5 in /usr/local/lib/python3.7/dist-packages (from python-dateutil>=2.1->matplotlib>=2.2->seaborn) (1.15.0)\n"
          ],
          "name": "stdout"
        }
      ]
    },
    {
      "cell_type": "code",
      "metadata": {
        "id": "TzKK9kr2qiXa"
      },
      "source": [
        "import seaborn as sns\n"
      ],
      "execution_count": null,
      "outputs": []
    },
    {
      "cell_type": "code",
      "metadata": {
        "colab": {
          "base_uri": "https://localhost:8080/",
          "height": 324
        },
        "id": "12hi0rmDqk6s",
        "outputId": "10e91a0d-88a0-4dd3-e622-9837f7eeb4cb"
      },
      "source": [
        "ax, fig = plt.subplots(figsize = (20,5))\n",
        "ax = sns.heatmap(correlacao.corr(), annot = True)"
      ],
      "execution_count": null,
      "outputs": [
        {
          "output_type": "display_data",
          "data": {
            "image/png": "[encoded data removed]",
            "text/plain": [
              "<Figure size 1440x360 with 2 Axes>"
            ]
          },
          "metadata": {
            "tags": [],
            "needs_background": "light"
          }
        }
      ]
    },
    {
      "cell_type": "markdown",
      "metadata": {
        "id": "ELL5u70nrR6A"
      },
      "source": [
        "## Visualização de dados usando Plotly"
      ]
    },
    {
      "cell_type": "code",
      "metadata": {
        "colab": {
          "base_uri": "https://localhost:8080/"
        },
        "id": "hO1ENMItrA5S",
        "outputId": "bc90b385-61c8-4f60-9993-aab22a7793e2"
      },
      "source": [
        "!pip install plotly --upgrade --no-cache-dir"
      ],
      "execution_count": null,
      "outputs": [
        {
          "output_type": "stream",
          "text": [
            "Collecting plotly\n",
            "\u001b[?25l  Downloading https://files.pythonhosted.org/packages/1f/f6/bd3c17c8003b6641df1228e80e1acac97ed8402635e46c2571f8e1ef63af/plotly-4.14.3-py2.py3-none-any.whl (13.2MB)\n",
            "\u001b[K     |████████████████████████████████| 13.2MB 5.1MB/s \n",
            "\u001b[?25hRequirement already satisfied, skipping upgrade: retrying>=1.3.3 in /usr/local/lib/python3.7/dist-packages (from plotly) (1.3.3)\n",
            "Requirement already satisfied, skipping upgrade: six in /usr/local/lib/python3.7/dist-packages (from plotly) (1.15.0)\n",
            "Installing collected packages: plotly\n",
            "  Found existing installation: plotly 4.4.1\n",
            "    Uninstalling plotly-4.4.1:\n",
            "      Successfully uninstalled plotly-4.4.1\n",
            "Successfully installed plotly-4.14.3\n"
          ],
          "name": "stdout"
        }
      ]
    },
    {
      "cell_type": "code",
      "metadata": {
        "id": "CcKVf0nXreuk"
      },
      "source": [
        "import plotly.graph_objs as go\n"
      ],
      "execution_count": null,
      "outputs": []
    },
    {
      "cell_type": "code",
      "metadata": {
        "id": "-ZnHGpYiri19"
      },
      "source": [
        "def plot_lines(df_, columns = [\"Open\", \"Close\", \"High\", \"Low\"]):\n",
        "\n",
        "  fig = go.Figure()\n",
        "  for c in columns:\n",
        "    fig.add_trace(go.Scatter(x = list(df_.index),\n",
        "                             y = df_[c],\n",
        "                             mode = 'markers+lines',\n",
        "                             name = c))\n",
        "    return fig"
      ],
      "execution_count": null,
      "outputs": []
    },
    {
      "cell_type": "code",
      "metadata": {
        "colab": {
          "base_uri": "https://localhost:8080/",
          "height": 542
        },
        "id": "BffsWz3Xr_n5",
        "outputId": "4cf780da-5f3f-431b-8212-1a54c7512164"
      },
      "source": [
        "plot_lines(df)"
      ],
      "execution_count": null,
      "outputs": [
        {
          "output_type": "display_data",
          "data": {
            "text/html": [
              "<html>\n",
              "<head><meta charset=\"utf-8\" /></head>\n",
              "<body>\n",
              "    <div>            <script src=\"https://cdnjs.cloudflare.com/ajax/libs/mathjax/2.7.5/MathJax.js?config=TeX-AMS-MML_SVG\"></script><script type=\"text/javascript\">if (window.MathJax) {MathJax.Hub.Config({SVG: {font: \"STIX-Web\"}});}</script>                <script type=\"text/javascript\">window.PlotlyConfig = {MathJaxConfig: 'local'};</script>\n",
              "        <script src=\"https://cdn.plot.ly/plotly-latest.min.js\"></script>                <div id=\"4667249f-1615-41d2-9b40-dd1eaaa8ec4a\" class=\"plotly-graph-div\" style=\"height:525px; width:100%;\"></div>            <script type=\"text/javascript\">                                    window.PLOTLYENV=window.PLOTLYENV || {};                                    if (document.getElementById(\"4667249f-1615-41d2-9b40-dd1eaaa8ec4a\")) {                    Plotly.newPlot(                        \"4667249f-1615-41d2-9b40-dd1eaaa8ec4a\",                        [{\"mode\": \"markers+lines\", \"name\": \"Open\", \"type\": \"scatter\", \"x\": [\"2018-01-02T00:00:00\", \"2018-01-03T00:00:00\", \"2018-01-04T00:00:00\", \"2018-01-05T00:00:00\", \"2018-01-08T00:00:00\", \"2018-01-09T00:00:00\", \"2018-01-10T00:00:00\", \"2018-01-11T00:00:00\", \"2018-01-12T00:00:00\", \"2018-01-15T00:00:00\", \"2018-01-16T00:00:00\", \"2018-01-17T00:00:00\", \"2018-01-18T00:00:00\", \"2018-01-19T00:00:00\", \"2018-01-22T00:00:00\", \"2018-01-23T00:00:00\", \"2018-01-24T00:00:00\", \"2018-01-25T00:00:00\", \"2018-01-26T00:00:00\", \"2018-01-29T00:00:00\", \"2018-01-30T00:00:00\", \"2018-01-31T00:00:00\", \"2018-02-01T00:00:00\", \"2018-02-02T00:00:00\", \"2018-02-05T00:00:00\", \"2018-02-06T00:00:00\", \"2018-02-07T00:00:00\", \"2018-02-08T00:00:00\", \"2018-02-09T00:00:00\", \"2018-02-15T00:00:00\", \"2018-02-16T00:00:00\", \"2018-02-19T00:00:00\", \"2018-02-20T00:00:00\", \"2018-02-21T00:00:00\", \"2018-02-22T00:00:00\", \"2018-02-23T00:00:00\", \"2018-02-26T00:00:00\", \"2018-02-27T00:00:00\", \"2018-02-28T00:00:00\", \"2018-03-01T00:00:00\", \"2018-03-02T00:00:00\", \"2018-03-05T00:00:00\", \"2018-03-06T00:00:00\", \"2018-03-07T00:00:00\", \"2018-03-08T00:00:00\", \"2018-03-09T00:00:00\", \"2018-03-12T00:00:00\", \"2018-03-13T00:00:00\", \"2018-03-14T00:00:00\", \"2018-03-15T00:00:00\", \"2018-03-16T00:00:00\", \"2018-03-19T00:00:00\", \"2018-03-20T00:00:00\", \"2018-03-21T00:00:00\", \"2018-03-22T00:00:00\", \"2018-03-23T00:00:00\", \"2018-03-26T00:00:00\", \"2018-03-27T00:00:00\", \"2018-03-28T00:00:00\", \"2018-03-29T00:00:00\", \"2018-04-02T00:00:00\", \"2018-04-03T00:00:00\", \"2018-04-04T00:00:00\", \"2018-04-05T00:00:00\", \"2018-04-06T00:00:00\", \"2018-04-09T00:00:00\", \"2018-04-10T00:00:00\", \"2018-04-11T00:00:00\", \"2018-04-12T00:00:00\", \"2018-04-13T00:00:00\", \"2018-04-16T00:00:00\", \"2018-04-17T00:00:00\", \"2018-04-18T00:00:00\", \"2018-04-19T00:00:00\", \"2018-04-20T00:00:00\", \"2018-04-23T00:00:00\", \"2018-04-24T00:00:00\", \"2018-04-25T00:00:00\", \"2018-04-26T00:00:00\", \"2018-04-27T00:00:00\", \"2018-04-30T00:00:00\", \"2018-05-02T00:00:00\", \"2018-05-03T00:00:00\", \"2018-05-04T00:00:00\", \"2018-05-07T00:00:00\", \"2018-05-08T00:00:00\", \"2018-05-09T00:00:00\", \"2018-05-10T00:00:00\", \"2018-05-11T00:00:00\", \"2018-05-14T00:00:00\", \"2018-05-15T00:00:00\", \"2018-05-16T00:00:00\", \"2018-05-17T00:00:00\", \"2018-05-18T00:00:00\", \"2018-05-21T00:00:00\", \"2018-05-22T00:00:00\", \"2018-05-23T00:00:00\", \"2018-05-24T00:00:00\", \"2018-05-25T00:00:00\", \"2018-05-28T00:00:00\", \"2018-05-29T00:00:00\", \"2018-05-30T00:00:00\", \"2018-06-01T00:00:00\", \"2018-06-04T00:00:00\", \"2018-06-05T00:00:00\", \"2018-06-06T00:00:00\", \"2018-06-07T00:00:00\", \"2018-06-08T00:00:00\", \"2018-06-11T00:00:00\", \"2018-06-12T00:00:00\", \"2018-06-13T00:00:00\", \"2018-06-14T00:00:00\", \"2018-06-15T00:00:00\", \"2018-06-18T00:00:00\", \"2018-06-19T00:00:00\", \"2018-06-20T00:00:00\", \"2018-06-21T00:00:00\", \"2018-06-22T00:00:00\", \"2018-06-25T00:00:00\", \"2018-06-26T00:00:00\", \"2018-06-27T00:00:00\", \"2018-06-28T00:00:00\", \"2018-06-29T00:00:00\", \"2018-07-02T00:00:00\", \"2018-07-03T00:00:00\", \"2018-07-04T00:00:00\", \"2018-07-05T00:00:00\", \"2018-07-06T00:00:00\", \"2018-07-10T00:00:00\", \"2018-07-11T00:00:00\", \"2018-07-12T00:00:00\", \"2018-07-13T00:00:00\", \"2018-07-16T00:00:00\", \"2018-07-17T00:00:00\", \"2018-07-18T00:00:00\", \"2018-07-19T00:00:00\", \"2018-07-20T00:00:00\", \"2018-07-23T00:00:00\", \"2018-07-24T00:00:00\", \"2018-07-25T00:00:00\", \"2018-07-26T00:00:00\", \"2018-07-27T00:00:00\", \"2018-07-30T00:00:00\", \"2018-07-31T00:00:00\", \"2018-08-01T00:00:00\", \"2018-08-02T00:00:00\", \"2018-08-03T00:00:00\", \"2018-08-06T00:00:00\", \"2018-08-07T00:00:00\", \"2018-08-08T00:00:00\", \"2018-08-09T00:00:00\", \"2018-08-10T00:00:00\", \"2018-08-13T00:00:00\", \"2018-08-14T00:00:00\", \"2018-08-15T00:00:00\", \"2018-08-16T00:00:00\", \"2018-08-17T00:00:00\", \"2018-08-20T00:00:00\", \"2018-08-21T00:00:00\", \"2018-08-22T00:00:00\", \"2018-08-23T00:00:00\", \"2018-08-24T00:00:00\", \"2018-08-27T00:00:00\", \"2018-08-28T00:00:00\", \"2018-08-29T00:00:00\", \"2018-08-30T00:00:00\", \"2018-08-31T00:00:00\", \"2018-09-03T00:00:00\", \"2018-09-04T00:00:00\", \"2018-09-05T00:00:00\", \"2018-09-06T00:00:00\", \"2018-09-10T00:00:00\", \"2018-09-11T00:00:00\", \"2018-09-12T00:00:00\", \"2018-09-13T00:00:00\", \"2018-09-14T00:00:00\", \"2018-09-17T00:00:00\", \"2018-09-18T00:00:00\", \"2018-09-19T00:00:00\", \"2018-09-20T00:00:00\", \"2018-09-21T00:00:00\", \"2018-09-24T00:00:00\", \"2018-09-25T00:00:00\", \"2018-09-26T00:00:00\", \"2018-09-27T00:00:00\", \"2018-09-28T00:00:00\", \"2018-10-01T00:00:00\", \"2018-10-02T00:00:00\", \"2018-10-03T00:00:00\", \"2018-10-04T00:00:00\", \"2018-10-05T00:00:00\", \"2018-10-08T00:00:00\", \"2018-10-09T00:00:00\", \"2018-10-10T00:00:00\", \"2018-10-11T00:00:00\", \"2018-10-15T00:00:00\", \"2018-10-16T00:00:00\", \"2018-10-17T00:00:00\", \"2018-10-18T00:00:00\", \"2018-10-19T00:00:00\", \"2018-10-22T00:00:00\", \"2018-10-23T00:00:00\", \"2018-10-24T00:00:00\", \"2018-10-25T00:00:00\", \"2018-10-26T00:00:00\", \"2018-10-29T00:00:00\", \"2018-10-30T00:00:00\", \"2018-10-31T00:00:00\", \"2018-11-01T00:00:00\", \"2018-11-05T00:00:00\", \"2018-11-06T00:00:00\", \"2018-11-07T00:00:00\", \"2018-11-08T00:00:00\", \"2018-11-09T00:00:00\", \"2018-11-12T00:00:00\", \"2018-11-13T00:00:00\", \"2018-11-14T00:00:00\", \"2018-11-16T00:00:00\", \"2018-11-19T00:00:00\", \"2018-11-21T00:00:00\", \"2018-11-22T00:00:00\", \"2018-11-23T00:00:00\", \"2018-11-26T00:00:00\", \"2018-11-27T00:00:00\", \"2018-11-28T00:00:00\", \"2018-11-29T00:00:00\", \"2018-11-30T00:00:00\", \"2018-12-03T00:00:00\", \"2018-12-04T00:00:00\", \"2018-12-05T00:00:00\", \"2018-12-06T00:00:00\", \"2018-12-07T00:00:00\", \"2018-12-10T00:00:00\", \"2018-12-11T00:00:00\", \"2018-12-12T00:00:00\", \"2018-12-13T00:00:00\", \"2018-12-14T00:00:00\", \"2018-12-17T00:00:00\", \"2018-12-18T00:00:00\", \"2018-12-19T00:00:00\", \"2018-12-20T00:00:00\", \"2018-12-21T00:00:00\", \"2018-12-26T00:00:00\", \"2018-12-27T00:00:00\", \"2018-12-28T00:00:00\", \"2019-01-02T00:00:00\", \"2019-01-03T00:00:00\", \"2019-01-04T00:00:00\", \"2019-01-07T00:00:00\", \"2019-01-08T00:00:00\", \"2019-01-09T00:00:00\", \"2019-01-10T00:00:00\", \"2019-01-11T00:00:00\", \"2019-01-14T00:00:00\", \"2019-01-15T00:00:00\", \"2019-01-16T00:00:00\", \"2019-01-17T00:00:00\", \"2019-01-18T00:00:00\", \"2019-01-21T00:00:00\", \"2019-01-22T00:00:00\", \"2019-01-23T00:00:00\", \"2019-01-24T00:00:00\", \"2019-01-28T00:00:00\", \"2019-01-29T00:00:00\", \"2019-01-30T00:00:00\", \"2019-01-31T00:00:00\", \"2019-02-01T00:00:00\", \"2019-02-04T00:00:00\", \"2019-02-05T00:00:00\", \"2019-02-06T00:00:00\", \"2019-02-07T00:00:00\", \"2019-02-08T00:00:00\", \"2019-02-11T00:00:00\", \"2019-02-12T00:00:00\", \"2019-02-13T00:00:00\", \"2019-02-14T00:00:00\", \"2019-02-15T00:00:00\", \"2019-02-18T00:00:00\", \"2019-02-19T00:00:00\", \"2019-02-20T00:00:00\", \"2019-02-21T00:00:00\", \"2019-02-22T00:00:00\", \"2019-02-25T00:00:00\", \"2019-02-26T00:00:00\", \"2019-02-27T00:00:00\", \"2019-02-28T00:00:00\", \"2019-03-01T00:00:00\", \"2019-03-07T00:00:00\", \"2019-03-08T00:00:00\", \"2019-03-11T00:00:00\", \"2019-03-12T00:00:00\", \"2019-03-13T00:00:00\", \"2019-03-14T00:00:00\", \"2019-03-15T00:00:00\", \"2019-03-18T00:00:00\", \"2019-03-19T00:00:00\", \"2019-03-20T00:00:00\", \"2019-03-21T00:00:00\", \"2019-03-22T00:00:00\", \"2019-03-25T00:00:00\", \"2019-03-26T00:00:00\", \"2019-03-27T00:00:00\", \"2019-03-28T00:00:00\", \"2019-03-29T00:00:00\", \"2019-04-01T00:00:00\", \"2019-04-02T00:00:00\", \"2019-04-03T00:00:00\", \"2019-04-04T00:00:00\", \"2019-04-05T00:00:00\", \"2019-04-08T00:00:00\", \"2019-04-09T00:00:00\", \"2019-04-10T00:00:00\", \"2019-04-11T00:00:00\", \"2019-04-12T00:00:00\", \"2019-04-15T00:00:00\", \"2019-04-16T00:00:00\", \"2019-04-17T00:00:00\", \"2019-04-18T00:00:00\", \"2019-04-22T00:00:00\", \"2019-04-23T00:00:00\", \"2019-04-24T00:00:00\", \"2019-04-25T00:00:00\", \"2019-04-26T00:00:00\", \"2019-04-29T00:00:00\", \"2019-04-30T00:00:00\", \"2019-05-02T00:00:00\", \"2019-05-03T00:00:00\", \"2019-05-06T00:00:00\", \"2019-05-07T00:00:00\", \"2019-05-08T00:00:00\", \"2019-05-09T00:00:00\", \"2019-05-10T00:00:00\", \"2019-05-13T00:00:00\", \"2019-05-14T00:00:00\", \"2019-05-15T00:00:00\", \"2019-05-16T00:00:00\", \"2019-05-17T00:00:00\", \"2019-05-20T00:00:00\", \"2019-05-21T00:00:00\", \"2019-05-22T00:00:00\", \"2019-05-23T00:00:00\", \"2019-05-24T00:00:00\", \"2019-05-27T00:00:00\", \"2019-05-28T00:00:00\", \"2019-05-29T00:00:00\", \"2019-05-30T00:00:00\", \"2019-05-31T00:00:00\", \"2019-06-03T00:00:00\", \"2019-06-04T00:00:00\", \"2019-06-05T00:00:00\", \"2019-06-06T00:00:00\", \"2019-06-07T00:00:00\", \"2019-06-10T00:00:00\", \"2019-06-11T00:00:00\", \"2019-06-12T00:00:00\", \"2019-06-13T00:00:00\", \"2019-06-14T00:00:00\", \"2019-06-17T00:00:00\", \"2019-06-18T00:00:00\", \"2019-06-19T00:00:00\", \"2019-06-21T00:00:00\", \"2019-06-24T00:00:00\", \"2019-06-25T00:00:00\", \"2019-06-26T00:00:00\", \"2019-06-27T00:00:00\", \"2019-06-28T00:00:00\", \"2019-07-01T00:00:00\", \"2019-07-02T00:00:00\", \"2019-07-03T00:00:00\", \"2019-07-04T00:00:00\", \"2019-07-05T00:00:00\", \"2019-07-08T00:00:00\", \"2019-07-10T00:00:00\", \"2019-07-11T00:00:00\", \"2019-07-12T00:00:00\", \"2019-07-15T00:00:00\", \"2019-07-16T00:00:00\", \"2019-07-17T00:00:00\", \"2019-07-18T00:00:00\", \"2019-07-19T00:00:00\", \"2019-07-22T00:00:00\", \"2019-07-23T00:00:00\", \"2019-07-24T00:00:00\", \"2019-07-25T00:00:00\", \"2019-07-26T00:00:00\", \"2019-07-29T00:00:00\", \"2019-07-30T00:00:00\", \"2019-07-31T00:00:00\", \"2019-08-01T00:00:00\", \"2019-08-02T00:00:00\", \"2019-08-05T00:00:00\", \"2019-08-06T00:00:00\", \"2019-08-07T00:00:00\", \"2019-08-08T00:00:00\", \"2019-08-09T00:00:00\", \"2019-08-12T00:00:00\", \"2019-08-13T00:00:00\", \"2019-08-14T00:00:00\", \"2019-08-15T00:00:00\", \"2019-08-16T00:00:00\", \"2019-08-19T00:00:00\", \"2019-08-20T00:00:00\", \"2019-08-21T00:00:00\", \"2019-08-22T00:00:00\", \"2019-08-23T00:00:00\", \"2019-08-26T00:00:00\", \"2019-08-27T00:00:00\", \"2019-08-28T00:00:00\", \"2019-08-29T00:00:00\", \"2019-08-30T00:00:00\", \"2019-09-02T00:00:00\", \"2019-09-03T00:00:00\", \"2019-09-04T00:00:00\", \"2019-09-05T00:00:00\", \"2019-09-06T00:00:00\", \"2019-09-09T00:00:00\", \"2019-09-10T00:00:00\", \"2019-09-11T00:00:00\", \"2019-09-12T00:00:00\", \"2019-09-13T00:00:00\", \"2019-09-16T00:00:00\", \"2019-09-17T00:00:00\", \"2019-09-18T00:00:00\", \"2019-09-19T00:00:00\", \"2019-09-20T00:00:00\", \"2019-09-23T00:00:00\", \"2019-09-24T00:00:00\", \"2019-09-25T00:00:00\", \"2019-09-26T00:00:00\", \"2019-09-27T00:00:00\", \"2019-09-30T00:00:00\", \"2019-10-01T00:00:00\", \"2019-10-02T00:00:00\", \"2019-10-03T00:00:00\", \"2019-10-04T00:00:00\", \"2019-10-07T00:00:00\", \"2019-10-08T00:00:00\", \"2019-10-09T00:00:00\", \"2019-10-10T00:00:00\", \"2019-10-11T00:00:00\", \"2019-10-14T00:00:00\", \"2019-10-15T00:00:00\", \"2019-10-16T00:00:00\", \"2019-10-17T00:00:00\", \"2019-10-18T00:00:00\", \"2019-10-21T00:00:00\", \"2019-10-22T00:00:00\", \"2019-10-23T00:00:00\", \"2019-10-24T00:00:00\", \"2019-10-25T00:00:00\", \"2019-10-28T00:00:00\", \"2019-10-29T00:00:00\", \"2019-10-30T00:00:00\", \"2019-10-31T00:00:00\", \"2019-11-01T00:00:00\", \"2019-11-04T00:00:00\", \"2019-11-05T00:00:00\", \"2019-11-06T00:00:00\", \"2019-11-07T00:00:00\", \"2019-11-08T00:00:00\", \"2019-11-11T00:00:00\", \"2019-11-12T00:00:00\", \"2019-11-13T00:00:00\", \"2019-11-14T00:00:00\", \"2019-11-18T00:00:00\", \"2019-11-19T00:00:00\", \"2019-11-21T00:00:00\", \"2019-11-22T00:00:00\", \"2019-11-25T00:00:00\", \"2019-11-26T00:00:00\", \"2019-11-27T00:00:00\", \"2019-11-28T00:00:00\", \"2019-11-29T00:00:00\", \"2019-12-02T00:00:00\", \"2019-12-03T00:00:00\", \"2019-12-04T00:00:00\", \"2019-12-05T00:00:00\", \"2019-12-06T00:00:00\", \"2019-12-09T00:00:00\", \"2019-12-10T00:00:00\", \"2019-12-11T00:00:00\", \"2019-12-12T00:00:00\", \"2019-12-13T00:00:00\", \"2019-12-16T00:00:00\", \"2019-12-17T00:00:00\", \"2019-12-18T00:00:00\", \"2019-12-19T00:00:00\", \"2019-12-20T00:00:00\", \"2019-12-23T00:00:00\", \"2019-12-26T00:00:00\", \"2019-12-27T00:00:00\", \"2019-12-30T00:00:00\", \"2020-01-02T00:00:00\", \"2020-01-03T00:00:00\", \"2020-01-06T00:00:00\", \"2020-01-07T00:00:00\", \"2020-01-08T00:00:00\", \"2020-01-09T00:00:00\", \"2020-01-10T00:00:00\", \"2020-01-13T00:00:00\", \"2020-01-14T00:00:00\", \"2020-01-15T00:00:00\", \"2020-01-16T00:00:00\", \"2020-01-17T00:00:00\", \"2020-01-20T00:00:00\", \"2020-01-21T00:00:00\", \"2020-01-22T00:00:00\", \"2020-01-23T00:00:00\", \"2020-01-24T00:00:00\", \"2020-01-27T00:00:00\", \"2020-01-28T00:00:00\", \"2020-01-29T00:00:00\", \"2020-01-30T00:00:00\", \"2020-01-31T00:00:00\", \"2020-02-03T00:00:00\", \"2020-02-04T00:00:00\", \"2020-02-05T00:00:00\", \"2020-02-06T00:00:00\", \"2020-02-07T00:00:00\", \"2020-02-10T00:00:00\", \"2020-02-11T00:00:00\", \"2020-02-12T00:00:00\", \"2020-02-13T00:00:00\", \"2020-02-14T00:00:00\", \"2020-02-17T00:00:00\", \"2020-02-18T00:00:00\", \"2020-02-19T00:00:00\", \"2020-02-20T00:00:00\", \"2020-02-21T00:00:00\", \"2020-02-27T00:00:00\", \"2020-02-28T00:00:00\", \"2020-03-02T00:00:00\", \"2020-03-03T00:00:00\", \"2020-03-04T00:00:00\", \"2020-03-05T00:00:00\", \"2020-03-06T00:00:00\", \"2020-03-09T00:00:00\", \"2020-03-10T00:00:00\", \"2020-03-11T00:00:00\", \"2020-03-12T00:00:00\", \"2020-03-13T00:00:00\", \"2020-03-16T00:00:00\", \"2020-03-17T00:00:00\", \"2020-03-18T00:00:00\", \"2020-03-19T00:00:00\", \"2020-03-20T00:00:00\", \"2020-03-23T00:00:00\", \"2020-03-24T00:00:00\", \"2020-03-25T00:00:00\", \"2020-03-26T00:00:00\", \"2020-03-27T00:00:00\", \"2020-03-30T00:00:00\", \"2020-03-31T00:00:00\", \"2020-04-01T00:00:00\", \"2020-04-02T00:00:00\", \"2020-04-03T00:00:00\", \"2020-04-06T00:00:00\", \"2020-04-07T00:00:00\", \"2020-04-08T00:00:00\", \"2020-04-09T00:00:00\", \"2020-04-13T00:00:00\", \"2020-04-14T00:00:00\", \"2020-04-15T00:00:00\", \"2020-04-16T00:00:00\", \"2020-04-17T00:00:00\", \"2020-04-20T00:00:00\", \"2020-04-22T00:00:00\", \"2020-04-23T00:00:00\", \"2020-04-24T00:00:00\", \"2020-04-27T00:00:00\", \"2020-04-28T00:00:00\", \"2020-04-29T00:00:00\", \"2020-04-30T00:00:00\", \"2020-05-04T00:00:00\", \"2020-05-05T00:00:00\", \"2020-05-06T00:00:00\", \"2020-05-07T00:00:00\", \"2020-05-08T00:00:00\", \"2020-05-11T00:00:00\", \"2020-05-12T00:00:00\", \"2020-05-13T00:00:00\", \"2020-05-14T00:00:00\", \"2020-05-15T00:00:00\", \"2020-05-18T00:00:00\", \"2020-05-19T00:00:00\", \"2020-05-20T00:00:00\", \"2020-05-21T00:00:00\", \"2020-05-22T00:00:00\", \"2020-05-25T00:00:00\", \"2020-05-26T00:00:00\", \"2020-05-27T00:00:00\", \"2020-05-28T00:00:00\", \"2020-05-29T00:00:00\", \"2020-06-01T00:00:00\", \"2020-06-02T00:00:00\", \"2020-06-03T00:00:00\", \"2020-06-04T00:00:00\", \"2020-06-05T00:00:00\", \"2020-06-08T00:00:00\", \"2020-06-09T00:00:00\", \"2020-06-10T00:00:00\", \"2020-06-12T00:00:00\", \"2020-06-15T00:00:00\", \"2020-06-16T00:00:00\", \"2020-06-17T00:00:00\", \"2020-06-18T00:00:00\", \"2020-06-19T00:00:00\", \"2020-06-22T00:00:00\", \"2020-06-23T00:00:00\", \"2020-06-24T00:00:00\", \"2020-06-25T00:00:00\", \"2020-06-26T00:00:00\", \"2020-06-29T00:00:00\", \"2020-06-30T00:00:00\", \"2020-07-01T00:00:00\", \"2020-07-02T00:00:00\", \"2020-07-03T00:00:00\", \"2020-07-06T00:00:00\", \"2020-07-07T00:00:00\", \"2020-07-08T00:00:00\", \"2020-07-09T00:00:00\", \"2020-07-10T00:00:00\", \"2020-07-13T00:00:00\", \"2020-07-14T00:00:00\", \"2020-07-15T00:00:00\", \"2020-07-16T00:00:00\", \"2020-07-17T00:00:00\", \"2020-07-20T00:00:00\", \"2020-07-21T00:00:00\", \"2020-07-22T00:00:00\", \"2020-07-23T00:00:00\", \"2020-07-24T00:00:00\", \"2020-07-27T00:00:00\", \"2020-07-28T00:00:00\", \"2020-07-29T00:00:00\", \"2020-07-30T00:00:00\", \"2020-07-31T00:00:00\", \"2020-08-03T00:00:00\", \"2020-08-04T00:00:00\", \"2020-08-05T00:00:00\", \"2020-08-06T00:00:00\", \"2020-08-07T00:00:00\", \"2020-08-10T00:00:00\", \"2020-08-11T00:00:00\", \"2020-08-12T00:00:00\", \"2020-08-13T00:00:00\", \"2020-08-14T00:00:00\", \"2020-08-17T00:00:00\", \"2020-08-18T00:00:00\", \"2020-08-19T00:00:00\", \"2020-08-20T00:00:00\", \"2020-08-21T00:00:00\", \"2020-08-24T00:00:00\", \"2020-08-25T00:00:00\", \"2020-08-26T00:00:00\", \"2020-08-27T00:00:00\", \"2020-08-28T00:00:00\", \"2020-08-31T00:00:00\", \"2020-09-01T00:00:00\", \"2020-09-02T00:00:00\", \"2020-09-03T00:00:00\", \"2020-09-04T00:00:00\", \"2020-09-08T00:00:00\", \"2020-09-09T00:00:00\", \"2020-09-10T00:00:00\", \"2020-09-11T00:00:00\", \"2020-09-14T00:00:00\", \"2020-09-15T00:00:00\", \"2020-09-16T00:00:00\", \"2020-09-17T00:00:00\", \"2020-09-18T00:00:00\", \"2020-09-21T00:00:00\", \"2020-09-22T00:00:00\", \"2020-09-23T00:00:00\", \"2020-09-24T00:00:00\", \"2020-09-25T00:00:00\", \"2020-09-28T00:00:00\", \"2020-09-29T00:00:00\", \"2020-09-30T00:00:00\", \"2020-10-01T00:00:00\", \"2020-10-02T00:00:00\", \"2020-10-05T00:00:00\", \"2020-10-06T00:00:00\", \"2020-10-07T00:00:00\", \"2020-10-08T00:00:00\", \"2020-10-09T00:00:00\", \"2020-10-13T00:00:00\", \"2020-10-14T00:00:00\", \"2020-10-15T00:00:00\", \"2020-10-16T00:00:00\", \"2020-10-19T00:00:00\", \"2020-10-20T00:00:00\", \"2020-10-21T00:00:00\", \"2020-10-22T00:00:00\", \"2020-10-23T00:00:00\", \"2020-10-26T00:00:00\", \"2020-10-27T00:00:00\", \"2020-10-28T00:00:00\", \"2020-10-29T00:00:00\", \"2020-10-30T00:00:00\", \"2020-11-03T00:00:00\", \"2020-11-04T00:00:00\", \"2020-11-05T00:00:00\", \"2020-11-06T00:00:00\", \"2020-11-09T00:00:00\", \"2020-11-10T00:00:00\", \"2020-11-11T00:00:00\", \"2020-11-12T00:00:00\", \"2020-11-13T00:00:00\", \"2020-11-16T00:00:00\", \"2020-11-17T00:00:00\", \"2020-11-18T00:00:00\", \"2020-11-19T00:00:00\", \"2020-11-23T00:00:00\", \"2020-11-24T00:00:00\", \"2020-11-25T00:00:00\", \"2020-11-26T00:00:00\", \"2020-11-27T00:00:00\", \"2020-11-30T00:00:00\", \"2020-12-01T00:00:00\", \"2020-12-02T00:00:00\", \"2020-12-03T00:00:00\", \"2020-12-04T00:00:00\", \"2020-12-07T00:00:00\", \"2020-12-08T00:00:00\", \"2020-12-09T00:00:00\", \"2020-12-10T00:00:00\", \"2020-12-11T00:00:00\", \"2020-12-14T00:00:00\", \"2020-12-15T00:00:00\", \"2020-12-16T00:00:00\", \"2020-12-17T00:00:00\", \"2020-12-18T00:00:00\", \"2020-12-21T00:00:00\", \"2020-12-22T00:00:00\", \"2020-12-23T00:00:00\", \"2020-12-28T00:00:00\", \"2020-12-29T00:00:00\", \"2020-12-30T00:00:00\"], \"y\": [76403.0, 77889.0, 77998.0, 78644.0, 79070.0, 79379.0, 78864.0, 78201.0, 79365.0, 79349.0, 79751.0, 79832.0, 81185.0, 80965.0, 81220.0, 81676.0, 80679.0, 80679.0, 83680.0, 85531.0, 84697.0, 84485.0, 84913.0, 85495.0, 84040.0, 81857.0, 83894.0, 82773.0, 81532.0, 83551.0, 84291.0, 84525.0, 84792.0, 85804.0, 86050.0, 86690.0, 87296.0, 87649.0, 86939.0, 85337.0, 85378.0, 85292.0, 86023.0, 85653.0, 85510.0, 84987.0, 86386.0, 86902.0, 86383.0, 86051.0, 84928.0, 84886.0, 83919.0, 84166.0, 84984.0, 84766.0, 84377.0, 85103.0, 83806.0, 83874.0, 85365.0, 84669.0, 84610.0, 84374.0, 85210.0, 84832.0, 83312.0, 84494.0, 85246.0, 85441.0, 84328.0, 82862.0, 84090.0, 85775.0, 85823.0, 85520.0, 85603.0, 85466.0, 85051.0, 86383.0, 86443.0, 86111.0, 84547.0, 83286.0, 83199.0, 82715.0, 82977.0, 84284.0, 85861.0, 85222.0, 85225.0, 85122.0, 86537.0, 83614.0, 83095.0, 81817.0, 82742.0, 80860.0, 80123.0, 78886.0, 75361.0, 76058.0, 76779.0, 77244.0, 78595.0, 76641.0, 76117.0, 73848.0, 72943.0, 72308.0, 72757.0, 72151.0, 71421.0, 70757.0, 69811.0, 71397.0, 72117.0, 70077.0, 70642.0, 70968.0, 71405.0, 70609.0, 71779.0, 72763.0, 72848.0, 73667.0, 74751.0, 74558.0, 75015.0, 74862.0, 74403.0, 75856.0, 76587.0, 76653.0, 78124.0, 77360.0, 77500.0, 78571.0, 78005.0, 79154.0, 80242.0, 79405.0, 79866.0, 80279.0, 79213.0, 79237.0, 79656.0, 81445.0, 81093.0, 80347.0, 79171.0, 78766.0, 76513.0, 77499.0, 78614.0, 77085.0, 76817.0, 76029.0, 76327.0, 75171.0, 76898.0, 75647.0, 76264.0, 77928.0, 77472.0, 78389.0, 76386.0, 76675.0, 76192.0, 74712.0, 75098.0, 76416.0, 76437.0, 74680.0, 75126.0, 74687.0, 75428.0, 76781.0, 78268.0, 78169.0, 78116.0, 79447.0, 77980.0, 78634.0, 78676.0, 80000.0, 79350.0, 78625.0, 81624.0, 83275.0, 82972.0, 82324.0, 86053.0, 86084.0, 83700.0, 82922.0, 83420.0, 85714.0, 85760.0, 83845.0, 84222.0, 85595.0, 85302.0, 83124.0, 84084.0, 85728.0, 83802.0, 86889.0, 87428.0, 88418.0, 89587.0, 88676.0, 87719.0, 85620.0, 85644.0, 85531.0, 84898.0, 85975.0, 88472.0, 87896.0, 87269.0, 87479.0, 86237.0, 85547.0, 87891.0, 89145.0, 89709.0, 89511.0, 89820.0, 88644.0, 88933.0, 88849.0, 88115.0, 85918.0, 86420.0, 86979.0, 87838.0, 87448.0, 86400.0, 86617.0, 85678.0, 85269.0, 85684.0, 85141.0, 85469.0, 87887.0, 91011.0, 91577.0, 91845.0, 91699.0, 92033.0, 93599.0, 93806.0, 93645.0, 94474.0, 94057.0, 94393.0, 95386.0, 96093.0, 96008.0, 95116.0, 96558.0, 97674.0, 95508.0, 95643.0, 96996.0, 97395.0, 97861.0, 98587.0, 98308.0, 94654.0, 94401.0, 95351.0, 94420.0, 96169.0, 95843.0, 98015.0, 97527.0, 96513.0, 97661.0, 96546.0, 96929.0, 97881.0, 97242.0, 97603.0, 97307.0, 95584.0, 94216.0, 94340.0, 95384.0, 98038.0, 97831.0, 98905.0, 98605.0, 99141.0, 99991.0, 99588.0, 98041.0, 96725.0, 93735.0, 93668.0, 95297.0, 91901.0, 94402.0, 95423.0, 96062.0, 95392.0, 94503.0, 96319.0, 97110.0, 97366.0, 96292.0, 95954.0, 94747.0, 92875.0, 93082.0, 94337.0, 93285.0, 94578.0, 94590.0, 95923.0, 95027.0, 96552.0, 96254.0, 96191.0, 96339.0, 95521.0, 95992.0, 95009.0, 94389.0, 95597.0, 94809.0, 94252.0, 91736.0, 92088.0, 91622.0, 90023.0, 90006.0, 91946.0, 94485.0, 94360.0, 93912.0, 93626.0, 94863.0, 96389.0, 96566.0, 97420.0, 97036.0, 97020.0, 97381.0, 96002.0, 97205.0, 97828.0, 97467.0, 98960.0, 98321.0, 98776.0, 98038.0, 97633.0, 99403.0, 100305.0, 102018.0, 102061.0, 100095.0, 100689.0, 100726.0, 100973.0, 101342.0, 100576.0, 102047.0, 103628.0, 104090.0, 104537.0, 105818.0, 105158.0, 103909.0, 103805.0, 103775.0, 103859.0, 104716.0, 103452.0, 103949.0, 103707.0, 102991.0, 102654.0, 102817.0, 103483.0, 102946.0, 101819.0, 102122.0, 102658.0, 100098.0, 102163.0, 102811.0, 104102.0, 103946.0, 101912.0, 103270.0, 100262.0, 99059.0, 99810.0, 99472.0, 99227.0, 101209.0, 100007.0, 97687.0, 96434.0, 97273.0, 98194.0, 100526.0, 101133.0, 100626.0, 99706.0, 101204.0, 102247.0, 102937.0, 103180.0, 103036.0, 104389.0, 104371.0, 103496.0, 103680.0, 104616.0, 104555.0, 104339.0, 104817.0, 104638.0, 103857.0, 104485.0, 105319.0, 105077.0, 104745.0, 104049.0, 101031.0, 101516.0, 102546.0, 100565.0, 100005.0, 101244.0, 101819.0, 103834.0, 104299.0, 104486.0, 105389.0, 105012.0, 104729.0, 107101.0, 107381.0, 107553.0, 106990.0, 107366.0, 108189.0, 107557.0, 108403.0, 107221.0, 108196.0, 108779.0, 108719.0, 108360.0, 109572.0, 107622.0, 108368.0, 106751.0, 106052.0, 106566.0, 106269.0, 105866.0, 107497.0, 108692.0, 108424.0, 107059.0, 107708.0, 108283.0, 108246.0, 108931.0, 108962.0, 110297.0, 110623.0, 111125.0, 110973.0, 110672.0, 110963.0, 112205.0, 112565.0, 111897.0, 112618.0, 114313.0, 115133.0, 115119.0, 115864.0, 117205.0, 116530.0, 115652.0, 118564.0, 117707.0, 116872.0, 116667.0, 116248.0, 115948.0, 115503.0, 117325.0, 117632.0, 116415.0, 116710.0, 118478.0, 118861.0, 117035.0, 118391.0, 119528.0, 118347.0, 114482.0, 116494.0, 115375.0, 115518.0, 113761.0, 114631.0, 115563.0, 116033.0, 115190.0, 113771.0, 112574.0, 115371.0, 116660.0, 115663.0, 114381.0, 115309.0, 114982.0, 116518.0, 114585.0, 105711.0, 102984.0, 104260.0, 106630.0, 105540.0, 107217.0, 102231.0, 97982.0, 86071.0, 92202.0, 85103.0, 72621.0, 82565.0, 71178.0, 74576.0, 66883.0, 68344.0, 67067.0, 63604.0, 69727.0, 74956.0, 77708.0, 73431.0, 74629.0, 73011.0, 70969.0, 72241.0, 69556.0, 74078.0, 76335.0, 78640.0, 77682.0, 78848.0, 79911.0, 78837.0, 77817.0, 78989.0, 78973.0, 80690.0, 79667.0, 75334.0, 78243.0, 81313.0, 83169.0, 80501.0, 78887.0, 79473.0, 79072.0, 78152.0, 80263.0, 79065.0, 77877.0, 77770.0, 79011.0, 77576.0, 81197.0, 80747.0, 81320.0, 83027.0, 82198.0, 85668.0, 85468.0, 87946.0, 86951.0, 87395.0, 88622.0, 91048.0, 92993.0, 93839.0, 94640.0, 97644.0, 96747.0, 94677.0, 92780.0, 92387.0, 93531.0, 95547.0, 96138.0, 96572.0, 95344.0, 95974.0, 94382.0, 95979.0, 93837.0, 95728.0, 95062.0, 96206.0, 96237.0, 96776.0, 98937.0, 97765.0, 99770.0, 99160.0, 100027.0, 98699.0, 100444.0, 101791.0, 100554.0, 102888.0, 104426.0, 104312.0, 104291.0, 102292.0, 102381.0, 104477.0, 104112.0, 105605.0, 105010.0, 102913.0, 102826.0, 101220.0, 102733.0, 104116.0, 102776.0, 103449.0, 102176.0, 102118.0, 100469.0, 101348.0, 99597.0, 102072.0, 100853.0, 101460.0, 101525.0, 102293.0, 102119.0, 100625.0, 100631.0, 102142.0, 99382.0, 102168.0, 101911.0, 100733.0, 101239.0, 100050.0, 101291.0, 98839.0, 98367.0, 100277.0, 100299.0, 99674.0, 100098.0, 98283.0, 96995.0, 97294.0, 95735.0, 97011.0, 97005.0, 94665.0, 93586.0, 94604.0, 95475.0, 94019.0, 96091.0, 95616.0, 95530.0, 97924.0, 97483.0, 98502.0, 99328.0, 99054.0, 98310.0, 98664.0, 100541.0, 100553.0, 101918.0, 101260.0, 101017.0, 99598.0, 95368.0, 96579.0, 93968.0, 95992.0, 97873.0, 100751.0, 100954.0, 103516.0, 105067.0, 104810.0, 102509.0, 104729.0, 106430.0, 107246.0, 106117.0, 106050.0, 107378.0, 109786.0, 110133.0, 110229.0, 110598.0, 108897.0, 111402.0, 111874.0, 112294.0, 113751.0, 113590.0, 113799.0, 113002.0, 115128.0, 115137.0, 114613.0, 116149.0, 117864.0, 118395.0, 118021.0, 115825.0, 116636.0, 117806.0, 119130.0, 119410.0]}],                        {\"template\": {\"data\": {\"bar\": [{\"error_x\": {\"color\": \"#2a3f5f\"}, \"error_y\": {\"color\": \"#2a3f5f\"}, \"marker\": {\"line\": {\"color\": \"#E5ECF6\", \"width\": 0.5}}, \"type\": \"bar\"}], \"barpolar\": [{\"marker\": {\"line\": {\"color\": \"#E5ECF6\", \"width\": 0.5}}, \"type\": \"barpolar\"}], \"carpet\": [{\"aaxis\": {\"endlinecolor\": \"#2a3f5f\", \"gridcolor\": \"white\", \"linecolor\": \"white\", \"minorgridcolor\": \"white\", \"startlinecolor\": \"#2a3f5f\"}, \"baxis\": {\"endlinecolor\": \"#2a3f5f\", \"gridcolor\": \"white\", \"linecolor\": \"white\", \"minorgridcolor\": \"white\", \"startlinecolor\": \"#2a3f5f\"}, \"type\": \"carpet\"}], \"choropleth\": [{\"colorbar\": {\"outlinewidth\": 0, \"ticks\": \"\"}, \"type\": \"choropleth\"}], \"contour\": [{\"colorbar\": {\"outlinewidth\": 0, \"ticks\": \"\"}, \"colorscale\": [[0.0, \"#0d0887\"], [0.1111111111111111, \"#46039f\"], [0.2222222222222222, \"#7201a8\"], [0.3333333333333333, \"#9c179e\"], [0.4444444444444444, \"#bd3786\"], [0.5555555555555556, \"#d8576b\"], [0.6666666666666666, \"#ed7953\"], [0.7777777777777778, \"#fb9f3a\"], [0.8888888888888888, \"#fdca26\"], [1.0, \"#f0f921\"]], \"type\": \"contour\"}], \"contourcarpet\": [{\"colorbar\": {\"outlinewidth\": 0, \"ticks\": \"\"}, \"type\": \"contourcarpet\"}], \"heatmap\": [{\"colorbar\": {\"outlinewidth\": 0, \"ticks\": \"\"}, \"colorscale\": [[0.0, \"#0d0887\"], [0.1111111111111111, \"#46039f\"], [0.2222222222222222, \"#7201a8\"], [0.3333333333333333, \"#9c179e\"], [0.4444444444444444, \"#bd3786\"], [0.5555555555555556, \"#d8576b\"], [0.6666666666666666, \"#ed7953\"], [0.7777777777777778, \"#fb9f3a\"], [0.8888888888888888, \"#fdca26\"], [1.0, \"#f0f921\"]], \"type\": \"heatmap\"}], \"heatmapgl\": [{\"colorbar\": {\"outlinewidth\": 0, \"ticks\": \"\"}, \"colorscale\": [[0.0, \"#0d0887\"], [0.1111111111111111, \"#46039f\"], [0.2222222222222222, \"#7201a8\"], [0.3333333333333333, \"#9c179e\"], [0.4444444444444444, \"#bd3786\"], [0.5555555555555556, \"#d8576b\"], [0.6666666666666666, \"#ed7953\"], [0.7777777777777778, \"#fb9f3a\"], [0.8888888888888888, \"#fdca26\"], [1.0, \"#f0f921\"]], \"type\": \"heatmapgl\"}], \"histogram\": [{\"marker\": {\"colorbar\": {\"outlinewidth\": 0, \"ticks\": \"\"}}, \"type\": \"histogram\"}], \"histogram2d\": [{\"colorbar\": {\"outlinewidth\": 0, \"ticks\": \"\"}, \"colorscale\": [[0.0, \"#0d0887\"], [0.1111111111111111, \"#46039f\"], [0.2222222222222222, \"#7201a8\"], [0.3333333333333333, \"#9c179e\"], [0.4444444444444444, \"#bd3786\"], [0.5555555555555556, \"#d8576b\"], [0.6666666666666666, \"#ed7953\"], [0.7777777777777778, \"#fb9f3a\"], [0.8888888888888888, \"#fdca26\"], [1.0, \"#f0f921\"]], \"type\": \"histogram2d\"}], \"histogram2dcontour\": [{\"colorbar\": {\"outlinewidth\": 0, \"ticks\": \"\"}, \"colorscale\": [[0.0, \"#0d0887\"], [0.1111111111111111, \"#46039f\"], [0.2222222222222222, \"#7201a8\"], [0.3333333333333333, \"#9c179e\"], [0.4444444444444444, \"#bd3786\"], [0.5555555555555556, \"#d8576b\"], [0.6666666666666666, \"#ed7953\"], [0.7777777777777778, \"#fb9f3a\"], [0.8888888888888888, \"#fdca26\"], [1.0, \"#f0f921\"]], \"type\": \"histogram2dcontour\"}], \"mesh3d\": [{\"colorbar\": {\"outlinewidth\": 0, \"ticks\": \"\"}, \"type\": \"mesh3d\"}], \"parcoords\": [{\"line\": {\"colorbar\": {\"outlinewidth\": 0, \"ticks\": \"\"}}, \"type\": \"parcoords\"}], \"pie\": [{\"automargin\": true, \"type\": \"pie\"}], \"scatter\": [{\"marker\": {\"colorbar\": {\"outlinewidth\": 0, \"ticks\": \"\"}}, \"type\": \"scatter\"}], \"scatter3d\": [{\"line\": {\"colorbar\": {\"outlinewidth\": 0, \"ticks\": \"\"}}, \"marker\": {\"colorbar\": {\"outlinewidth\": 0, \"ticks\": \"\"}}, \"type\": \"scatter3d\"}], \"scattercarpet\": [{\"marker\": {\"colorbar\": {\"outlinewidth\": 0, \"ticks\": \"\"}}, \"type\": \"scattercarpet\"}], \"scattergeo\": [{\"marker\": {\"colorbar\": {\"outlinewidth\": 0, \"ticks\": \"\"}}, \"type\": \"scattergeo\"}], \"scattergl\": [{\"marker\": {\"colorbar\": {\"outlinewidth\": 0, \"ticks\": \"\"}}, \"type\": \"scattergl\"}], \"scattermapbox\": [{\"marker\": {\"colorbar\": {\"outlinewidth\": 0, \"ticks\": \"\"}}, \"type\": \"scattermapbox\"}], \"scatterpolar\": [{\"marker\": {\"colorbar\": {\"outlinewidth\": 0, \"ticks\": \"\"}}, \"type\": \"scatterpolar\"}], \"scatterpolargl\": [{\"marker\": {\"colorbar\": {\"outlinewidth\": 0, \"ticks\": \"\"}}, \"type\": \"scatterpolargl\"}], \"scatterternary\": [{\"marker\": {\"colorbar\": {\"outlinewidth\": 0, \"ticks\": \"\"}}, \"type\": \"scatterternary\"}], \"surface\": [{\"colorbar\": {\"outlinewidth\": 0, \"ticks\": \"\"}, \"colorscale\": [[0.0, \"#0d0887\"], [0.1111111111111111, \"#46039f\"], [0.2222222222222222, \"#7201a8\"], [0.3333333333333333, \"#9c179e\"], [0.4444444444444444, \"#bd3786\"], [0.5555555555555556, \"#d8576b\"], [0.6666666666666666, \"#ed7953\"], [0.7777777777777778, \"#fb9f3a\"], [0.8888888888888888, \"#fdca26\"], [1.0, \"#f0f921\"]], \"type\": \"surface\"}], \"table\": [{\"cells\": {\"fill\": {\"color\": \"#EBF0F8\"}, \"line\": {\"color\": \"white\"}}, \"header\": {\"fill\": {\"color\": \"#C8D4E3\"}, \"line\": {\"color\": \"white\"}}, \"type\": \"table\"}]}, \"layout\": {\"annotationdefaults\": {\"arrowcolor\": \"#2a3f5f\", \"arrowhead\": 0, \"arrowwidth\": 1}, \"autotypenumbers\": \"strict\", \"coloraxis\": {\"colorbar\": {\"outlinewidth\": 0, \"ticks\": \"\"}}, \"colorscale\": {\"diverging\": [[0, \"#8e0152\"], [0.1, \"#c51b7d\"], [0.2, \"#de77ae\"], [0.3, \"#f1b6da\"], [0.4, \"#fde0ef\"], [0.5, \"#f7f7f7\"], [0.6, \"#e6f5d0\"], [0.7, \"#b8e186\"], [0.8, \"#7fbc41\"], [0.9, \"#4d9221\"], [1, \"#276419\"]], \"sequential\": [[0.0, \"#0d0887\"], [0.1111111111111111, \"#46039f\"], [0.2222222222222222, \"#7201a8\"], [0.3333333333333333, \"#9c179e\"], [0.4444444444444444, \"#bd3786\"], [0.5555555555555556, \"#d8576b\"], [0.6666666666666666, \"#ed7953\"], [0.7777777777777778, \"#fb9f3a\"], [0.8888888888888888, \"#fdca26\"], [1.0, \"#f0f921\"]], \"sequentialminus\": [[0.0, \"#0d0887\"], [0.1111111111111111, \"#46039f\"], [0.2222222222222222, \"#7201a8\"], [0.3333333333333333, \"#9c179e\"], [0.4444444444444444, \"#bd3786\"], [0.5555555555555556, \"#d8576b\"], [0.6666666666666666, \"#ed7953\"], [0.7777777777777778, \"#fb9f3a\"], [0.8888888888888888, \"#fdca26\"], [1.0, \"#f0f921\"]]}, \"colorway\": [\"#636efa\", \"#EF553B\", \"#00cc96\", \"#ab63fa\", \"#FFA15A\", \"#19d3f3\", \"#FF6692\", \"#B6E880\", \"#FF97FF\", \"#FECB52\"], \"font\": {\"color\": \"#2a3f5f\"}, \"geo\": {\"bgcolor\": \"white\", \"lakecolor\": \"white\", \"landcolor\": \"#E5ECF6\", \"showlakes\": true, \"showland\": true, \"subunitcolor\": \"white\"}, \"hoverlabel\": {\"align\": \"left\"}, \"hovermode\": \"closest\", \"mapbox\": {\"style\": \"light\"}, \"paper_bgcolor\": \"white\", \"plot_bgcolor\": \"#E5ECF6\", \"polar\": {\"angularaxis\": {\"gridcolor\": \"white\", \"linecolor\": \"white\", \"ticks\": \"\"}, \"bgcolor\": \"#E5ECF6\", \"radialaxis\": {\"gridcolor\": \"white\", \"linecolor\": \"white\", \"ticks\": \"\"}}, \"scene\": {\"xaxis\": {\"backgroundcolor\": \"#E5ECF6\", \"gridcolor\": \"white\", \"gridwidth\": 2, \"linecolor\": \"white\", \"showbackground\": true, \"ticks\": \"\", \"zerolinecolor\": \"white\"}, \"yaxis\": {\"backgroundcolor\": \"#E5ECF6\", \"gridcolor\": \"white\", \"gridwidth\": 2, \"linecolor\": \"white\", \"showbackground\": true, \"ticks\": \"\", \"zerolinecolor\": \"white\"}, \"zaxis\": {\"backgroundcolor\": \"#E5ECF6\", \"gridcolor\": \"white\", \"gridwidth\": 2, \"linecolor\": \"white\", \"showbackground\": true, \"ticks\": \"\", \"zerolinecolor\": \"white\"}}, \"shapedefaults\": {\"line\": {\"color\": \"#2a3f5f\"}}, \"ternary\": {\"aaxis\": {\"gridcolor\": \"white\", \"linecolor\": \"white\", \"ticks\": \"\"}, \"baxis\": {\"gridcolor\": \"white\", \"linecolor\": \"white\", \"ticks\": \"\"}, \"bgcolor\": \"#E5ECF6\", \"caxis\": {\"gridcolor\": \"white\", \"linecolor\": \"white\", \"ticks\": \"\"}}, \"title\": {\"x\": 0.05}, \"xaxis\": {\"automargin\": true, \"gridcolor\": \"white\", \"linecolor\": \"white\", \"ticks\": \"\", \"title\": {\"standoff\": 15}, \"zerolinecolor\": \"white\", \"zerolinewidth\": 2}, \"yaxis\": {\"automargin\": true, \"gridcolor\": \"white\", \"linecolor\": \"white\", \"ticks\": \"\", \"title\": {\"standoff\": 15}, \"zerolinecolor\": \"white\", \"zerolinewidth\": 2}}}},                        {\"responsive\": true}                    ).then(function(){\n",
              "                            \n",
              "var gd = document.getElementById('4667249f-1615-41d2-9b40-dd1eaaa8ec4a');\n",
              "var x = new MutationObserver(function (mutations, observer) {{\n",
              "        var display = window.getComputedStyle(gd).display;\n",
              "        if (!display || display === 'none') {{\n",
              "            console.log([gd, 'removed!']);\n",
              "            Plotly.purge(gd);\n",
              "            observer.disconnect();\n",
              "        }}\n",
              "}});\n",
              "\n",
              "// Listen for the removal of the full notebook cells\n",
              "var notebookContainer = gd.closest('#notebook-container');\n",
              "if (notebookContainer) {{\n",
              "    x.observe(notebookContainer, {childList: true});\n",
              "}}\n",
              "\n",
              "// Listen for the clearing of the current output cell\n",
              "var outputEl = gd.closest('.output');\n",
              "if (outputEl) {{\n",
              "    x.observe(outputEl, {childList: true});\n",
              "}}\n",
              "\n",
              "                        })                };                            </script>        </div>\n",
              "</body>\n",
              "</html>"
            ]
          },
          "metadata": {
            "tags": []
          }
        }
      ]
    },
    {
      "cell_type": "code",
      "metadata": {
        "id": "Jtdx_2vCsNmi"
      },
      "source": [
        "def plotCandleStick(df, acao = 'ticker'):\n",
        "  trace1 = {\n",
        "      'x': df.index,\n",
        "      'open': df.Open,\n",
        "      'close': df.Close,\n",
        "      'high': df.High,\n",
        "      'low': df.Low,\n",
        "      'type': 'candlestick',\n",
        "      'name': acao,\n",
        "      'showlegend': False\n",
        "  }\n",
        "\n",
        "  data = [trace1]\n",
        "  layout = go.Layout()\n",
        "\n",
        "  fig = go.Figure(data = data, layout = layout)\n",
        "  return fig"
      ],
      "execution_count": null,
      "outputs": []
    },
    {
      "cell_type": "code",
      "metadata": {
        "colab": {
          "base_uri": "https://localhost:8080/",
          "height": 542
        },
        "id": "d40AJbaetVyI",
        "outputId": "44df79e4-1289-4335-ad80-6f3bfd297d75"
      },
      "source": [
        "plotCandleStick(df)"
      ],
      "execution_count": null,
      "outputs": [
        {
          "output_type": "display_data",
          "data": {
            "text/html": [
              "<html>\n",
              "<head><meta charset=\"utf-8\" /></head>\n",
              "<body>\n",
              "    <div>            <script src=\"https://cdnjs.cloudflare.com/ajax/libs/mathjax/2.7.5/MathJax.js?config=TeX-AMS-MML_SVG\"></script><script type=\"text/javascript\">if (window.MathJax) {MathJax.Hub.Config({SVG: {font: \"STIX-Web\"}});}</script>                <script type=\"text/javascript\">window.PlotlyConfig = {MathJaxConfig: 'local'};</script>\n",
              "        <script src=\"https://cdn.plot.ly/plotly-latest.min.js\"></script>                <div id=\"5b7f8f8c-ac0e-4b86-a1bd-8bde757536b1\" class=\"plotly-graph-div\" style=\"height:525px; width:100%;\"></div>            <script type=\"text/javascript\">                                    window.PLOTLYENV=window.PLOTLYENV || {};                                    if (document.getElementById(\"5b7f8f8c-ac0e-4b86-a1bd-8bde757536b1\")) {                    Plotly.newPlot(                        \"5b7f8f8c-ac0e-4b86-a1bd-8bde757536b1\",                        [{\"close\": [77891.0, 77995.0, 78647.0, 79071.0, 79379.0, 78864.0, 78201.0, 79365.0, 79349.0, 79752.0, 79832.0, 81189.0, 80963.0, 81220.0, 81675.0, 80678.0, 83680.0, 83680.0, 85531.0, 84698.0, 84482.0, 84913.0, 85495.0, 84041.0, 81861.0, 83894.0, 82767.0, 81533.0, 80899.0, 84291.0, 84525.0, 84793.0, 85804.0, 86052.0, 86686.0, 87293.0, 87653.0, 86935.0, 85481.0, 85378.0, 85761.0, 86023.0, 85653.0, 85484.0, 84985.0, 86371.0, 86900.0, 86384.0, 86051.0, 84928.0, 84886.0, 83913.0, 84164.0, 84977.0, 84768.0, 84377.0, 85088.0, 83808.0, 83874.0, 85366.0, 84666.0, 84623.0, 84360.0, 85210.0, 84820.0, 83307.0, 84510.0, 85246.0, 85444.0, 84334.0, 82862.0, 84086.0, 85776.0, 85824.0, 85550.0, 85602.0, 85469.0, 85044.0, 86383.0, 86445.0, 86115.0, 84547.0, 83288.0, 83118.0, 82714.0, 82956.0, 84265.0, 85861.0, 85220.0, 85232.0, 85130.0, 86537.0, 83622.0, 83082.0, 81815.0, 82739.0, 80867.0, 80122.0, 78898.0, 75356.0, 76072.0, 76754.0, 77240.0, 78596.0, 76642.0, 76117.0, 73851.0, 72942.0, 72308.0, 72754.0, 72122.0, 71421.0, 70758.0, 69815.0, 71394.0, 72123.0, 70075.0, 70641.0, 70953.0, 71405.0, 70609.0, 71767.0, 72763.0, 72840.0, 73668.0, 74743.0, 74553.0, 75010.0, 74862.0, 74399.0, 75856.0, 76594.0, 76653.0, 78130.0, 77363.0, 77487.0, 78571.0, 77996.0, 79155.0, 80218.0, 79405.0, 79866.0, 80276.0, 79220.0, 79302.0, 79637.0, 81435.0, 81051.0, 80347.0, 79152.0, 78768.0, 76514.0, 77496.0, 78602.0, 77078.0, 76819.0, 76029.0, 76328.0, 75180.0, 76902.0, 75634.0, 76262.0, 77930.0, 77473.0, 78389.0, 76404.0, 76678.0, 76193.0, 74712.0, 75092.0, 76416.0, 76436.0, 74657.0, 75125.0, 74687.0, 75429.0, 76789.0, 78314.0, 78169.0, 78116.0, 79444.0, 77984.0, 78630.0, 78656.0, 80000.0, 79342.0, 78624.0, 81612.0, 83273.0, 82953.0, 82322.0, 86084.0, 86088.0, 83679.0, 82921.0, 83360.0, 85718.0, 85764.0, 83847.0, 84220.0, 85597.0, 85300.0, 83064.0, 84084.0, 85720.0, 83797.0, 86886.0, 87424.0, 88419.0, 89598.0, 88669.0, 87714.0, 85620.0, 85641.0, 85525.0, 84914.0, 85973.0, 88515.0, 87901.0, 87269.0, 87477.0, 86230.0, 85547.0, 87891.0, 89251.0, 89710.0, 89504.0, 89820.0, 88624.0, 89040.0, 88846.0, 88115.0, 85915.0, 86420.0, 86977.0, 87838.0, 87450.0, 86400.0, 86610.0, 85674.0, 85269.0, 85697.0, 85136.0, 85460.0, 87887.0, 91012.0, 91564.0, 91841.0, 91699.0, 92032.0, 93613.0, 93806.0, 93658.0, 94474.0, 94056.0, 94393.0, 95351.0, 96097.0, 96010.0, 95103.0, 96558.0, 97677.0, 95444.0, 95639.0, 96996.0, 97394.0, 97861.0, 98589.0, 98311.0, 94636.0, 94406.0, 95343.0, 94413.0, 96168.0, 95842.0, 98015.0, 97526.0, 96510.0, 97659.0, 96545.0, 96932.0, 97886.0, 97240.0, 97603.0, 97307.0, 95584.0, 94604.0, 94340.0, 95365.0, 98027.0, 97828.0, 98904.0, 98605.0, 99137.0, 99994.0, 99588.0, 98041.0, 96729.0, 93735.0, 93662.0, 95307.0, 91903.0, 94389.0, 95415.0, 96054.0, 95387.0, 94491.0, 96313.0, 97108.0, 97369.0, 96292.0, 95953.0, 94755.0, 92875.0, 93083.0, 94333.0, 93285.0, 94578.0, 94588.0, 95923.0, 95045.0, 96552.0, 96236.0, 96188.0, 96353.0, 95528.0, 96008.0, 95009.0, 94389.0, 95597.0, 94808.0, 94258.0, 91727.0, 92092.0, 91623.0, 90024.0, 89993.0, 91946.0, 94485.0, 94361.0, 93910.0, 93628.0, 94864.0, 96393.0, 96567.0, 97457.0, 97030.0, 97020.0, 97380.0, 95999.0, 97205.0, 97821.0, 97467.0, 98960.0, 98321.0, 98774.0, 98040.0, 97623.0, 99404.0, 100303.0, 102013.0, 102062.0, 100093.0, 100689.0, 100724.0, 100967.0, 101340.0, 100605.0, 102043.0, 103636.0, 104089.0, 104530.0, 105817.0, 105146.0, 103906.0, 103803.0, 103775.0, 103856.0, 104717.0, 103452.0, 103949.0, 103704.0, 104120.0, 102655.0, 102819.0, 103483.0, 102933.0, 101812.0, 102126.0, 102674.0, 100098.0, 102164.0, 102782.0, 104115.0, 103996.0, 101915.0, 103299.0, 100258.0, 99057.0, 99806.0, 99469.0, 99222.0, 101202.0, 100011.0, 97667.0, 96430.0, 97276.0, 98194.0, 100524.0, 101135.0, 100626.0, 99681.0, 101201.0, 102243.0, 102935.0, 103181.0, 103032.0, 103446.0, 104371.0, 103501.0, 103680.0, 104617.0, 104532.0, 104339.0, 104817.0, 104638.0, 103876.0, 104481.0, 105319.0, 105078.0, 104745.0, 104053.0, 101031.0, 101516.0, 102551.0, 100573.0, 99981.0, 101249.0, 101817.0, 103832.0, 104302.0, 104490.0, 105423.0, 105016.0, 104729.0, 106022.0, 107381.0, 107544.0, 106986.0, 107364.0, 108187.0, 107556.0, 108408.0, 107220.0, 108196.0, 108601.0, 108451.0, 108336.0, 109581.0, 107629.0, 108215.0, 106785.0, 105914.0, 106557.0, 106347.0, 105618.0, 107497.0, 108692.0, 108424.0, 107059.0, 107708.0, 108290.0, 108233.0, 109061.0, 108956.0, 110301.0, 110622.0, 111126.0, 110977.0, 110672.0, 110964.0, 112200.0, 112565.0, 111896.0, 112616.0, 114315.0, 115131.0, 115121.0, 115863.0, 117203.0, 116534.0, 115964.0, 118573.0, 117707.0, 116878.0, 116662.0, 116247.0, 115947.0, 115503.0, 117325.0, 117632.0, 116414.0, 116704.0, 118478.0, 118862.0, 117026.0, 118391.0, 119528.0, 118376.0, 114482.0, 116479.0, 115385.0, 115528.0, 113761.0, 114629.0, 115557.0, 116028.0, 115190.0, 113770.0, 112570.0, 115371.0, 116674.0, 115662.0, 114381.0, 115309.0, 114977.0, 116518.0, 114586.0, 113681.0, 102984.0, 104172.0, 106625.0, 105537.0, 107224.0, 102233.0, 97997.0, 86067.0, 92214.0, 85171.0, 72583.0, 82678.0, 71168.0, 74617.0, 66895.0, 68332.0, 67069.0, 63570.0, 69729.0, 74956.0, 77710.0, 73429.0, 74640.0, 73020.0, 70967.0, 72253.0, 69538.0, 74073.0, 76358.0, 78625.0, 77682.0, 78836.0, 79918.0, 78831.0, 77812.0, 78990.0, 78973.0, 80687.0, 79673.0, 75331.0, 78239.0, 81312.0, 83171.0, 80506.0, 78876.0, 79471.0, 79064.0, 78119.0, 80263.0, 79065.0, 77872.0, 77772.0, 79011.0, 77557.0, 81194.0, 80742.0, 81319.0, 83027.0, 82173.0, 85663.0, 85469.0, 87946.0, 86949.0, 87403.0, 88620.0, 91046.0, 93002.0, 93829.0, 94637.0, 97645.0, 96747.0, 94686.0, 92795.0, 92376.0, 93531.0, 95547.0, 96125.0, 96572.0, 95336.0, 95975.0, 94377.0, 95983.0, 93834.0, 95735.0, 95056.0, 96203.0, 96235.0, 96765.0, 98937.0, 97761.0, 99770.0, 99160.0, 100032.0, 98697.0, 100440.0, 101791.0, 100553.0, 102888.0, 104426.0, 104310.0, 104290.0, 102293.0, 102382.0, 104477.0, 104109.0, 105605.0, 105009.0, 102912.0, 102830.0, 101216.0, 102802.0, 104126.0, 102776.0, 103444.0, 102174.0, 102118.0, 100461.0, 101353.0, 99595.0, 102065.0, 100854.0, 101468.0, 101521.0, 102298.0, 102118.0, 100627.0, 100624.0, 102143.0, 99369.0, 102168.0, 101911.0, 100721.0, 101242.0, 100050.0, 101292.0, 98835.0, 98363.0, 100275.0, 100298.0, 99676.0, 100098.0, 98290.0, 96991.0, 97294.0, 95735.0, 97012.0, 96999.0, 94666.0, 93580.0, 94603.0, 95479.0, 94016.0, 96089.0, 95615.0, 95526.0, 97920.0, 97483.0, 98503.0, 99334.0, 99054.0, 98309.0, 98658.0, 100540.0, 100552.0, 101918.0, 101260.0, 101017.0, 99606.0, 95369.0, 96582.0, 93952.0, 95587.0, 97811.0, 100774.0, 100799.0, 103913.0, 105351.0, 104532.0, 102175.0, 104512.0, 106430.0, 107229.0, 106483.0, 106517.0, 107379.0, 109786.0, 110133.0, 110227.0, 110575.0, 108888.0, 111335.0, 111814.0, 112919.0, 113682.0, 113625.0, 113571.0, 112722.0, 114992.0, 115323.0, 114975.0, 116146.0, 117947.0, 118157.0, 117679.0, 116016.0, 116348.0, 117857.0, 119051.0, 119475.0, 119306.0], \"high\": [77909.0, 78414.0, 79135.0, 79071.0, 79395.0, 79415.0, 78864.0, 79365.0, 79440.0, 79847.0, 80246.0, 81189.0, 81367.0, 81429.0, 81675.0, 81676.0, 83680.0, 83680.0, 85531.0, 85531.0, 84697.0, 86213.0, 86028.0, 85495.0, 84311.0, 84162.0, 84410.0, 83501.0, 81897.0, 84686.0, 84575.0, 84956.0, 86290.0, 87358.0, 87159.0, 87345.0, 88318.0, 87839.0, 87109.0, 86260.0, 85761.0, 86165.0, 86931.0, 85653.0, 85830.0, 86389.0, 87046.0, 87333.0, 86970.0, 86051.0, 85495.0, 84886.0, 84412.0, 85145.0, 85499.0, 85450.0, 85553.0, 85296.0, 83889.0, 85708.0, 85675.0, 85411.0, 84610.0, 86148.0, 85210.0, 85110.0, 84538.0, 85417.0, 85577.0, 85441.0, 84591.0, 84191.0, 86149.0, 86059.0, 85823.0, 85746.0, 86578.0, 85466.0, 86383.0, 87179.0, 86739.0, 86111.0, 84562.0, 83671.0, 83643.0, 83409.0, 84447.0, 86201.0, 86406.0, 86105.0, 85231.0, 86678.0, 86537.0, 83614.0, 83883.0, 83396.0, 82742.0, 80860.0, 80629.0, 78886.0, 77214.0, 77097.0, 78169.0, 78637.0, 78892.0, 76967.0, 76117.0, 74031.0, 73716.0, 73322.0, 72977.0, 72708.0, 71421.0, 70757.0, 72010.0, 72617.0, 72207.0, 71058.0, 71323.0, 71622.0, 72032.0, 72092.0, 73020.0, 72840.0, 74515.0, 74904.0, 75127.0, 75065.0, 75895.0, 75025.0, 75898.0, 76682.0, 76924.0, 78522.0, 78496.0, 77487.0, 79489.0, 78639.0, 79497.0, 80437.0, 80589.0, 80251.0, 80492.0, 80279.0, 79731.0, 79896.0, 81792.0, 81765.0, 81742.0, 80912.0, 79461.0, 78766.0, 77689.0, 78742.0, 78618.0, 77704.0, 76817.0, 76497.0, 76340.0, 76904.0, 77232.0, 76629.0, 78008.0, 78038.0, 78783.0, 78389.0, 77202.0, 76675.0, 76192.0, 75370.0, 76533.0, 77293.0, 76437.0, 75680.0, 75407.0, 75705.0, 76893.0, 78454.0, 79021.0, 78944.0, 80002.0, 79447.0, 78688.0, 79461.0, 80107.0, 80000.0, 79557.0, 81778.0, 85442.0, 83430.0, 83805.0, 87333.0, 86573.0, 86085.0, 84749.0, 84278.0, 85718.0, 86167.0, 85760.0, 84954.0, 85772.0, 85595.0, 85786.0, 84831.0, 85720.0, 88377.0, 86990.0, 88028.0, 89017.0, 89598.0, 89587.0, 89565.0, 88570.0, 86233.0, 86227.0, 85941.0, 85973.0, 88516.0, 88484.0, 87896.0, 87656.0, 87479.0, 87147.0, 88018.0, 89483.0, 89910.0, 90246.0, 91242.0, 90452.0, 89111.0, 88933.0, 89986.0, 88384.0, 87520.0, 87946.0, 87842.0, 88184.0, 87820.0, 87274.0, 88101.0, 86584.0, 86554.0, 85684.0, 85739.0, 88044.0, 91479.0, 91596.0, 92701.0, 92552.0, 92231.0, 93626.0, 93987.0, 93961.0, 94474.0, 94695.0, 94393.0, 95682.0, 96396.0, 96093.0, 96070.0, 96576.0, 97677.0, 97937.0, 96751.0, 97107.0, 98405.0, 98044.0, 98589.0, 98587.0, 98308.0, 95642.0, 95486.0, 95499.0, 96571.0, 96804.0, 98019.0, 98238.0, 97527.0, 98185.0, 98544.0, 97231.0, 97887.0, 98190.0, 97904.0, 97782.0, 97528.0, 96113.0, 94532.0, 95476.0, 98027.0, 98150.0, 99267.0, 99036.0, 99393.0, 100038.0, 100439.0, 99708.0, 98046.0, 96725.0, 94384.0, 95525.0, 95297.0, 94854.0, 95863.0, 96752.0, 96690.0, 96442.0, 96394.0, 97493.0, 97610.0, 97366.0, 96902.0, 95954.0, 94768.0, 93723.0, 95062.0, 95042.0, 95140.0, 95038.0, 96315.0, 95923.0, 96552.0, 96563.0, 97123.0, 96707.0, 96339.0, 96315.0, 95992.0, 95009.0, 96312.0, 95597.0, 94848.0, 94252.0, 92529.0, 92088.0, 91622.0, 91321.0, 92117.0, 94573.0, 95212.0, 94547.0, 94900.0, 95444.0, 96552.0, 96986.0, 97939.0, 97992.0, 97757.0, 97723.0, 97686.0, 97462.0, 98326.0, 97856.0, 98985.0, 99240.0, 99364.0, 98981.0, 98439.0, 99412.0, 100327.0, 102100.0, 102617.0, 102061.0, 101126.0, 101025.0, 101563.0, 102432.0, 101565.0, 102177.0, 104022.0, 104176.0, 104679.0, 106650.0, 105886.0, 105731.0, 104578.0, 104440.0, 104453.0, 104773.0, 104723.0, 104278.0, 104430.0, 104570.0, 103464.0, 103209.0, 103483.0, 103555.0, 103129.0, 104056.0, 103180.0, 102658.0, 102178.0, 102784.0, 104282.0, 104848.0, 103946.0, 103778.0, 103270.0, 101014.0, 100567.0, 100948.0, 99665.0, 101240.0, 101469.0, 100025.0, 98436.0, 97951.0, 98346.0, 100684.0, 101551.0, 101611.0, 101417.0, 101201.0, 103258.0, 103182.0, 104260.0, 103503.0, 104156.0, 104618.0, 104699.0, 104005.0, 104619.0, 104762.0, 106001.0, 105045.0, 104817.0, 104893.0, 104481.0, 105342.0, 105633.0, 105178.0, 105121.0, 104049.0, 101560.0, 102580.0, 102546.0, 101296.0, 101567.0, 102483.0, 104381.0, 104305.0, 105048.0, 105462.0, 105891.0, 105464.0, 106027.0, 107382.0, 107959.0, 107744.0, 108083.0, 108393.0, 108195.0, 108408.0, 108403.0, 108496.0, 109352.0, 109343.0, 109633.0, 109672.0, 109572.0, 108263.0, 108368.0, 106786.0, 106758.0, 107519.0, 106950.0, 107497.0, 108692.0, 108915.0, 108424.0, 107991.0, 108333.0, 108708.0, 109279.0, 109198.0, 110301.0, 111073.0, 111430.0, 111453.0, 111184.0, 111227.0, 112445.0, 112829.0, 113197.0, 112695.0, 114339.0, 115132.0, 115171.0, 115863.0, 117220.0, 117803.0, 117086.0, 118573.0, 118792.0, 117707.0, 117076.0, 117335.0, 116820.0, 116745.0, 117333.0, 117705.0, 117632.0, 117106.0, 118479.0, 118862.0, 118861.0, 118401.0, 119535.0, 119593.0, 118347.0, 116797.0, 117171.0, 115528.0, 115518.0, 115299.0, 116556.0, 117701.0, 117382.0, 115190.0, 114176.0, 115576.0, 117581.0, 116660.0, 115663.0, 115696.0, 115309.0, 116545.0, 116552.0, 114585.0, 106656.0, 104172.0, 107220.0, 108804.0, 107809.0, 107217.0, 102231.0, 97982.0, 92230.0, 92202.0, 85103.0, 83758.0, 82565.0, 77255.0, 74576.0, 70071.0, 72247.0, 67604.0, 71535.0, 76714.0, 78846.0, 77708.0, 75430.0, 75511.0, 73011.0, 73861.0, 72241.0, 75260.0, 79855.0, 79058.0, 80428.0, 78836.0, 81668.0, 80035.0, 80167.0, 79846.0, 80106.0, 81184.0, 81934.0, 79667.0, 78563.0, 81427.0, 83598.0, 83169.0, 80502.0, 81066.0, 79996.0, 80061.0, 80557.0, 80723.0, 80344.0, 78911.0, 79011.0, 79538.0, 81420.0, 82175.0, 82290.0, 83309.0, 83027.0, 85876.0, 87333.0, 87946.0, 88091.0, 87410.0, 89019.0, 91046.0, 93710.0, 94132.0, 97356.0, 97693.0, 97644.0, 97646.0, 94703.0, 93112.0, 95216.0, 96611.0, 97110.0, 97540.0, 96870.0, 97486.0, 95974.0, 96260.0, 95979.0, 95735.0, 96257.0, 96852.0, 97864.0, 96765.0, 99257.0, 98938.0, 99973.0, 100191.0, 100101.0, 100858.0, 100632.0, 102114.0, 101792.0, 103017.0, 104439.0, 105449.0, 104980.0, 104949.0, 102694.0, 104585.0, 104663.0, 105704.0, 105607.0, 105462.0, 103863.0, 103012.0, 103763.0, 104523.0, 104126.0, 103722.0, 104409.0, 103116.0, 103237.0, 101717.0, 101689.0, 102247.0, 102334.0, 101749.0, 101566.0, 102515.0, 102708.0, 102521.0, 101548.0, 102347.0, 102142.0, 102238.0, 102824.0, 103226.0, 101582.0, 101239.0, 101578.0, 101536.0, 99435.0, 100520.0, 100949.0, 100663.0, 100251.0, 100102.0, 98283.0, 97684.0, 97389.0, 97955.0, 97012.0, 98314.0, 95505.0, 95340.0, 95486.0, 95996.0, 96414.0, 97405.0, 96380.0, 97938.0, 98642.0, 98998.0, 99571.0, 99486.0, 99172.0, 99917.0, 100722.0, 101586.0, 102020.0, 102218.0, 101784.0, 101660.0, 99598.0, 96688.0, 96579.0, 96250.0, 98296.0, 100922.0, 100928.0, 105147.0, 105758.0, 105462.0, 105019.0, 104707.0, 106518.0, 107810.0, 107467.0, 106973.0, 107495.0, 109956.0, 110596.0, 110245.0, 111603.0, 110934.0, 111840.0, 112315.0, 113377.0, 113864.0, 114531.0, 114381.0, 114020.0, 115262.0, 115527.0, 115740.0, 116390.0, 118178.0, 119027.0, 119370.0, 118021.0, 116903.0, 118311.0, 119213.0, 119861.0, 120150.0], \"low\": [76403.0, 77602.0, 77998.0, 78218.0, 78631.0, 78699.0, 78164.0, 78201.0, 78861.0, 79349.0, 79668.0, 79828.0, 80498.0, 80854.0, 80923.0, 80524.0, 80679.0, 80679.0, 83680.0, 84341.0, 83804.0, 84484.0, 84833.0, 83831.0, 81861.0, 80804.0, 82548.0, 81109.0, 79690.0, 83551.0, 83824.0, 84525.0, 84261.0, 85804.0, 86050.0, 86138.0, 87242.0, 86613.0, 85431.0, 84640.0, 83897.0, 85053.0, 85653.0, 84397.0, 84491.0, 84749.0, 86386.0, 86119.0, 85691.0, 84720.0, 84525.0, 83678.0, 83682.0, 84080.0, 84197.0, 84042.0, 84357.0, 83542.0, 82889.0, 83874.0, 84166.0, 84210.0, 82826.0, 84374.0, 83833.0, 83155.0, 83312.0, 84340.0, 85025.0, 84144.0, 82762.0, 82810.0, 84090.0, 85197.0, 85025.0, 84711.0, 85106.0, 84349.0, 85051.0, 86262.0, 85979.0, 84383.0, 83178.0, 82746.0, 82602.0, 82201.0, 82855.0, 84284.0, 85183.0, 84688.0, 83830.0, 85044.0, 83377.0, 81391.0, 81576.0, 81613.0, 80867.0, 79027.0, 78622.0, 75337.0, 75361.0, 75515.0, 75524.0, 77244.0, 76412.0, 75518.0, 71162.0, 71679.0, 71843.0, 72124.0, 71035.0, 71344.0, 69583.0, 69360.0, 69069.0, 71155.0, 70019.0, 69907.0, 69779.0, 70203.0, 70134.0, 70439.0, 71779.0, 71935.0, 72848.0, 73450.0, 73756.0, 74048.0, 74431.0, 74196.0, 74403.0, 75554.0, 76129.0, 76482.0, 77164.0, 75890.0, 77500.0, 77871.0, 78005.0, 79154.0, 79081.0, 79405.0, 79699.0, 79016.0, 78769.0, 78573.0, 79656.0, 80965.0, 79923.0, 78966.0, 78156.0, 76043.0, 75931.0, 77499.0, 76829.0, 76381.0, 75633.0, 75608.0, 74915.0, 74876.0, 75466.0, 75647.0, 76264.0, 77149.0, 77399.0, 76372.0, 76026.0, 75729.0, 74605.0, 74276.0, 74986.0, 76115.0, 74275.0, 74499.0, 74501.0, 74445.0, 75227.0, 76677.0, 77624.0, 77820.0, 78116.0, 77857.0, 77005.0, 78530.0, 78676.0, 78967.0, 78091.0, 78625.0, 81623.0, 81892.0, 82030.0, 82324.0, 85433.0, 83679.0, 82607.0, 82922.0, 83420.0, 84944.0, 83846.0, 83667.0, 84222.0, 84032.0, 83035.0, 83124.0, 83497.0, 82783.0, 83802.0, 86213.0, 87094.0, 88347.0, 88066.0, 87541.0, 85620.0, 84030.0, 85009.0, 84071.0, 84267.0, 85975.0, 87047.0, 86254.0, 87222.0, 85763.0, 84905.0, 85377.0, 87153.0, 88475.0, 89258.0, 89429.0, 88041.0, 88449.0, 87025.0, 87907.0, 85915.0, 85583.0, 86420.0, 86856.0, 87106.0, 86328.0, 86400.0, 85674.0, 84756.0, 85134.0, 83892.0, 84876.0, 85469.0, 87536.0, 89922.0, 90824.0, 91288.0, 91064.0, 92028.0, 93050.0, 93359.0, 93335.0, 93402.0, 93687.0, 93950.0, 95386.0, 94863.0, 94662.0, 95116.0, 96558.0, 94783.0, 95508.0, 95643.0, 96996.0, 96990.0, 96901.0, 97596.0, 94636.0, 93507.0, 93424.0, 93737.0, 94420.0, 95389.0, 94915.0, 97083.0, 96239.0, 96513.0, 96545.0, 95793.0, 96929.0, 97087.0, 97235.0, 96886.0, 95364.0, 94394.0, 93729.0, 93305.0, 95384.0, 97267.0, 97464.0, 97776.0, 98597.0, 99141.0, 99373.0, 97981.0, 95456.0, 93380.0, 93103.0, 93668.0, 91903.0, 91584.0, 94402.0, 95423.0, 94825.0, 94124.0, 94334.0, 96152.0, 96743.0, 95488.0, 95670.0, 94173.0, 92516.0, 92697.0, 92879.0, 92338.0, 93285.0, 93721.0, 94590.0, 94163.0, 94213.0, 95620.0, 96004.0, 95613.0, 95312.0, 95521.0, 94540.0, 92750.0, 94389.0, 93883.0, 93234.0, 91600.0, 91562.0, 90295.0, 89778.0, 89409.0, 89822.0, 91946.0, 93883.0, 93300.0, 93545.0, 93626.0, 94707.0, 95690.0, 96511.0, 96792.0, 96430.0, 96593.0, 95686.0, 96002.0, 97205.0, 96782.0, 97467.0, 97831.0, 98321.0, 97601.0, 97623.0, 97633.0, 98978.0, 100305.0, 101589.0, 99890.0, 100095.0, 99421.0, 100726.0, 100973.0, 100073.0, 100451.0, 102047.0, 102622.0, 103988.0, 104537.0, 104814.0, 103903.0, 103495.0, 103361.0, 103712.0, 103859.0, 103388.0, 103452.0, 103518.0, 103707.0, 102390.0, 102196.0, 102461.0, 102596.0, 100950.0, 101819.0, 101667.0, 99630.0, 100098.0, 100476.0, 102811.0, 103547.0, 101621.0, 101414.0, 99955.0, 98200.0, 99059.0, 98908.0, 98002.0, 99221.0, 100011.0, 97085.0, 95961.0, 95855.0, 96557.0, 98194.0, 100526.0, 100626.0, 99406.0, 99706.0, 101204.0, 102246.0, 102793.0, 102231.0, 103036.0, 103733.0, 103275.0, 102782.0, 103079.0, 103684.0, 104286.0, 103914.0, 104020.0, 103504.0, 103034.0, 104337.0, 104506.0, 104638.0, 103837.0, 100944.0, 99826.0, 101057.0, 100542.0, 99868.0, 100005.0, 101152.0, 101819.0, 103438.0, 104052.0, 103521.0, 104827.0, 104525.0, 104696.0, 107076.0, 107041.0, 106593.0, 106990.0, 107362.0, 107313.0, 106622.0, 106356.0, 107220.0, 108196.0, 108253.0, 107446.0, 108360.0, 107127.0, 106814.0, 106232.0, 105261.0, 105820.0, 106282.0, 105367.0, 105864.0, 107157.0, 108080.0, 106414.0, 106312.0, 107148.0, 107759.0, 108245.0, 108190.0, 108962.0, 110008.0, 110623.0, 110870.0, 110133.0, 110530.0, 110963.0, 111780.0, 111896.0, 111897.0, 112300.0, 113712.0, 114526.0, 114964.0, 115673.0, 115995.0, 115790.0, 115649.0, 117341.0, 116269.0, 115965.0, 115693.0, 115411.0, 114952.0, 115503.0, 116610.0, 116188.0, 115961.0, 116710.0, 117928.0, 117026.0, 117035.0, 116906.0, 118108.0, 114376.0, 114475.0, 115164.0, 112825.0, 113148.0, 113467.0, 114631.0, 115562.0, 114723.0, 113769.0, 112134.0, 112574.0, 115371.0, 114801.0, 114132.0, 114381.0, 113532.0, 114774.0, 114379.0, 112661.0, 102984.0, 99951.0, 103779.0, 104405.0, 105042.0, 100536.0, 96886.0, 85880.0, 86071.0, 80796.0, 68488.0, 72621.0, 70855.0, 70783.0, 63547.0, 61691.0, 66120.0, 62161.0, 63604.0, 69360.0, 74923.0, 73057.0, 73184.0, 72385.0, 69569.0, 70957.0, 67802.0, 69556.0, 74078.0, 76115.0, 77457.0, 76405.0, 78848.0, 77546.0, 77452.0, 77754.0, 76943.0, 78973.0, 78622.0, 72041.0, 75327.0, 78243.0, 81313.0, 80168.0, 77640.0, 78886.0, 78056.0, 78061.0, 78152.0, 78994.0, 77872.0, 77152.0, 75697.0, 77426.0, 77571.0, 80647.0, 80740.0, 81317.0, 81669.0, 82193.0, 85396.0, 85468.0, 86767.0, 85384.0, 86837.0, 88622.0, 91048.0, 92221.0, 93839.0, 94635.0, 95386.0, 94665.0, 90811.0, 90148.0, 92387.0, 93531.0, 94698.0, 95874.0, 94869.0, 95344.0, 93259.0, 94152.0, 93514.0, 93825.0, 94806.0, 95062.0, 96052.0, 95803.0, 96768.0, 97272.0, 97765.0, 98861.0, 98739.0, 98697.0, 98289.0, 100444.0, 100160.0, 100554.0, 102744.0, 103732.0, 103277.0, 102119.0, 100859.0, 102381.0, 103592.0, 104112.0, 103920.0, 102642.0, 102304.0, 100005.0, 101220.0, 102733.0, 101957.0, 101282.0, 102174.0, 100698.0, 100187.0, 100445.0, 98513.0, 99597.0, 100800.0, 99131.0, 100412.0, 101525.0, 101623.0, 99359.0, 99857.0, 100631.0, 99369.0, 99382.0, 100872.0, 99751.0, 98961.0, 99373.0, 100050.0, 98687.0, 97758.0, 98367.0, 99647.0, 99663.0, 98562.0, 98045.0, 95820.0, 96390.0, 95728.0, 95653.0, 95632.0, 94371.0, 93408.0, 93584.0, 93599.0, 93897.0, 93984.0, 95211.0, 94881.0, 95530.0, 97161.0, 97336.0, 98501.0, 97778.0, 98309.0, 98310.0, 98664.0, 100149.0, 100457.0, 101188.0, 99762.0, 99414.0, 95369.0, 93387.0, 93559.0, 93968.0, 95987.0, 97872.0, 99837.0, 100954.0, 103453.0, 104143.0, 102034.0, 102509.0, 104729.0, 105847.0, 106217.0, 105545.0, 106050.0, 107361.0, 109315.0, 109418.0, 110161.0, 108829.0, 108897.0, 110579.0, 111874.0, 112294.0, 112629.0, 112820.0, 112567.0, 112732.0, 113949.0, 114431.0, 114613.0, 115496.0, 117856.0, 117639.0, 114730.0, 115648.0, 116636.0, 117805.0, 118750.0, 118919.0], \"name\": \"ticker\", \"open\": [76403.0, 77889.0, 77998.0, 78644.0, 79070.0, 79379.0, 78864.0, 78201.0, 79365.0, 79349.0, 79751.0, 79832.0, 81185.0, 80965.0, 81220.0, 81676.0, 80679.0, 80679.0, 83680.0, 85531.0, 84697.0, 84485.0, 84913.0, 85495.0, 84040.0, 81857.0, 83894.0, 82773.0, 81532.0, 83551.0, 84291.0, 84525.0, 84792.0, 85804.0, 86050.0, 86690.0, 87296.0, 87649.0, 86939.0, 85337.0, 85378.0, 85292.0, 86023.0, 85653.0, 85510.0, 84987.0, 86386.0, 86902.0, 86383.0, 86051.0, 84928.0, 84886.0, 83919.0, 84166.0, 84984.0, 84766.0, 84377.0, 85103.0, 83806.0, 83874.0, 85365.0, 84669.0, 84610.0, 84374.0, 85210.0, 84832.0, 83312.0, 84494.0, 85246.0, 85441.0, 84328.0, 82862.0, 84090.0, 85775.0, 85823.0, 85520.0, 85603.0, 85466.0, 85051.0, 86383.0, 86443.0, 86111.0, 84547.0, 83286.0, 83199.0, 82715.0, 82977.0, 84284.0, 85861.0, 85222.0, 85225.0, 85122.0, 86537.0, 83614.0, 83095.0, 81817.0, 82742.0, 80860.0, 80123.0, 78886.0, 75361.0, 76058.0, 76779.0, 77244.0, 78595.0, 76641.0, 76117.0, 73848.0, 72943.0, 72308.0, 72757.0, 72151.0, 71421.0, 70757.0, 69811.0, 71397.0, 72117.0, 70077.0, 70642.0, 70968.0, 71405.0, 70609.0, 71779.0, 72763.0, 72848.0, 73667.0, 74751.0, 74558.0, 75015.0, 74862.0, 74403.0, 75856.0, 76587.0, 76653.0, 78124.0, 77360.0, 77500.0, 78571.0, 78005.0, 79154.0, 80242.0, 79405.0, 79866.0, 80279.0, 79213.0, 79237.0, 79656.0, 81445.0, 81093.0, 80347.0, 79171.0, 78766.0, 76513.0, 77499.0, 78614.0, 77085.0, 76817.0, 76029.0, 76327.0, 75171.0, 76898.0, 75647.0, 76264.0, 77928.0, 77472.0, 78389.0, 76386.0, 76675.0, 76192.0, 74712.0, 75098.0, 76416.0, 76437.0, 74680.0, 75126.0, 74687.0, 75428.0, 76781.0, 78268.0, 78169.0, 78116.0, 79447.0, 77980.0, 78634.0, 78676.0, 80000.0, 79350.0, 78625.0, 81624.0, 83275.0, 82972.0, 82324.0, 86053.0, 86084.0, 83700.0, 82922.0, 83420.0, 85714.0, 85760.0, 83845.0, 84222.0, 85595.0, 85302.0, 83124.0, 84084.0, 85728.0, 83802.0, 86889.0, 87428.0, 88418.0, 89587.0, 88676.0, 87719.0, 85620.0, 85644.0, 85531.0, 84898.0, 85975.0, 88472.0, 87896.0, 87269.0, 87479.0, 86237.0, 85547.0, 87891.0, 89145.0, 89709.0, 89511.0, 89820.0, 88644.0, 88933.0, 88849.0, 88115.0, 85918.0, 86420.0, 86979.0, 87838.0, 87448.0, 86400.0, 86617.0, 85678.0, 85269.0, 85684.0, 85141.0, 85469.0, 87887.0, 91011.0, 91577.0, 91845.0, 91699.0, 92033.0, 93599.0, 93806.0, 93645.0, 94474.0, 94057.0, 94393.0, 95386.0, 96093.0, 96008.0, 95116.0, 96558.0, 97674.0, 95508.0, 95643.0, 96996.0, 97395.0, 97861.0, 98587.0, 98308.0, 94654.0, 94401.0, 95351.0, 94420.0, 96169.0, 95843.0, 98015.0, 97527.0, 96513.0, 97661.0, 96546.0, 96929.0, 97881.0, 97242.0, 97603.0, 97307.0, 95584.0, 94216.0, 94340.0, 95384.0, 98038.0, 97831.0, 98905.0, 98605.0, 99141.0, 99991.0, 99588.0, 98041.0, 96725.0, 93735.0, 93668.0, 95297.0, 91901.0, 94402.0, 95423.0, 96062.0, 95392.0, 94503.0, 96319.0, 97110.0, 97366.0, 96292.0, 95954.0, 94747.0, 92875.0, 93082.0, 94337.0, 93285.0, 94578.0, 94590.0, 95923.0, 95027.0, 96552.0, 96254.0, 96191.0, 96339.0, 95521.0, 95992.0, 95009.0, 94389.0, 95597.0, 94809.0, 94252.0, 91736.0, 92088.0, 91622.0, 90023.0, 90006.0, 91946.0, 94485.0, 94360.0, 93912.0, 93626.0, 94863.0, 96389.0, 96566.0, 97420.0, 97036.0, 97020.0, 97381.0, 96002.0, 97205.0, 97828.0, 97467.0, 98960.0, 98321.0, 98776.0, 98038.0, 97633.0, 99403.0, 100305.0, 102018.0, 102061.0, 100095.0, 100689.0, 100726.0, 100973.0, 101342.0, 100576.0, 102047.0, 103628.0, 104090.0, 104537.0, 105818.0, 105158.0, 103909.0, 103805.0, 103775.0, 103859.0, 104716.0, 103452.0, 103949.0, 103707.0, 102991.0, 102654.0, 102817.0, 103483.0, 102946.0, 101819.0, 102122.0, 102658.0, 100098.0, 102163.0, 102811.0, 104102.0, 103946.0, 101912.0, 103270.0, 100262.0, 99059.0, 99810.0, 99472.0, 99227.0, 101209.0, 100007.0, 97687.0, 96434.0, 97273.0, 98194.0, 100526.0, 101133.0, 100626.0, 99706.0, 101204.0, 102247.0, 102937.0, 103180.0, 103036.0, 104389.0, 104371.0, 103496.0, 103680.0, 104616.0, 104555.0, 104339.0, 104817.0, 104638.0, 103857.0, 104485.0, 105319.0, 105077.0, 104745.0, 104049.0, 101031.0, 101516.0, 102546.0, 100565.0, 100005.0, 101244.0, 101819.0, 103834.0, 104299.0, 104486.0, 105389.0, 105012.0, 104729.0, 107101.0, 107381.0, 107553.0, 106990.0, 107366.0, 108189.0, 107557.0, 108403.0, 107221.0, 108196.0, 108779.0, 108719.0, 108360.0, 109572.0, 107622.0, 108368.0, 106751.0, 106052.0, 106566.0, 106269.0, 105866.0, 107497.0, 108692.0, 108424.0, 107059.0, 107708.0, 108283.0, 108246.0, 108931.0, 108962.0, 110297.0, 110623.0, 111125.0, 110973.0, 110672.0, 110963.0, 112205.0, 112565.0, 111897.0, 112618.0, 114313.0, 115133.0, 115119.0, 115864.0, 117205.0, 116530.0, 115652.0, 118564.0, 117707.0, 116872.0, 116667.0, 116248.0, 115948.0, 115503.0, 117325.0, 117632.0, 116415.0, 116710.0, 118478.0, 118861.0, 117035.0, 118391.0, 119528.0, 118347.0, 114482.0, 116494.0, 115375.0, 115518.0, 113761.0, 114631.0, 115563.0, 116033.0, 115190.0, 113771.0, 112574.0, 115371.0, 116660.0, 115663.0, 114381.0, 115309.0, 114982.0, 116518.0, 114585.0, 105711.0, 102984.0, 104260.0, 106630.0, 105540.0, 107217.0, 102231.0, 97982.0, 86071.0, 92202.0, 85103.0, 72621.0, 82565.0, 71178.0, 74576.0, 66883.0, 68344.0, 67067.0, 63604.0, 69727.0, 74956.0, 77708.0, 73431.0, 74629.0, 73011.0, 70969.0, 72241.0, 69556.0, 74078.0, 76335.0, 78640.0, 77682.0, 78848.0, 79911.0, 78837.0, 77817.0, 78989.0, 78973.0, 80690.0, 79667.0, 75334.0, 78243.0, 81313.0, 83169.0, 80501.0, 78887.0, 79473.0, 79072.0, 78152.0, 80263.0, 79065.0, 77877.0, 77770.0, 79011.0, 77576.0, 81197.0, 80747.0, 81320.0, 83027.0, 82198.0, 85668.0, 85468.0, 87946.0, 86951.0, 87395.0, 88622.0, 91048.0, 92993.0, 93839.0, 94640.0, 97644.0, 96747.0, 94677.0, 92780.0, 92387.0, 93531.0, 95547.0, 96138.0, 96572.0, 95344.0, 95974.0, 94382.0, 95979.0, 93837.0, 95728.0, 95062.0, 96206.0, 96237.0, 96776.0, 98937.0, 97765.0, 99770.0, 99160.0, 100027.0, 98699.0, 100444.0, 101791.0, 100554.0, 102888.0, 104426.0, 104312.0, 104291.0, 102292.0, 102381.0, 104477.0, 104112.0, 105605.0, 105010.0, 102913.0, 102826.0, 101220.0, 102733.0, 104116.0, 102776.0, 103449.0, 102176.0, 102118.0, 100469.0, 101348.0, 99597.0, 102072.0, 100853.0, 101460.0, 101525.0, 102293.0, 102119.0, 100625.0, 100631.0, 102142.0, 99382.0, 102168.0, 101911.0, 100733.0, 101239.0, 100050.0, 101291.0, 98839.0, 98367.0, 100277.0, 100299.0, 99674.0, 100098.0, 98283.0, 96995.0, 97294.0, 95735.0, 97011.0, 97005.0, 94665.0, 93586.0, 94604.0, 95475.0, 94019.0, 96091.0, 95616.0, 95530.0, 97924.0, 97483.0, 98502.0, 99328.0, 99054.0, 98310.0, 98664.0, 100541.0, 100553.0, 101918.0, 101260.0, 101017.0, 99598.0, 95368.0, 96579.0, 93968.0, 95992.0, 97873.0, 100751.0, 100954.0, 103516.0, 105067.0, 104810.0, 102509.0, 104729.0, 106430.0, 107246.0, 106117.0, 106050.0, 107378.0, 109786.0, 110133.0, 110229.0, 110598.0, 108897.0, 111402.0, 111874.0, 112294.0, 113751.0, 113590.0, 113799.0, 113002.0, 115128.0, 115137.0, 114613.0, 116149.0, 117864.0, 118395.0, 118021.0, 115825.0, 116636.0, 117806.0, 119130.0, 119410.0], \"showlegend\": false, \"type\": \"candlestick\", \"x\": [\"2018-01-02T00:00:00\", \"2018-01-03T00:00:00\", \"2018-01-04T00:00:00\", \"2018-01-05T00:00:00\", \"2018-01-08T00:00:00\", \"2018-01-09T00:00:00\", \"2018-01-10T00:00:00\", \"2018-01-11T00:00:00\", \"2018-01-12T00:00:00\", \"2018-01-15T00:00:00\", \"2018-01-16T00:00:00\", \"2018-01-17T00:00:00\", \"2018-01-18T00:00:00\", \"2018-01-19T00:00:00\", \"2018-01-22T00:00:00\", \"2018-01-23T00:00:00\", \"2018-01-24T00:00:00\", \"2018-01-25T00:00:00\", \"2018-01-26T00:00:00\", \"2018-01-29T00:00:00\", \"2018-01-30T00:00:00\", \"2018-01-31T00:00:00\", \"2018-02-01T00:00:00\", \"2018-02-02T00:00:00\", \"2018-02-05T00:00:00\", \"2018-02-06T00:00:00\", \"2018-02-07T00:00:00\", \"2018-02-08T00:00:00\", \"2018-02-09T00:00:00\", \"2018-02-15T00:00:00\", \"2018-02-16T00:00:00\", \"2018-02-19T00:00:00\", \"2018-02-20T00:00:00\", \"2018-02-21T00:00:00\", \"2018-02-22T00:00:00\", \"2018-02-23T00:00:00\", \"2018-02-26T00:00:00\", \"2018-02-27T00:00:00\", \"2018-02-28T00:00:00\", \"2018-03-01T00:00:00\", \"2018-03-02T00:00:00\", \"2018-03-05T00:00:00\", \"2018-03-06T00:00:00\", \"2018-03-07T00:00:00\", \"2018-03-08T00:00:00\", \"2018-03-09T00:00:00\", \"2018-03-12T00:00:00\", \"2018-03-13T00:00:00\", \"2018-03-14T00:00:00\", \"2018-03-15T00:00:00\", \"2018-03-16T00:00:00\", \"2018-03-19T00:00:00\", \"2018-03-20T00:00:00\", \"2018-03-21T00:00:00\", \"2018-03-22T00:00:00\", \"2018-03-23T00:00:00\", \"2018-03-26T00:00:00\", \"2018-03-27T00:00:00\", \"2018-03-28T00:00:00\", \"2018-03-29T00:00:00\", \"2018-04-02T00:00:00\", \"2018-04-03T00:00:00\", \"2018-04-04T00:00:00\", \"2018-04-05T00:00:00\", \"2018-04-06T00:00:00\", \"2018-04-09T00:00:00\", \"2018-04-10T00:00:00\", \"2018-04-11T00:00:00\", \"2018-04-12T00:00:00\", \"2018-04-13T00:00:00\", \"2018-04-16T00:00:00\", \"2018-04-17T00:00:00\", \"2018-04-18T00:00:00\", \"2018-04-19T00:00:00\", \"2018-04-20T00:00:00\", \"2018-04-23T00:00:00\", \"2018-04-24T00:00:00\", \"2018-04-25T00:00:00\", \"2018-04-26T00:00:00\", \"2018-04-27T00:00:00\", \"2018-04-30T00:00:00\", \"2018-05-02T00:00:00\", \"2018-05-03T00:00:00\", \"2018-05-04T00:00:00\", \"2018-05-07T00:00:00\", \"2018-05-08T00:00:00\", \"2018-05-09T00:00:00\", \"2018-05-10T00:00:00\", \"2018-05-11T00:00:00\", \"2018-05-14T00:00:00\", \"2018-05-15T00:00:00\", \"2018-05-16T00:00:00\", \"2018-05-17T00:00:00\", \"2018-05-18T00:00:00\", \"2018-05-21T00:00:00\", \"2018-05-22T00:00:00\", \"2018-05-23T00:00:00\", \"2018-05-24T00:00:00\", \"2018-05-25T00:00:00\", \"2018-05-28T00:00:00\", \"2018-05-29T00:00:00\", \"2018-05-30T00:00:00\", \"2018-06-01T00:00:00\", \"2018-06-04T00:00:00\", \"2018-06-05T00:00:00\", \"2018-06-06T00:00:00\", \"2018-06-07T00:00:00\", \"2018-06-08T00:00:00\", \"2018-06-11T00:00:00\", \"2018-06-12T00:00:00\", \"2018-06-13T00:00:00\", \"2018-06-14T00:00:00\", \"2018-06-15T00:00:00\", \"2018-06-18T00:00:00\", \"2018-06-19T00:00:00\", \"2018-06-20T00:00:00\", \"2018-06-21T00:00:00\", \"2018-06-22T00:00:00\", \"2018-06-25T00:00:00\", \"2018-06-26T00:00:00\", \"2018-06-27T00:00:00\", \"2018-06-28T00:00:00\", \"2018-06-29T00:00:00\", \"2018-07-02T00:00:00\", \"2018-07-03T00:00:00\", \"2018-07-04T00:00:00\", \"2018-07-05T00:00:00\", \"2018-07-06T00:00:00\", \"2018-07-10T00:00:00\", \"2018-07-11T00:00:00\", \"2018-07-12T00:00:00\", \"2018-07-13T00:00:00\", \"2018-07-16T00:00:00\", \"2018-07-17T00:00:00\", \"2018-07-18T00:00:00\", \"2018-07-19T00:00:00\", \"2018-07-20T00:00:00\", \"2018-07-23T00:00:00\", \"2018-07-24T00:00:00\", \"2018-07-25T00:00:00\", \"2018-07-26T00:00:00\", \"2018-07-27T00:00:00\", \"2018-07-30T00:00:00\", \"2018-07-31T00:00:00\", \"2018-08-01T00:00:00\", \"2018-08-02T00:00:00\", \"2018-08-03T00:00:00\", \"2018-08-06T00:00:00\", \"2018-08-07T00:00:00\", \"2018-08-08T00:00:00\", \"2018-08-09T00:00:00\", \"2018-08-10T00:00:00\", \"2018-08-13T00:00:00\", \"2018-08-14T00:00:00\", \"2018-08-15T00:00:00\", \"2018-08-16T00:00:00\", \"2018-08-17T00:00:00\", \"2018-08-20T00:00:00\", \"2018-08-21T00:00:00\", \"2018-08-22T00:00:00\", \"2018-08-23T00:00:00\", \"2018-08-24T00:00:00\", \"2018-08-27T00:00:00\", \"2018-08-28T00:00:00\", \"2018-08-29T00:00:00\", \"2018-08-30T00:00:00\", \"2018-08-31T00:00:00\", \"2018-09-03T00:00:00\", \"2018-09-04T00:00:00\", \"2018-09-05T00:00:00\", \"2018-09-06T00:00:00\", \"2018-09-10T00:00:00\", \"2018-09-11T00:00:00\", \"2018-09-12T00:00:00\", \"2018-09-13T00:00:00\", \"2018-09-14T00:00:00\", \"2018-09-17T00:00:00\", \"2018-09-18T00:00:00\", \"2018-09-19T00:00:00\", \"2018-09-20T00:00:00\", \"2018-09-21T00:00:00\", \"2018-09-24T00:00:00\", \"2018-09-25T00:00:00\", \"2018-09-26T00:00:00\", \"2018-09-27T00:00:00\", \"2018-09-28T00:00:00\", \"2018-10-01T00:00:00\", \"2018-10-02T00:00:00\", \"2018-10-03T00:00:00\", \"2018-10-04T00:00:00\", \"2018-10-05T00:00:00\", \"2018-10-08T00:00:00\", \"2018-10-09T00:00:00\", \"2018-10-10T00:00:00\", \"2018-10-11T00:00:00\", \"2018-10-15T00:00:00\", \"2018-10-16T00:00:00\", \"2018-10-17T00:00:00\", \"2018-10-18T00:00:00\", \"2018-10-19T00:00:00\", \"2018-10-22T00:00:00\", \"2018-10-23T00:00:00\", \"2018-10-24T00:00:00\", \"2018-10-25T00:00:00\", \"2018-10-26T00:00:00\", \"2018-10-29T00:00:00\", \"2018-10-30T00:00:00\", \"2018-10-31T00:00:00\", \"2018-11-01T00:00:00\", \"2018-11-05T00:00:00\", \"2018-11-06T00:00:00\", \"2018-11-07T00:00:00\", \"2018-11-08T00:00:00\", \"2018-11-09T00:00:00\", \"2018-11-12T00:00:00\", \"2018-11-13T00:00:00\", \"2018-11-14T00:00:00\", \"2018-11-16T00:00:00\", \"2018-11-19T00:00:00\", \"2018-11-21T00:00:00\", \"2018-11-22T00:00:00\", \"2018-11-23T00:00:00\", \"2018-11-26T00:00:00\", \"2018-11-27T00:00:00\", \"2018-11-28T00:00:00\", \"2018-11-29T00:00:00\", \"2018-11-30T00:00:00\", \"2018-12-03T00:00:00\", \"2018-12-04T00:00:00\", \"2018-12-05T00:00:00\", \"2018-12-06T00:00:00\", \"2018-12-07T00:00:00\", \"2018-12-10T00:00:00\", \"2018-12-11T00:00:00\", \"2018-12-12T00:00:00\", \"2018-12-13T00:00:00\", \"2018-12-14T00:00:00\", \"2018-12-17T00:00:00\", \"2018-12-18T00:00:00\", \"2018-12-19T00:00:00\", \"2018-12-20T00:00:00\", \"2018-12-21T00:00:00\", \"2018-12-26T00:00:00\", \"2018-12-27T00:00:00\", \"2018-12-28T00:00:00\", \"2019-01-02T00:00:00\", \"2019-01-03T00:00:00\", \"2019-01-04T00:00:00\", \"2019-01-07T00:00:00\", \"2019-01-08T00:00:00\", \"2019-01-09T00:00:00\", \"2019-01-10T00:00:00\", \"2019-01-11T00:00:00\", \"2019-01-14T00:00:00\", \"2019-01-15T00:00:00\", \"2019-01-16T00:00:00\", \"2019-01-17T00:00:00\", \"2019-01-18T00:00:00\", \"2019-01-21T00:00:00\", \"2019-01-22T00:00:00\", \"2019-01-23T00:00:00\", \"2019-01-24T00:00:00\", \"2019-01-28T00:00:00\", \"2019-01-29T00:00:00\", \"2019-01-30T00:00:00\", \"2019-01-31T00:00:00\", \"2019-02-01T00:00:00\", \"2019-02-04T00:00:00\", \"2019-02-05T00:00:00\", \"2019-02-06T00:00:00\", \"2019-02-07T00:00:00\", \"2019-02-08T00:00:00\", \"2019-02-11T00:00:00\", \"2019-02-12T00:00:00\", \"2019-02-13T00:00:00\", \"2019-02-14T00:00:00\", \"2019-02-15T00:00:00\", \"2019-02-18T00:00:00\", \"2019-02-19T00:00:00\", \"2019-02-20T00:00:00\", \"2019-02-21T00:00:00\", \"2019-02-22T00:00:00\", \"2019-02-25T00:00:00\", \"2019-02-26T00:00:00\", \"2019-02-27T00:00:00\", \"2019-02-28T00:00:00\", \"2019-03-01T00:00:00\", \"2019-03-07T00:00:00\", \"2019-03-08T00:00:00\", \"2019-03-11T00:00:00\", \"2019-03-12T00:00:00\", \"2019-03-13T00:00:00\", \"2019-03-14T00:00:00\", \"2019-03-15T00:00:00\", \"2019-03-18T00:00:00\", \"2019-03-19T00:00:00\", \"2019-03-20T00:00:00\", \"2019-03-21T00:00:00\", \"2019-03-22T00:00:00\", \"2019-03-25T00:00:00\", \"2019-03-26T00:00:00\", \"2019-03-27T00:00:00\", \"2019-03-28T00:00:00\", \"2019-03-29T00:00:00\", \"2019-04-01T00:00:00\", \"2019-04-02T00:00:00\", \"2019-04-03T00:00:00\", \"2019-04-04T00:00:00\", \"2019-04-05T00:00:00\", \"2019-04-08T00:00:00\", \"2019-04-09T00:00:00\", \"2019-04-10T00:00:00\", \"2019-04-11T00:00:00\", \"2019-04-12T00:00:00\", \"2019-04-15T00:00:00\", \"2019-04-16T00:00:00\", \"2019-04-17T00:00:00\", \"2019-04-18T00:00:00\", \"2019-04-22T00:00:00\", \"2019-04-23T00:00:00\", \"2019-04-24T00:00:00\", \"2019-04-25T00:00:00\", \"2019-04-26T00:00:00\", \"2019-04-29T00:00:00\", \"2019-04-30T00:00:00\", \"2019-05-02T00:00:00\", \"2019-05-03T00:00:00\", \"2019-05-06T00:00:00\", \"2019-05-07T00:00:00\", \"2019-05-08T00:00:00\", \"2019-05-09T00:00:00\", \"2019-05-10T00:00:00\", \"2019-05-13T00:00:00\", \"2019-05-14T00:00:00\", \"2019-05-15T00:00:00\", \"2019-05-16T00:00:00\", \"2019-05-17T00:00:00\", \"2019-05-20T00:00:00\", \"2019-05-21T00:00:00\", \"2019-05-22T00:00:00\", \"2019-05-23T00:00:00\", \"2019-05-24T00:00:00\", \"2019-05-27T00:00:00\", \"2019-05-28T00:00:00\", \"2019-05-29T00:00:00\", \"2019-05-30T00:00:00\", \"2019-05-31T00:00:00\", \"2019-06-03T00:00:00\", \"2019-06-04T00:00:00\", \"2019-06-05T00:00:00\", \"2019-06-06T00:00:00\", \"2019-06-07T00:00:00\", \"2019-06-10T00:00:00\", \"2019-06-11T00:00:00\", \"2019-06-12T00:00:00\", \"2019-06-13T00:00:00\", \"2019-06-14T00:00:00\", \"2019-06-17T00:00:00\", \"2019-06-18T00:00:00\", \"2019-06-19T00:00:00\", \"2019-06-21T00:00:00\", \"2019-06-24T00:00:00\", \"2019-06-25T00:00:00\", \"2019-06-26T00:00:00\", \"2019-06-27T00:00:00\", \"2019-06-28T00:00:00\", \"2019-07-01T00:00:00\", \"2019-07-02T00:00:00\", \"2019-07-03T00:00:00\", \"2019-07-04T00:00:00\", \"2019-07-05T00:00:00\", \"2019-07-08T00:00:00\", \"2019-07-10T00:00:00\", \"2019-07-11T00:00:00\", \"2019-07-12T00:00:00\", \"2019-07-15T00:00:00\", \"2019-07-16T00:00:00\", \"2019-07-17T00:00:00\", \"2019-07-18T00:00:00\", \"2019-07-19T00:00:00\", \"2019-07-22T00:00:00\", \"2019-07-23T00:00:00\", \"2019-07-24T00:00:00\", \"2019-07-25T00:00:00\", \"2019-07-26T00:00:00\", \"2019-07-29T00:00:00\", \"2019-07-30T00:00:00\", \"2019-07-31T00:00:00\", \"2019-08-01T00:00:00\", \"2019-08-02T00:00:00\", \"2019-08-05T00:00:00\", \"2019-08-06T00:00:00\", \"2019-08-07T00:00:00\", \"2019-08-08T00:00:00\", \"2019-08-09T00:00:00\", \"2019-08-12T00:00:00\", \"2019-08-13T00:00:00\", \"2019-08-14T00:00:00\", \"2019-08-15T00:00:00\", \"2019-08-16T00:00:00\", \"2019-08-19T00:00:00\", \"2019-08-20T00:00:00\", \"2019-08-21T00:00:00\", \"2019-08-22T00:00:00\", \"2019-08-23T00:00:00\", \"2019-08-26T00:00:00\", \"2019-08-27T00:00:00\", \"2019-08-28T00:00:00\", \"2019-08-29T00:00:00\", \"2019-08-30T00:00:00\", \"2019-09-02T00:00:00\", \"2019-09-03T00:00:00\", \"2019-09-04T00:00:00\", \"2019-09-05T00:00:00\", \"2019-09-06T00:00:00\", \"2019-09-09T00:00:00\", \"2019-09-10T00:00:00\", \"2019-09-11T00:00:00\", \"2019-09-12T00:00:00\", \"2019-09-13T00:00:00\", \"2019-09-16T00:00:00\", \"2019-09-17T00:00:00\", \"2019-09-18T00:00:00\", \"2019-09-19T00:00:00\", \"2019-09-20T00:00:00\", \"2019-09-23T00:00:00\", \"2019-09-24T00:00:00\", \"2019-09-25T00:00:00\", \"2019-09-26T00:00:00\", \"2019-09-27T00:00:00\", \"2019-09-30T00:00:00\", \"2019-10-01T00:00:00\", \"2019-10-02T00:00:00\", \"2019-10-03T00:00:00\", \"2019-10-04T00:00:00\", \"2019-10-07T00:00:00\", \"2019-10-08T00:00:00\", \"2019-10-09T00:00:00\", \"2019-10-10T00:00:00\", \"2019-10-11T00:00:00\", \"2019-10-14T00:00:00\", \"2019-10-15T00:00:00\", \"2019-10-16T00:00:00\", \"2019-10-17T00:00:00\", \"2019-10-18T00:00:00\", \"2019-10-21T00:00:00\", \"2019-10-22T00:00:00\", \"2019-10-23T00:00:00\", \"2019-10-24T00:00:00\", \"2019-10-25T00:00:00\", \"2019-10-28T00:00:00\", \"2019-10-29T00:00:00\", \"2019-10-30T00:00:00\", \"2019-10-31T00:00:00\", \"2019-11-01T00:00:00\", \"2019-11-04T00:00:00\", \"2019-11-05T00:00:00\", \"2019-11-06T00:00:00\", \"2019-11-07T00:00:00\", \"2019-11-08T00:00:00\", \"2019-11-11T00:00:00\", \"2019-11-12T00:00:00\", \"2019-11-13T00:00:00\", \"2019-11-14T00:00:00\", \"2019-11-18T00:00:00\", \"2019-11-19T00:00:00\", \"2019-11-21T00:00:00\", \"2019-11-22T00:00:00\", \"2019-11-25T00:00:00\", \"2019-11-26T00:00:00\", \"2019-11-27T00:00:00\", \"2019-11-28T00:00:00\", \"2019-11-29T00:00:00\", \"2019-12-02T00:00:00\", \"2019-12-03T00:00:00\", \"2019-12-04T00:00:00\", \"2019-12-05T00:00:00\", \"2019-12-06T00:00:00\", \"2019-12-09T00:00:00\", \"2019-12-10T00:00:00\", \"2019-12-11T00:00:00\", \"2019-12-12T00:00:00\", \"2019-12-13T00:00:00\", \"2019-12-16T00:00:00\", \"2019-12-17T00:00:00\", \"2019-12-18T00:00:00\", \"2019-12-19T00:00:00\", \"2019-12-20T00:00:00\", \"2019-12-23T00:00:00\", \"2019-12-26T00:00:00\", \"2019-12-27T00:00:00\", \"2019-12-30T00:00:00\", \"2020-01-02T00:00:00\", \"2020-01-03T00:00:00\", \"2020-01-06T00:00:00\", \"2020-01-07T00:00:00\", \"2020-01-08T00:00:00\", \"2020-01-09T00:00:00\", \"2020-01-10T00:00:00\", \"2020-01-13T00:00:00\", \"2020-01-14T00:00:00\", \"2020-01-15T00:00:00\", \"2020-01-16T00:00:00\", \"2020-01-17T00:00:00\", \"2020-01-20T00:00:00\", \"2020-01-21T00:00:00\", \"2020-01-22T00:00:00\", \"2020-01-23T00:00:00\", \"2020-01-24T00:00:00\", \"2020-01-27T00:00:00\", \"2020-01-28T00:00:00\", \"2020-01-29T00:00:00\", \"2020-01-30T00:00:00\", \"2020-01-31T00:00:00\", \"2020-02-03T00:00:00\", \"2020-02-04T00:00:00\", \"2020-02-05T00:00:00\", \"2020-02-06T00:00:00\", \"2020-02-07T00:00:00\", \"2020-02-10T00:00:00\", \"2020-02-11T00:00:00\", \"2020-02-12T00:00:00\", \"2020-02-13T00:00:00\", \"2020-02-14T00:00:00\", \"2020-02-17T00:00:00\", \"2020-02-18T00:00:00\", \"2020-02-19T00:00:00\", \"2020-02-20T00:00:00\", \"2020-02-21T00:00:00\", \"2020-02-27T00:00:00\", \"2020-02-28T00:00:00\", \"2020-03-02T00:00:00\", \"2020-03-03T00:00:00\", \"2020-03-04T00:00:00\", \"2020-03-05T00:00:00\", \"2020-03-06T00:00:00\", \"2020-03-09T00:00:00\", \"2020-03-10T00:00:00\", \"2020-03-11T00:00:00\", \"2020-03-12T00:00:00\", \"2020-03-13T00:00:00\", \"2020-03-16T00:00:00\", \"2020-03-17T00:00:00\", \"2020-03-18T00:00:00\", \"2020-03-19T00:00:00\", \"2020-03-20T00:00:00\", \"2020-03-23T00:00:00\", \"2020-03-24T00:00:00\", \"2020-03-25T00:00:00\", \"2020-03-26T00:00:00\", \"2020-03-27T00:00:00\", \"2020-03-30T00:00:00\", \"2020-03-31T00:00:00\", \"2020-04-01T00:00:00\", \"2020-04-02T00:00:00\", \"2020-04-03T00:00:00\", \"2020-04-06T00:00:00\", \"2020-04-07T00:00:00\", \"2020-04-08T00:00:00\", \"2020-04-09T00:00:00\", \"2020-04-13T00:00:00\", \"2020-04-14T00:00:00\", \"2020-04-15T00:00:00\", \"2020-04-16T00:00:00\", \"2020-04-17T00:00:00\", \"2020-04-20T00:00:00\", \"2020-04-22T00:00:00\", \"2020-04-23T00:00:00\", \"2020-04-24T00:00:00\", \"2020-04-27T00:00:00\", \"2020-04-28T00:00:00\", \"2020-04-29T00:00:00\", \"2020-04-30T00:00:00\", \"2020-05-04T00:00:00\", \"2020-05-05T00:00:00\", \"2020-05-06T00:00:00\", \"2020-05-07T00:00:00\", \"2020-05-08T00:00:00\", \"2020-05-11T00:00:00\", \"2020-05-12T00:00:00\", \"2020-05-13T00:00:00\", \"2020-05-14T00:00:00\", \"2020-05-15T00:00:00\", \"2020-05-18T00:00:00\", \"2020-05-19T00:00:00\", \"2020-05-20T00:00:00\", \"2020-05-21T00:00:00\", \"2020-05-22T00:00:00\", \"2020-05-25T00:00:00\", \"2020-05-26T00:00:00\", \"2020-05-27T00:00:00\", \"2020-05-28T00:00:00\", \"2020-05-29T00:00:00\", \"2020-06-01T00:00:00\", \"2020-06-02T00:00:00\", \"2020-06-03T00:00:00\", \"2020-06-04T00:00:00\", \"2020-06-05T00:00:00\", \"2020-06-08T00:00:00\", \"2020-06-09T00:00:00\", \"2020-06-10T00:00:00\", \"2020-06-12T00:00:00\", \"2020-06-15T00:00:00\", \"2020-06-16T00:00:00\", \"2020-06-17T00:00:00\", \"2020-06-18T00:00:00\", \"2020-06-19T00:00:00\", \"2020-06-22T00:00:00\", \"2020-06-23T00:00:00\", \"2020-06-24T00:00:00\", \"2020-06-25T00:00:00\", \"2020-06-26T00:00:00\", \"2020-06-29T00:00:00\", \"2020-06-30T00:00:00\", \"2020-07-01T00:00:00\", \"2020-07-02T00:00:00\", \"2020-07-03T00:00:00\", \"2020-07-06T00:00:00\", \"2020-07-07T00:00:00\", \"2020-07-08T00:00:00\", \"2020-07-09T00:00:00\", \"2020-07-10T00:00:00\", \"2020-07-13T00:00:00\", \"2020-07-14T00:00:00\", \"2020-07-15T00:00:00\", \"2020-07-16T00:00:00\", \"2020-07-17T00:00:00\", \"2020-07-20T00:00:00\", \"2020-07-21T00:00:00\", \"2020-07-22T00:00:00\", \"2020-07-23T00:00:00\", \"2020-07-24T00:00:00\", \"2020-07-27T00:00:00\", \"2020-07-28T00:00:00\", \"2020-07-29T00:00:00\", \"2020-07-30T00:00:00\", \"2020-07-31T00:00:00\", \"2020-08-03T00:00:00\", \"2020-08-04T00:00:00\", \"2020-08-05T00:00:00\", \"2020-08-06T00:00:00\", \"2020-08-07T00:00:00\", \"2020-08-10T00:00:00\", \"2020-08-11T00:00:00\", \"2020-08-12T00:00:00\", \"2020-08-13T00:00:00\", \"2020-08-14T00:00:00\", \"2020-08-17T00:00:00\", \"2020-08-18T00:00:00\", \"2020-08-19T00:00:00\", \"2020-08-20T00:00:00\", \"2020-08-21T00:00:00\", \"2020-08-24T00:00:00\", \"2020-08-25T00:00:00\", \"2020-08-26T00:00:00\", \"2020-08-27T00:00:00\", \"2020-08-28T00:00:00\", \"2020-08-31T00:00:00\", \"2020-09-01T00:00:00\", \"2020-09-02T00:00:00\", \"2020-09-03T00:00:00\", \"2020-09-04T00:00:00\", \"2020-09-08T00:00:00\", \"2020-09-09T00:00:00\", \"2020-09-10T00:00:00\", \"2020-09-11T00:00:00\", \"2020-09-14T00:00:00\", \"2020-09-15T00:00:00\", \"2020-09-16T00:00:00\", \"2020-09-17T00:00:00\", \"2020-09-18T00:00:00\", \"2020-09-21T00:00:00\", \"2020-09-22T00:00:00\", \"2020-09-23T00:00:00\", \"2020-09-24T00:00:00\", \"2020-09-25T00:00:00\", \"2020-09-28T00:00:00\", \"2020-09-29T00:00:00\", \"2020-09-30T00:00:00\", \"2020-10-01T00:00:00\", \"2020-10-02T00:00:00\", \"2020-10-05T00:00:00\", \"2020-10-06T00:00:00\", \"2020-10-07T00:00:00\", \"2020-10-08T00:00:00\", \"2020-10-09T00:00:00\", \"2020-10-13T00:00:00\", \"2020-10-14T00:00:00\", \"2020-10-15T00:00:00\", \"2020-10-16T00:00:00\", \"2020-10-19T00:00:00\", \"2020-10-20T00:00:00\", \"2020-10-21T00:00:00\", \"2020-10-22T00:00:00\", \"2020-10-23T00:00:00\", \"2020-10-26T00:00:00\", \"2020-10-27T00:00:00\", \"2020-10-28T00:00:00\", \"2020-10-29T00:00:00\", \"2020-10-30T00:00:00\", \"2020-11-03T00:00:00\", \"2020-11-04T00:00:00\", \"2020-11-05T00:00:00\", \"2020-11-06T00:00:00\", \"2020-11-09T00:00:00\", \"2020-11-10T00:00:00\", \"2020-11-11T00:00:00\", \"2020-11-12T00:00:00\", \"2020-11-13T00:00:00\", \"2020-11-16T00:00:00\", \"2020-11-17T00:00:00\", \"2020-11-18T00:00:00\", \"2020-11-19T00:00:00\", \"2020-11-23T00:00:00\", \"2020-11-24T00:00:00\", \"2020-11-25T00:00:00\", \"2020-11-26T00:00:00\", \"2020-11-27T00:00:00\", \"2020-11-30T00:00:00\", \"2020-12-01T00:00:00\", \"2020-12-02T00:00:00\", \"2020-12-03T00:00:00\", \"2020-12-04T00:00:00\", \"2020-12-07T00:00:00\", \"2020-12-08T00:00:00\", \"2020-12-09T00:00:00\", \"2020-12-10T00:00:00\", \"2020-12-11T00:00:00\", \"2020-12-14T00:00:00\", \"2020-12-15T00:00:00\", \"2020-12-16T00:00:00\", \"2020-12-17T00:00:00\", \"2020-12-18T00:00:00\", \"2020-12-21T00:00:00\", \"2020-12-22T00:00:00\", \"2020-12-23T00:00:00\", \"2020-12-28T00:00:00\", \"2020-12-29T00:00:00\", \"2020-12-30T00:00:00\"]}],                        {\"template\": {\"data\": {\"bar\": [{\"error_x\": {\"color\": \"#2a3f5f\"}, \"error_y\": {\"color\": \"#2a3f5f\"}, \"marker\": {\"line\": {\"color\": \"#E5ECF6\", \"width\": 0.5}}, \"type\": \"bar\"}], \"barpolar\": [{\"marker\": {\"line\": {\"color\": \"#E5ECF6\", \"width\": 0.5}}, \"type\": \"barpolar\"}], \"carpet\": [{\"aaxis\": {\"endlinecolor\": \"#2a3f5f\", \"gridcolor\": \"white\", \"linecolor\": \"white\", \"minorgridcolor\": \"white\", \"startlinecolor\": \"#2a3f5f\"}, \"baxis\": {\"endlinecolor\": \"#2a3f5f\", \"gridcolor\": \"white\", \"linecolor\": \"white\", \"minorgridcolor\": \"white\", \"startlinecolor\": \"#2a3f5f\"}, \"type\": \"carpet\"}], \"choropleth\": [{\"colorbar\": {\"outlinewidth\": 0, \"ticks\": \"\"}, \"type\": \"choropleth\"}], \"contour\": [{\"colorbar\": {\"outlinewidth\": 0, \"ticks\": \"\"}, \"colorscale\": [[0.0, \"#0d0887\"], [0.1111111111111111, \"#46039f\"], [0.2222222222222222, \"#7201a8\"], [0.3333333333333333, \"#9c179e\"], [0.4444444444444444, \"#bd3786\"], [0.5555555555555556, \"#d8576b\"], [0.6666666666666666, \"#ed7953\"], [0.7777777777777778, \"#fb9f3a\"], [0.8888888888888888, \"#fdca26\"], [1.0, \"#f0f921\"]], \"type\": \"contour\"}], \"contourcarpet\": [{\"colorbar\": {\"outlinewidth\": 0, \"ticks\": \"\"}, \"type\": \"contourcarpet\"}], \"heatmap\": [{\"colorbar\": {\"outlinewidth\": 0, \"ticks\": \"\"}, \"colorscale\": [[0.0, \"#0d0887\"], [0.1111111111111111, \"#46039f\"], [0.2222222222222222, \"#7201a8\"], [0.3333333333333333, \"#9c179e\"], [0.4444444444444444, \"#bd3786\"], [0.5555555555555556, \"#d8576b\"], [0.6666666666666666, \"#ed7953\"], [0.7777777777777778, \"#fb9f3a\"], [0.8888888888888888, \"#fdca26\"], [1.0, \"#f0f921\"]], \"type\": \"heatmap\"}], \"heatmapgl\": [{\"colorbar\": {\"outlinewidth\": 0, \"ticks\": \"\"}, \"colorscale\": [[0.0, \"#0d0887\"], [0.1111111111111111, \"#46039f\"], [0.2222222222222222, \"#7201a8\"], [0.3333333333333333, \"#9c179e\"], [0.4444444444444444, \"#bd3786\"], [0.5555555555555556, \"#d8576b\"], [0.6666666666666666, \"#ed7953\"], [0.7777777777777778, \"#fb9f3a\"], [0.8888888888888888, \"#fdca26\"], [1.0, \"#f0f921\"]], \"type\": \"heatmapgl\"}], \"histogram\": [{\"marker\": {\"colorbar\": {\"outlinewidth\": 0, \"ticks\": \"\"}}, \"type\": \"histogram\"}], \"histogram2d\": [{\"colorbar\": {\"outlinewidth\": 0, \"ticks\": \"\"}, \"colorscale\": [[0.0, \"#0d0887\"], [0.1111111111111111, \"#46039f\"], [0.2222222222222222, \"#7201a8\"], [0.3333333333333333, \"#9c179e\"], [0.4444444444444444, \"#bd3786\"], [0.5555555555555556, \"#d8576b\"], [0.6666666666666666, \"#ed7953\"], [0.7777777777777778, \"#fb9f3a\"], [0.8888888888888888, \"#fdca26\"], [1.0, \"#f0f921\"]], \"type\": \"histogram2d\"}], \"histogram2dcontour\": [{\"colorbar\": {\"outlinewidth\": 0, \"ticks\": \"\"}, \"colorscale\": [[0.0, \"#0d0887\"], [0.1111111111111111, \"#46039f\"], [0.2222222222222222, \"#7201a8\"], [0.3333333333333333, \"#9c179e\"], [0.4444444444444444, \"#bd3786\"], [0.5555555555555556, \"#d8576b\"], [0.6666666666666666, \"#ed7953\"], [0.7777777777777778, \"#fb9f3a\"], [0.8888888888888888, \"#fdca26\"], [1.0, \"#f0f921\"]], \"type\": \"histogram2dcontour\"}], \"mesh3d\": [{\"colorbar\": {\"outlinewidth\": 0, \"ticks\": \"\"}, \"type\": \"mesh3d\"}], \"parcoords\": [{\"line\": {\"colorbar\": {\"outlinewidth\": 0, \"ticks\": \"\"}}, \"type\": \"parcoords\"}], \"pie\": [{\"automargin\": true, \"type\": \"pie\"}], \"scatter\": [{\"marker\": {\"colorbar\": {\"outlinewidth\": 0, \"ticks\": \"\"}}, \"type\": \"scatter\"}], \"scatter3d\": [{\"line\": {\"colorbar\": {\"outlinewidth\": 0, \"ticks\": \"\"}}, \"marker\": {\"colorbar\": {\"outlinewidth\": 0, \"ticks\": \"\"}}, \"type\": \"scatter3d\"}], \"scattercarpet\": [{\"marker\": {\"colorbar\": {\"outlinewidth\": 0, \"ticks\": \"\"}}, \"type\": \"scattercarpet\"}], \"scattergeo\": [{\"marker\": {\"colorbar\": {\"outlinewidth\": 0, \"ticks\": \"\"}}, \"type\": \"scattergeo\"}], \"scattergl\": [{\"marker\": {\"colorbar\": {\"outlinewidth\": 0, \"ticks\": \"\"}}, \"type\": \"scattergl\"}], \"scattermapbox\": [{\"marker\": {\"colorbar\": {\"outlinewidth\": 0, \"ticks\": \"\"}}, \"type\": \"scattermapbox\"}], \"scatterpolar\": [{\"marker\": {\"colorbar\": {\"outlinewidth\": 0, \"ticks\": \"\"}}, \"type\": \"scatterpolar\"}], \"scatterpolargl\": [{\"marker\": {\"colorbar\": {\"outlinewidth\": 0, \"ticks\": \"\"}}, \"type\": \"scatterpolargl\"}], \"scatterternary\": [{\"marker\": {\"colorbar\": {\"outlinewidth\": 0, \"ticks\": \"\"}}, \"type\": \"scatterternary\"}], \"surface\": [{\"colorbar\": {\"outlinewidth\": 0, \"ticks\": \"\"}, \"colorscale\": [[0.0, \"#0d0887\"], [0.1111111111111111, \"#46039f\"], [0.2222222222222222, \"#7201a8\"], [0.3333333333333333, \"#9c179e\"], [0.4444444444444444, \"#bd3786\"], [0.5555555555555556, \"#d8576b\"], [0.6666666666666666, \"#ed7953\"], [0.7777777777777778, \"#fb9f3a\"], [0.8888888888888888, \"#fdca26\"], [1.0, \"#f0f921\"]], \"type\": \"surface\"}], \"table\": [{\"cells\": {\"fill\": {\"color\": \"#EBF0F8\"}, \"line\": {\"color\": \"white\"}}, \"header\": {\"fill\": {\"color\": \"#C8D4E3\"}, \"line\": {\"color\": \"white\"}}, \"type\": \"table\"}]}, \"layout\": {\"annotationdefaults\": {\"arrowcolor\": \"#2a3f5f\", \"arrowhead\": 0, \"arrowwidth\": 1}, \"autotypenumbers\": \"strict\", \"coloraxis\": {\"colorbar\": {\"outlinewidth\": 0, \"ticks\": \"\"}}, \"colorscale\": {\"diverging\": [[0, \"#8e0152\"], [0.1, \"#c51b7d\"], [0.2, \"#de77ae\"], [0.3, \"#f1b6da\"], [0.4, \"#fde0ef\"], [0.5, \"#f7f7f7\"], [0.6, \"#e6f5d0\"], [0.7, \"#b8e186\"], [0.8, \"#7fbc41\"], [0.9, \"#4d9221\"], [1, \"#276419\"]], \"sequential\": [[0.0, \"#0d0887\"], [0.1111111111111111, \"#46039f\"], [0.2222222222222222, \"#7201a8\"], [0.3333333333333333, \"#9c179e\"], [0.4444444444444444, \"#bd3786\"], [0.5555555555555556, \"#d8576b\"], [0.6666666666666666, \"#ed7953\"], [0.7777777777777778, \"#fb9f3a\"], [0.8888888888888888, \"#fdca26\"], [1.0, \"#f0f921\"]], \"sequentialminus\": [[0.0, \"#0d0887\"], [0.1111111111111111, \"#46039f\"], [0.2222222222222222, \"#7201a8\"], [0.3333333333333333, \"#9c179e\"], [0.4444444444444444, \"#bd3786\"], [0.5555555555555556, \"#d8576b\"], [0.6666666666666666, \"#ed7953\"], [0.7777777777777778, \"#fb9f3a\"], [0.8888888888888888, \"#fdca26\"], [1.0, \"#f0f921\"]]}, \"colorway\": [\"#636efa\", \"#EF553B\", \"#00cc96\", \"#ab63fa\", \"#FFA15A\", \"#19d3f3\", \"#FF6692\", \"#B6E880\", \"#FF97FF\", \"#FECB52\"], \"font\": {\"color\": \"#2a3f5f\"}, \"geo\": {\"bgcolor\": \"white\", \"lakecolor\": \"white\", \"landcolor\": \"#E5ECF6\", \"showlakes\": true, \"showland\": true, \"subunitcolor\": \"white\"}, \"hoverlabel\": {\"align\": \"left\"}, \"hovermode\": \"closest\", \"mapbox\": {\"style\": \"light\"}, \"paper_bgcolor\": \"white\", \"plot_bgcolor\": \"#E5ECF6\", \"polar\": {\"angularaxis\": {\"gridcolor\": \"white\", \"linecolor\": \"white\", \"ticks\": \"\"}, \"bgcolor\": \"#E5ECF6\", \"radialaxis\": {\"gridcolor\": \"white\", \"linecolor\": \"white\", \"ticks\": \"\"}}, \"scene\": {\"xaxis\": {\"backgroundcolor\": \"#E5ECF6\", \"gridcolor\": \"white\", \"gridwidth\": 2, \"linecolor\": \"white\", \"showbackground\": true, \"ticks\": \"\", \"zerolinecolor\": \"white\"}, \"yaxis\": {\"backgroundcolor\": \"#E5ECF6\", \"gridcolor\": \"white\", \"gridwidth\": 2, \"linecolor\": \"white\", \"showbackground\": true, \"ticks\": \"\", \"zerolinecolor\": \"white\"}, \"zaxis\": {\"backgroundcolor\": \"#E5ECF6\", \"gridcolor\": \"white\", \"gridwidth\": 2, \"linecolor\": \"white\", \"showbackground\": true, \"ticks\": \"\", \"zerolinecolor\": \"white\"}}, \"shapedefaults\": {\"line\": {\"color\": \"#2a3f5f\"}}, \"ternary\": {\"aaxis\": {\"gridcolor\": \"white\", \"linecolor\": \"white\", \"ticks\": \"\"}, \"baxis\": {\"gridcolor\": \"white\", \"linecolor\": \"white\", \"ticks\": \"\"}, \"bgcolor\": \"#E5ECF6\", \"caxis\": {\"gridcolor\": \"white\", \"linecolor\": \"white\", \"ticks\": \"\"}}, \"title\": {\"x\": 0.05}, \"xaxis\": {\"automargin\": true, \"gridcolor\": \"white\", \"linecolor\": \"white\", \"ticks\": \"\", \"title\": {\"standoff\": 15}, \"zerolinecolor\": \"white\", \"zerolinewidth\": 2}, \"yaxis\": {\"automargin\": true, \"gridcolor\": \"white\", \"linecolor\": \"white\", \"ticks\": \"\", \"title\": {\"standoff\": 15}, \"zerolinecolor\": \"white\", \"zerolinewidth\": 2}}}},                        {\"responsive\": true}                    ).then(function(){\n",
              "                            \n",
              "var gd = document.getElementById('5b7f8f8c-ac0e-4b86-a1bd-8bde757536b1');\n",
              "var x = new MutationObserver(function (mutations, observer) {{\n",
              "        var display = window.getComputedStyle(gd).display;\n",
              "        if (!display || display === 'none') {{\n",
              "            console.log([gd, 'removed!']);\n",
              "            Plotly.purge(gd);\n",
              "            observer.disconnect();\n",
              "        }}\n",
              "}});\n",
              "\n",
              "// Listen for the removal of the full notebook cells\n",
              "var notebookContainer = gd.closest('#notebook-container');\n",
              "if (notebookContainer) {{\n",
              "    x.observe(notebookContainer, {childList: true});\n",
              "}}\n",
              "\n",
              "// Listen for the clearing of the current output cell\n",
              "var outputEl = gd.closest('.output');\n",
              "if (outputEl) {{\n",
              "    x.observe(outputEl, {childList: true});\n",
              "}}\n",
              "\n",
              "                        })                };                            </script>        </div>\n",
              "</body>\n",
              "</html>"
            ]
          },
          "metadata": {
            "tags": []
          }
        }
      ]
    }
  ]
}